{
 "cells": [
  {
   "cell_type": "code",
   "execution_count": 1,
   "id": "8e903ee5",
   "metadata": {
    "ExecuteTime": {
     "end_time": "2022-11-16T03:20:21.465451Z",
     "start_time": "2022-11-16T03:20:21.238887Z"
    }
   },
   "outputs": [],
   "source": [
    "import tekore as tk\n",
    "import base64\n",
    "import requests\n",
    "import datetime\n",
    "from urllib.parse import urlencode\n",
    "from inspect import signature\n",
    "import json\n",
    "import time"
   ]
  },
  {
   "cell_type": "code",
   "execution_count": 2,
   "id": "c5ee5454",
   "metadata": {
    "ExecuteTime": {
     "end_time": "2022-11-16T03:20:29.400237Z",
     "start_time": "2022-11-16T03:20:22.467609Z"
    }
   },
   "outputs": [
    {
     "name": "stdout",
     "output_type": "stream",
     "text": [
      "Opening browser for Spotify login...\n",
      "Please paste redirect URL: https://github.com/Owl1y/Spotify-Plalylist-Search?code=AQBtPE6KrU6G5a_Uwsbvx2EZwZZUoH_01qd8sof2okGJS6a12ffpOYugEwKudjSHGGe2vESionm1sjmn2qnFIKpkKXEHkskakve6LMlaR7OLVuoTfQHlKMa_q6NoKPhA5jqFKjq0iloIroBL_3rVBoLfl4yENEpB_66oOsb6-c_sAXfPAgqc9UoALXrLGdpu1s1_W9I&state=9TV4xSgLdN9xN5cEDeotaT8F9xW2t7cGiERAQQZP7fY\n"
     ]
    }
   ],
   "source": [
    "# Verifying identification of users\n",
    "\n",
    "with open(\"client_nums.txt\", \"r\") as client_nums:\n",
    "    lines = client_nums.readlines()\n",
    "    lines = [line.rstrip() for line in lines]\n",
    "\n",
    "client_id = lines[0]\n",
    "client_secret = lines[1]\n",
    "redirect_uri = \"https://github.com/Owl1y/Spotify-Plalylist-Search\"\n",
    "conf = (client_id, client_secret, redirect_uri)\n",
    "\n",
    "scoped = tk.scope.playlist_read_collaborative + tk.scope.playlist_read_private\n",
    "token = tk.prompt_for_user_token(*conf)\n",
    "client = tk.Spotify(token)"
   ]
  },
  {
   "cell_type": "code",
   "execution_count": 3,
   "id": "6790f0c9",
   "metadata": {
    "ExecuteTime": {
     "end_time": "2022-11-16T03:20:41.675323Z",
     "start_time": "2022-11-16T03:20:32.057076Z"
    },
    "scrolled": true
   },
   "outputs": [
    {
     "name": "stdout",
     "output_type": "stream",
     "text": [
      "(0, 'your life bro')\n",
      "(1, 'Graduation')\n",
      "(2, 'Memes ')\n",
      "(3, 'μμ')\n",
      "(4, '3.14')\n",
      "(5, 'bruv')\n",
      "Enter the associated number to the playlist you want analyzed(seperated by spaces): 0\n",
      "Number of list is:  [0]\n",
      "{\n",
      "  \"The Return of Chip Douglas - Demo\": \"Kid Cudi\",\n",
      "  \"Momsong\": \"Old Spice\",\n",
      "  \"Call It Fate, Call It Karma\": \"The Strokes\",\n",
      "  \"D\\u00edmelo\": \"Enrique Iglesias\",\n",
      "  \"Daddy Wasn't There (feat. Austin Powers) - From The Motion Picture: Austin Powers In Goldmember\": \"Ming Tea\",\n",
      "  \"Just A Stranger (feat. Steve Lacy)\": \"Kali Uchis\",\n",
      "  \"Raydar\": \"JID\",\n",
      "  \"American Psycho II\": \"D12\",\n",
      "  \"Silver Soul\": \"Beach House\",\n",
      "  \"Headlines\": \"Drake\",\n",
      "  \"Dead To Me\": \"Kali Uchis\",\n",
      "  \"Man It Feels Like Space Again\": \"Pond\",\n",
      "  \"Esta luz nunca se apagar\\u00e1 - There Is a Light That Never Goes Out\": \"Mikel Erentxun\",\n",
      "  \"23\": \"Mike WiLL Made-It\",\n",
      "  \"A Gangster's Wife\": \"Ms Krazie\",\n",
      "  \"Pretty Girl\": \"Clairo\",\n",
      "  \"Dogs\": \"Pink Floyd\",\n",
      "  \"In the Aeroplane Over the Sea\": \"Neutral Milk Hotel\",\n",
      "  \"Creep\": \"Stone Temple Pilots\",\n",
      "  \"Be Quiet and Drive (Far Away)\": \"Deftones\",\n",
      "  \"Sir Duke\": \"Stevie Wonder\",\n",
      "  \"Billy y las Botas\": \"Se\\u00f1or Wooly\",\n",
      "  \"Girl Next Door\": \"Copperpot\",\n",
      "  \"Bendita Tu Luz\": \"Man\\u00e1\",\n",
      "  \"Solitude\": \"Billie Holiday\",\n",
      "  \"OKRA\": \"Tyler, The Creator\",\n",
      "  \"My Cloud\": \"Joe Bataan\",\n",
      "  \"Someone To Spend Time With\": \"Los Retros\",\n",
      "  \"Dreamin' of Your Love 2012\": \"The WRLDFMS Tony Williams\",\n",
      "  \"Everybody (Backstreet's Back) - Extended Version\": \"Backstreet Boys\",\n",
      "  \"My Girl\": \"The Temptations\",\n",
      "  \"1Train (feat. Kendrick Lamar, Joey Bada$$, Yelawolf, Danny Brown, Action Bronson & Big K.R.I.T.)\": \"A$AP Rocky\",\n",
      "  \"Telescope\": \"Cage The Elephant\",\n",
      "  \"Matador\": \"The Buttertones\",\n",
      "  \"Poncho & Lefty\": \"Townes Van Zandt\",\n",
      "  \"Hope\": \"Jack Johnson\",\n",
      "  \"Milli\": \"DaBaby\",\n",
      "  \"Que Sea Mi Condena\": \"Juan Gabriel\",\n",
      "  \"Money\": \"JID\",\n",
      "  \"ALieNNatioN\": \"The Voidz\",\n",
      "  \"IDC\": \"Jordan Ward\",\n",
      "  \"Dream\": \"Al Green\",\n",
      "  \"My Song\": \"Labi Siffre\",\n",
      "  \"Girls, Girls, Girls\": \"JAY-Z\",\n",
      "  \"Monster Mash\": \"Bobby \\\"Boris\\\" Pickett\",\n",
      "  \"Birds Dont Sing\": \"TV Girl\",\n",
      "  \"THE SUN (Prod. Gesaffelstein)\": \"KayCyy\",\n",
      "  \"Clay Pigeons\": \"Michael Cera\",\n",
      "  \"Slump\": \"Outkast\",\n",
      "  \"Starman - 2012 Remaster\": \"David Bowie\",\n",
      "  \"Because Of You - Remix\": \"Ne-Yo\",\n",
      "  \"Scott Mescudi Vs. The World\": \"Kid Cudi\",\n",
      "  \"Hey Julie! (feat. Lil Yachty)\": \"KYLE\",\n",
      "  \"Puffer\": \"Cautious Clay\",\n",
      "  \"The Way I Are\": \"Timbaland\",\n",
      "  \"through the late night\": \"Travis Scott\",\n",
      "  \"Land of Tha Heartless\": \"Bone Thugs-N-Harmony\",\n",
      "  \"Te Para 3 - MTV Unplugged\": \"Soda Stereo\",\n",
      "  \"Donchano\": \"Steve Lacy\",\n",
      "  \"Kill Yourself (Part III)\": \"$uicideboy$\",\n",
      "  \"STATS\": \"Baby Keem\",\n",
      "  \"Slob On My Nob (feat. Project Pat)\": \"Tear Da Club Up Thugs\",\n",
      "  \"Star Catcher\": \"Vansire\",\n",
      "  \"Love On The Brain\": \"Rihanna\",\n",
      "  \"Drowning (feat. Kodak Black)\": \"A Boogie Wit da Hoodie\",\n",
      "  \"\\u61a7\\u308c\\u306e\\u30bb\\u30fc\\u30b7\\u30a7\\u30eb\\u8af8\\u5cf6\": \"Masayoshi Takanaka\",\n",
      "  \"rises the moon\": \"Liana Flores\",\n",
      "  \"naked freestyle\": \"Baby Keem\",\n",
      "  \"More Today Than Yesterday\": \"The Spiral Starecase\",\n",
      "  \"Epitaph - Including \\\"March for No Reason\\\" and \\\"Tomorrow and Tomorrow\\\"\": \"King Crimson\",\n",
      "  \"Birds & The Beez\": \"ScHoolboy Q\",\n",
      "  \"Lamento Boliviano\": \"Los Enanitos Verdes\",\n",
      "  \"Nothing Between Us - Live\": \"Sweet Cambodia\",\n",
      "  \"Consequential Apathy\": \"Rx Bandits\",\n",
      "  \"Louphoria (with Cruza)\": \"Smino\",\n",
      "  \"Rosas\": \"La Oreja de Van Gogh\",\n",
      "  \"girlfriend\": \"hemlocke springs\",\n",
      "  \"Revenge\": \"XXXTENTACION\",\n",
      "  \"Yo Soy Cubano\": \"The Chakachas\"\n",
      "}\n"
     ]
    }
   ],
   "source": [
    "user_id = \"https://open.spotify.com/user/2153lsupa5hschcs774poensq?si=765b0985ebdc45c1\"\n",
    "user_id_cut = user_id[30:55]\n",
    "spotify = tk.Spotify(token)\n",
    "playlist = spotify.playlists(user_id_cut)\n",
    "client = tk.Spotify(token)\n",
    "\n",
    "\n",
    "users_playlist = {}\n",
    "for collections in playlist.items:\n",
    "    users_playlist[collections.name] = collections.id\n",
    "\n",
    "list_of_keys = list(users_playlist.keys())\n",
    "\n",
    "for stuff in enumerate(list_of_keys):\n",
    "    print(stuff)\n",
    "    \n",
    "x = [int(x) for x in input(\"Enter the associated number to the playlist you want analyzed(seperated by spaces): \").split()]\n",
    "print(\"Number of list is: \", x) \n",
    "\n",
    "wanted_playlist = []\n",
    "for playlist_titles in x:\n",
    "    wanted_scan_playlist = users_playlist[list_of_keys[playlist_titles]]\n",
    "    #print(users_playlist[list_of_keys[playlist_titles]])\n",
    "    wanted_playlist.append(wanted_scan_playlist)\n",
    "    \n",
    "def get_the_playlists_info(the_playlist):\n",
    "    play_offset =0\n",
    "    playlist_info = {}   \n",
    "    \n",
    "    playlist_songs = client.playlist_items(the_playlist, as_tracks=False, offset=play_offset)\n",
    "    full_list = playlist_songs.total\n",
    "\n",
    "    while full_list != len(playlist_info):\n",
    "        for songs in playlist_songs.items:\n",
    "            song_name = songs.track.name\n",
    "            song_artist = songs.track.artists[0].name\n",
    "            playlist_info.update({song_name: song_artist})\n",
    "        play_offset+=100\n",
    "        playlist_songs = client.playlist_items(the_playlist, as_tracks=False, offset=play_offset)\n",
    "    return playlist_info\n",
    "\n",
    "final_play_dict = {}\n",
    "for i in wanted_playlist:\n",
    "    partial_play_dict = get_the_playlists_info(i)\n",
    "    final_play_dict |= partial_play_dict\n",
    "\n",
    "print(json.dumps(final_play_dict, indent=2))\n"
   ]
  },
  {
   "cell_type": "code",
   "execution_count": null,
   "id": "2b21a1c3",
   "metadata": {},
   "outputs": [],
   "source": []
  }
 ],
 "metadata": {
  "kernelspec": {
   "display_name": "Python 3 (ipykernel)",
   "language": "python",
   "name": "python3"
  },
  "language_info": {
   "codemirror_mode": {
    "name": "ipython",
    "version": 3
   },
   "file_extension": ".py",
   "mimetype": "text/x-python",
   "name": "python",
   "nbconvert_exporter": "python",
   "pygments_lexer": "ipython3",
   "version": "3.10.8"
  },
  "varInspector": {
   "cols": {
    "lenName": 16,
    "lenType": 16,
    "lenVar": 40
   },
   "kernels_config": {
    "python": {
     "delete_cmd_postfix": "",
     "delete_cmd_prefix": "del ",
     "library": "var_list.py",
     "varRefreshCmd": "print(var_dic_list())"
    },
    "r": {
     "delete_cmd_postfix": ") ",
     "delete_cmd_prefix": "rm(",
     "library": "var_list.r",
     "varRefreshCmd": "cat(var_dic_list()) "
    }
   },
   "types_to_exclude": [
    "module",
    "function",
    "builtin_function_or_method",
    "instance",
    "_Feature"
   ],
   "window_display": false
  }
 },
 "nbformat": 4,
 "nbformat_minor": 5
}
