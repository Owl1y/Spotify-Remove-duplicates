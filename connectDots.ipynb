{
 "cells": [
  {
   "cell_type": "code",
   "execution_count": null,
   "id": "8e903ee5",
   "metadata": {
    "ExecuteTime": {
     "end_time": "2022-11-16T03:20:21.465451Z",
     "start_time": "2022-11-16T03:20:21.238887Z"
    }
   },
   "outputs": [],
   "source": [
    "import tekore as tk\n",
    "import base64\n",
    "import requests\n",
    "import datetime\n",
    "from urllib.parse import urlencode\n",
    "from inspect import signature\n",
    "import json\n",
    "import time"
   ]
  },
  {
   "cell_type": "code",
   "execution_count": null,
   "id": "c5ee5454",
   "metadata": {
    "ExecuteTime": {
     "end_time": "2022-11-16T03:20:29.400237Z",
     "start_time": "2022-11-16T03:20:22.467609Z"
    }
   },
   "outputs": [],
   "source": [
    "# Verifying identification of users\n",
    "\n",
    "with open(\"client_nums.txt\", \"r\") as client_nums:\n",
    "    lines = client_nums.readlines()\n",
    "    lines = [line.rstrip() for line in lines]\n",
    "\n",
    "client_id = lines[0]\n",
    "client_secret = lines[1]\n",
    "redirect_uri = \"https://github.com/Owl1y/Spotify-Plalylist-Search\"\n",
    "conf = (client_id, client_secret, redirect_uri)\n",
    "\n",
    "scoped = tk.scope.playlist_read_collaborative + tk.scope.playlist_read_private\n",
    "token = tk.prompt_for_user_token(*conf)\n",
    "client = tk.Spotify(token)"
   ]
  },
  {
   "cell_type": "code",
   "execution_count": null,
   "id": "6790f0c9",
   "metadata": {
    "ExecuteTime": {
     "end_time": "2022-11-16T03:20:41.675323Z",
     "start_time": "2022-11-16T03:20:32.057076Z"
    }
   },
   "outputs": [],
   "source": [
    "user_id = \"https://open.spotify.com/user/2153lsupa5hschcs774poensq?si=765b0985ebdc45c1\"\n",
    "user_id_cut = user_id[30:55]\n",
    "spotify = tk.Spotify(token)\n",
    "playlist = spotify.playlists(user_id_cut)\n",
    "client = tk.Spotify(token)\n",
    "\n",
    "\n",
    "users_playlist = {}\n",
    "for collections in playlist.items:\n",
    "    users_playlist[collections.name] = collections.id\n",
    "\n",
    "list_of_keys = list(users_playlist.keys())\n",
    "\n",
    "for stuff in enumerate(list_of_keys):\n",
    "    print(stuff)\n",
    "    \n",
    "x = [int(x) for x in input(\"Enter the associated number to the playlist you want analyzed(seperated by spaces): \").split()]\n",
    "print(\"Number of list is: \", x) \n",
    "\n",
    "wanted_playlist = []\n",
    "for playlist_titles in x:\n",
    "    wanted_scan_playlist = users_playlist[list_of_keys[playlist_titles]]\n",
    "    #print(users_playlist[list_of_keys[playlist_titles]])\n",
    "    wanted_playlist.append(wanted_scan_playlist)\n",
    "    \n",
    "def get_the_playlists_info(the_playlist):\n",
    "    play_offset =0\n",
    "    playlist_info = {}   \n",
    "    \n",
    "    playlist_songs = client.playlist_items(the_playlist, as_tracks=False, offset=play_offset)\n",
    "    full_list = playlist_songs.total\n",
    "\n",
    "    while full_list != len(playlist_info):\n",
    "        for songs in playlist_songs.items:\n",
    "            song_name = songs.track.name\n",
    "            song_artist = songs.track.artists[0].name\n",
    "            playlist_info.update({song_name: song_artist})\n",
    "        play_offset+=100\n",
    "        playlist_songs = client.playlist_items(the_playlist, as_tracks=False, offset=play_offset)\n",
    "    return playlist_info\n",
    "\n",
    "final_play_dict = {}\n",
    "for i in wanted_playlist:\n",
    "    partial_play_dict = get_the_playlists_info(i)\n",
    "    final_play_dict |= partial_play_dict\n",
    "\n",
    "print(json.dumps(final_play_dict, indent=2))\n"
   ]
  },
  {
   "cell_type": "code",
   "execution_count": null,
   "id": "2b21a1c3",
   "metadata": {},
   "outputs": [],
   "source": []
  }
 ],
 "metadata": {
  "kernelspec": {
   "display_name": "Python 3 (ipykernel)",
   "language": "python",
   "name": "python3"
  },
  "language_info": {
   "codemirror_mode": {
    "name": "ipython",
    "version": 3
   },
   "file_extension": ".py",
   "mimetype": "text/x-python",
   "name": "python",
   "nbconvert_exporter": "python",
   "pygments_lexer": "ipython3",
   "version": "3.10.9"
  },
  "varInspector": {
   "cols": {
    "lenName": 16,
    "lenType": 16,
    "lenVar": 40
   },
   "kernels_config": {
    "python": {
     "delete_cmd_postfix": "",
     "delete_cmd_prefix": "del ",
     "library": "var_list.py",
     "varRefreshCmd": "print(var_dic_list())"
    },
    "r": {
     "delete_cmd_postfix": ") ",
     "delete_cmd_prefix": "rm(",
     "library": "var_list.r",
     "varRefreshCmd": "cat(var_dic_list()) "
    }
   },
   "types_to_exclude": [
    "module",
    "function",
    "builtin_function_or_method",
    "instance",
    "_Feature"
   ],
   "window_display": false
  }
 },
 "nbformat": 4,
 "nbformat_minor": 5
}
