{
 "cells": [
  {
   "cell_type": "code",
   "execution_count": 4,
   "id": "2c2f6af2",
   "metadata": {
    "ExecuteTime": {
     "end_time": "2023-01-12T21:58:44.113788Z",
     "start_time": "2023-01-12T21:58:43.899245Z"
    }
   },
   "outputs": [],
   "source": [
    "import tekore as tk\n",
    "import json\n",
    "import random"
   ]
  },
  {
   "cell_type": "code",
   "execution_count": 5,
   "id": "3f8f4e82",
   "metadata": {
    "ExecuteTime": {
     "end_time": "2023-01-12T21:58:54.671610Z",
     "start_time": "2023-01-12T21:58:44.902267Z"
    },
    "code_folding": [
     0
    ],
    "tags": []
   },
   "outputs": [
    {
     "name": "stdout",
     "output_type": "stream",
     "text": [
      "Opening browser for Spotify login...\n",
      "Please paste redirect URL: https://github.com/Owl1y/Spotify-Plalylist-Search?code=AQBpDSkFqVXUTda6nLDjtMp87HPHzj4t_R3K8BlnidvC07dE5HIkbf304SeqQV77HNaHxZ8CephbVBelE5oLoWGv-F78syPLM6FauoJuu248DclAxiHMEl83pMvtT9Dsi8mIZ837g11gll-b-nEJu7IZoFR4B0C7U53DfVceIufQpK8Gc6t-kuDjrXMHEQxK8ul9Fxe2T4FunjXV46tnuxJ6EWbTKJOSttCGwVU-BsmOwu6kAOF6IeppD2FMV3AWd0-tdN3U8-4fVQq7ABD-fXYLYsK-0I_UPvzqHMAht7zM&state=MsbubAkL1nf5piFDuL7cTlZBnWEkajYnaGvaiIrDNeA\n"
     ]
    }
   ],
   "source": [
    "with open(\"client_nums.txt\", \"r\") as client_nums:\n",
    "    lines = client_nums.readlines()\n",
    "    lines = [line.rstrip() for line in lines]\n",
    "\n",
    "user_id = \"https://open.spotify.com/user/2153lsupa5hschcs774poensq?si=765b0985ebdc45c1\"\n",
    "user_id_cut = user_id[30:55]\n",
    "\n",
    "client_id = lines[0]\n",
    "client_secret = lines[1]\n",
    "redirect_uri = \"https://github.com/Owl1y/Spotify-Plalylist-Search\"\n",
    "conf = (client_id, client_secret, redirect_uri)\n",
    "\n",
    "scoped = tk.scope.playlist_read_collaborative + tk.scope.playlist_read_private + tk.scope.playlist_modify_public\n",
    "token = tk.prompt_for_user_token(*conf, scope=scoped)\n",
    "\n",
    "#spotify = tk.Spotify(token)\n",
    "client = tk.Spotify(token)\n",
    "playlist = client.playlists(user_id_cut)\n"
   ]
  },
  {
   "cell_type": "code",
   "execution_count": 6,
   "id": "2282c360",
   "metadata": {
    "ExecuteTime": {
     "end_time": "2023-01-12T21:58:56.785181Z",
     "start_time": "2023-01-12T21:58:56.771660Z"
    },
    "code_folding": [
     1,
     20
    ]
   },
   "outputs": [],
   "source": [
    "# function cells\n",
    "def get_playlist_info(the_playlist):\n",
    "    song_ids = []\n",
    "    play_offset =0\n",
    "    playlist_info = {}   \n",
    "    \n",
    "    playlist_songs = client.playlist_items(the_playlist, as_tracks=False, offset=play_offset)\n",
    "    full_list = playlist_songs.total\n",
    "\n",
    "    while full_list != len(playlist_info):\n",
    "        for songs in playlist_songs.items:\n",
    "            song_name = songs.track.name\n",
    "            song_artist = songs.track.artists[0].name\n",
    "            song_id = songs.track.uri\n",
    "            song_ids.append(song_id)\n",
    "            playlist_info.update({song_name: song_artist})\n",
    "        play_offset+=100\n",
    "        playlist_songs = client.playlist_items(the_playlist, as_tracks=False, offset=play_offset)\n",
    "    return playlist_info, song_ids\n",
    "\n",
    "def get_song_ids(the_playlist):\n",
    "    song_ids = []\n",
    "    play_offset =0 \n",
    "    \n",
    "    playlist_songs = client.playlist_items(the_playlist, as_tracks=False, offset=play_offset)\n",
    "    full_list = playlist_songs.total\n",
    "\n",
    "    while full_list != len(song_ids):\n",
    "        for songs in playlist_songs.items:\n",
    "            song_id = songs.track.uri\n",
    "            song_ids.append(song_id)\n",
    "            #print(song_id)\n",
    "        play_offset+=100\n",
    "        playlist_songs = client.playlist_items(the_playlist, as_tracks=False, offset=play_offset)\n",
    "    return song_ids\n"
   ]
  },
  {
   "cell_type": "code",
   "execution_count": 26,
   "id": "0cf4f85b",
   "metadata": {
    "ExecuteTime": {
     "end_time": "2023-01-12T23:20:36.135585Z",
     "start_time": "2023-01-12T23:20:36.133177Z"
    }
   },
   "outputs": [],
   "source": [
    "former_playlist = ['7IHZvZIusTuJNMcKleSWwd', \n",
    "                   '6fYjLM7ESHGrh5N9SvzVGB', \n",
    "                   '77sj0Sh0vzMlWnV7SlqkLu', \n",
    "                   '40daaNzvSSvYGIZhqX7HsR', \n",
    "                   '26ZzwXAOlKTvsVjQcQd4gm', \n",
    "                   '7jXzoKibDwt7yYaoU3uPdF', \n",
    "                   '0AFQ3bdD6zCyXda4FOwp39']\n",
    "\n",
    "current_playlist = ['5TMatpArr9xKImvUHGydS8']\n",
    "\n",
    "# godder than a mug--> 5TMatpArr9xKImvUHGydS8"
   ]
  },
  {
   "cell_type": "code",
   "execution_count": 39,
   "id": "f4e64644",
   "metadata": {
    "ExecuteTime": {
     "end_time": "2023-01-13T06:55:55.090670Z",
     "start_time": "2023-01-13T06:55:50.582342Z"
    },
    "scrolled": false
   },
   "outputs": [
    {
     "name": "stdout",
     "output_type": "stream",
     "text": [
      "['spotify:track:01z2fBGB8Hl3Jd3zXe4IXR']\n",
      "[]\n",
      "[]\n",
      "[]\n",
      "[]\n",
      "[]\n",
      "[]\n"
     ]
    }
   ],
   "source": [
    "# get uri's from current playlist\n",
    "\n",
    "current_pl_uris = get_song_ids(current_playlist[0])\n",
    "\n",
    "#print(current_pl_uris)\n",
    "#print(current_pl_uris)\n",
    "\n",
    "# get uri's from previous playlist\n",
    "#duplicate_uris = []\n",
    "for nums in former_playlist:\n",
    "    former_pl_uris = get_song_ids(nums)\n",
    "    duplicate_uris = [songs for songs in former_pl_uris if songs in current_pl_uris]\n",
    "    client.playlist_remove(current_playlist[0], duplicate_uris)\n",
    "    \n",
    "    print(duplicate_uris)\n",
    "\n",
    "#print(duplicate_uris)\n",
    "#print(former_pl_uris)\n",
    "\n",
    "# compare if current_pl uri is in the previous_pl uri list"
   ]
  },
  {
   "cell_type": "code",
   "execution_count": 15,
   "id": "2f4fa7d1",
   "metadata": {
    "ExecuteTime": {
     "end_time": "2023-01-12T23:03:30.072029Z",
     "start_time": "2023-01-12T23:03:25.257369Z"
    },
    "code_folding": [
     3,
     9,
     14
    ]
   },
   "outputs": [
    {
     "name": "stdout",
     "output_type": "stream",
     "text": [
      "(0, 'Gooder den uh mug')\n",
      "(1, 'your life bro')\n",
      "(2, 'Graduation')\n",
      "(3, 'E.A.V')\n",
      "(4, 'Best of Kone')\n",
      "(5, '😏')\n",
      "(6, 'chill bro chill ')\n",
      "(7, 'My ass ')\n",
      "(8, 'Ωur')\n",
      "(9, 'Thee Playlist')\n",
      "(10, 'Oldies')\n",
      "(11, 'zoom')\n",
      "(12, 'Memes ')\n",
      "(13, 'μμ')\n",
      "(14, '/mu/core')\n",
      "(15, 'Your Top Songs 2022')\n",
      "(16, 'Your Top Songs 2021')\n",
      "(17, 'Your Top Songs 2020')\n",
      "(18, 'Your Top Songs 2019')\n",
      "(19, 'Your Top Songs 2018')\n",
      "Enter the associated number to the playlist you want analyzed(seperated by spaces): 0\n",
      "Number of list is:  [0]\n",
      "final_id length is = 23\n",
      "the resulting_pl length is = 2\n"
     ]
    }
   ],
   "source": [
    "theee_playlist = \"https://open.spotify.com/playlist/78KodfOBZ4qd8qLLiuFjcD?si=8113f0bb8c67496e\"[34:56]\n",
    "the_pl_array = [theee_playlist]\n",
    "thee_pl_list = []\n",
    "for index in the_pl_array:\n",
    "    swag4 = get_song_ids(index)\n",
    "    thee_pl_list.extend(swag4)\n",
    "    \n",
    "    \n",
    "users_playlist = {}\n",
    "for collections in playlist.items:\n",
    "    users_playlist[collections.name] = collections.id\n",
    "\n",
    "list_of_keys = list(users_playlist.keys())\n",
    "\n",
    "for stuff in enumerate(list_of_keys):\n",
    "    print(stuff)\n",
    "    \n",
    "x = [int(x) for x in input(\"Enter the associated number to the playlist you want analyzed(seperated by spaces): \").split()]\n",
    "print(\"Number of list is: \", x) \n",
    "\n",
    "wanted_playlist = []\n",
    "for playlist_titles in x:\n",
    "    wanted_scan_playlist = users_playlist[list_of_keys[playlist_titles]]\n",
    "    #print(wanted_scan_playlist)\n",
    "    wanted_playlist.append(wanted_scan_playlist) \n",
    "    \n",
    "\n",
    "final_ids = []\n",
    "final_play_dict = {}\n",
    "#print(wanted_playlist)\n",
    "for i in wanted_playlist:\n",
    "    partial_play_dict, partial_song_id = get_playlist_info(i)\n",
    "    final_ids.extend(partial_song_id)\n",
    "    final_play_dict |= partial_play_dict\n",
    "\n",
    "print(f\"final_id length is = {len(final_ids)}\")\n",
    "#print(final_ids)\n",
    "#print(final_play_dict)\n",
    "\n",
    "resulting_pl = [z for z in final_ids if z not in thee_pl_list]\n",
    "\n",
    "print(f\"the resulting_pl length is = {len(resulting_pl)}\")\n",
    "#print(resulting_pl)\n",
    "    \n",
    "\n",
    "    "
   ]
  },
  {
   "cell_type": "code",
   "execution_count": 16,
   "id": "1cf84359",
   "metadata": {
    "ExecuteTime": {
     "end_time": "2023-01-12T23:03:36.958597Z",
     "start_time": "2023-01-12T23:03:36.682892Z"
    },
    "tags": []
   },
   "outputs": [],
   "source": [
    "# add songs to the playlist\n",
    "\n",
    "for i in range(0, len(resulting_pl), 100):\n",
    "    start = i\n",
    "    fin = 100 + i\n",
    "    client.playlist_add(theee_playlist, resulting_pl[start:fin], position=0)\n",
    "    #print(final_ids[start:fin])"
   ]
  },
  {
   "cell_type": "code",
   "execution_count": null,
   "id": "76564f39",
   "metadata": {
    "ExecuteTime": {
     "end_time": "2022-12-24T23:23:43.004405Z",
     "start_time": "2022-12-24T23:23:42.995462Z"
    },
    "code_folding": [
     0,
     21,
     37
    ],
    "jupyter": {
     "source_hidden": true
    },
    "tags": []
   },
   "outputs": [],
   "source": [
    "def get_the_playlists_info_with_song_id(the_playlist):\n",
    "    song_ids = []\n",
    "    play_offset =0\n",
    "    playlist_info = {}   \n",
    "    \n",
    "    playlist_songs = client.playlist_items(the_playlist, as_tracks=False, offset=play_offset)\n",
    "    full_list = playlist_songs.total\n",
    "\n",
    "    while full_list != len(playlist_info):\n",
    "        for songs in playlist_songs.items:\n",
    "            song_name = songs.track.name\n",
    "            song_artist = songs.track.artists[0].name\n",
    "            song_id = songs.track.uri\n",
    "            song_ids.append(song_id)\n",
    "            playlist_info.update({song_name: song_artist})\n",
    "        play_offset+=100\n",
    "        playlist_songs = client.playlist_items(the_playlist, as_tracks=False, offset=play_offset)\n",
    "    return playlist_info, song_ids\n",
    "\n",
    "#gtpiwsi \n",
    "\n",
    "def get_song_ids(the_playlist):\n",
    "    song_ids = []\n",
    "    play_offset =0 \n",
    "    \n",
    "    playlist_songs = client.playlist_items(the_playlist, as_tracks=False, offset=play_offset)\n",
    "    full_list = playlist_songs.total\n",
    "\n",
    "    while full_list != len(song_ids):\n",
    "        for songs in playlist_songs.items:\n",
    "            song_id = songs.track.uri\n",
    "            song_ids.append(song_id)\n",
    "            #print(song_id)\n",
    "        play_offset+=100\n",
    "        playlist_songs = client.playlist_items(the_playlist, as_tracks=False, offset=play_offset)\n",
    "    return song_ids\n",
    "\n",
    "def get_the_playlists_info(the_playlist):\n",
    "    play_offset =0\n",
    "    playlist_info = {}   \n",
    "    \n",
    "    playlist_songs = client.playlist_items(the_playlist, as_tracks=False, offset=play_offset)\n",
    "    full_list = playlist_songs.total\n",
    "\n",
    "    while full_list != len(playlist_info):\n",
    "        for songs in playlist_songs.items:\n",
    "            song_name = songs.track.name\n",
    "            song_artist = songs.track.artists[0].name\n",
    "            playlist_info.update({song_name: song_artist})\n",
    "        play_offset+=100\n",
    "        playlist_songs = client.playlist_items(the_playlist, as_tracks=False, offset=play_offset)\n",
    "    return playlist_info"
   ]
  },
  {
   "cell_type": "code",
   "execution_count": null,
   "id": "96835ae5",
   "metadata": {
    "ExecuteTime": {
     "end_time": "2022-12-22T08:27:21.418361Z",
     "start_time": "2022-12-22T08:27:21.415279Z"
    },
    "code_folding": [
     0
    ],
    "jupyter": {
     "source_hidden": true
    },
    "tags": []
   },
   "outputs": [],
   "source": [
    "def add_to_playlist(playlist_ids, thee_pl_id):\n",
    "    #print(playlist_ids)\n",
    "    for track in playlist_ids:\n",
    "        client.playlist_add(thee_pl_id, track, position=0)\n",
    "        #if track != playlist_ids:\n",
    "            #client.playlist_add(thee_pl_id, track, position=0)\n",
    "            #print(track)"
   ]
  },
  {
   "cell_type": "code",
   "execution_count": null,
   "id": "6e40ded7",
   "metadata": {
    "ExecuteTime": {
     "end_time": "2022-12-25T22:44:45.183830Z",
     "start_time": "2022-12-25T22:44:44.792326Z"
    },
    "code_folding": []
   },
   "outputs": [],
   "source": [
    "# delete the songs on thee playlist\n",
    "#client.playlist_clear(theee_playlist)\n"
   ]
  },
  {
   "cell_type": "code",
   "execution_count": null,
   "id": "076ec036",
   "metadata": {
    "ExecuteTime": {
     "end_time": "2022-12-25T22:42:04.798282Z",
     "start_time": "2022-12-25T22:42:04.792196Z"
    },
    "code_folding": [
     4
    ],
    "jupyter": {
     "source_hidden": true
    },
    "tags": []
   },
   "outputs": [],
   "source": [
    "random_numbers = random.sample(range(100000), 501)\n",
    "\n",
    "print(random_numbers.sort())\n",
    "print(len(random_numbers))\n",
    "for i in range(0, len(random_numbers), 100):\n",
    "    start = i\n",
    "    fin = 100 + i\n",
    "    #print(random_numbers[start:fin])\n"
   ]
  },
  {
   "cell_type": "code",
   "execution_count": 17,
   "id": "48437f32",
   "metadata": {
    "ExecuteTime": {
     "end_time": "2023-01-12T23:07:03.098667Z",
     "start_time": "2023-01-12T23:07:03.095206Z"
    },
    "jupyter": {
     "source_hidden": true
    },
    "tags": []
   },
   "outputs": [
    {
     "name": "stdout",
     "output_type": "stream",
     "text": [
      "[1, 2, 3, 4, 5, 6, 7, 8, 9]\n"
     ]
    }
   ],
   "source": []
  },
  {
   "cell_type": "code",
   "execution_count": 18,
   "id": "c6750729",
   "metadata": {
    "ExecuteTime": {
     "end_time": "2023-01-12T23:07:29.663483Z",
     "start_time": "2023-01-12T23:07:26.565010Z"
    },
    "jupyter": {
     "source_hidden": true
    },
    "tags": []
   },
   "outputs": [
    {
     "name": "stdout",
     "output_type": "stream",
     "text": [
      "722\n"
     ]
    }
   ],
   "source": [
    "theee_playlist = \"https://open.spotify.com/playlist/78KodfOBZ4qd8qLLiuFjcD?si=8113f0bb8c67496e\"[34:56]\n",
    "the_pl_array = [theee_playlist]\n",
    "thee_pl_list = []\n",
    "for index in the_pl_array:\n",
    "    swag4 = get_song_ids(index)\n",
    "    thee_pl_list.extend(swag4)\n",
    "\n",
    "#print(thee_pl_list)\n",
    "print(len(thee_pl_list))"
   ]
  },
  {
   "cell_type": "code",
   "execution_count": 24,
   "id": "85c15dd7",
   "metadata": {
    "ExecuteTime": {
     "end_time": "2023-01-11T04:46:56.571370Z",
     "start_time": "2023-01-11T04:46:56.567310Z"
    }
   },
   "outputs": [
    {
     "name": "stdout",
     "output_type": "stream",
     "text": [
      "720\n",
      "21\n",
      "Duplicate elements found: ['spotify:track:6HszFW6X5wM8DKX1SO0LaK', 'spotify:track:591ks2A0o7ratTpiRdI7M6', 'spotify:track:7yBEKiv1LmO7GM4rOejhcW', 'spotify:track:1UvaZaHkh3D9AkmBrrnbFg', 'spotify:track:0pmk9d0IcD2n3kq9V3p4lV', 'spotify:track:42rFOQqHmXf9IkdwVqkooK', 'spotify:track:45iJnPjul5yDYefM6GEYZB', 'spotify:track:5K9tfeoiztw94dyWzF39jq', 'spotify:track:3IznIgmXtrUaoPWpQTy5jB', 'spotify:track:2K22nUTdyr48JDwI5t906t', 'spotify:track:30HCB1FoE77IfGRyNv4eFq', 'spotify:track:55yvzYuvJYG2RUEnMK78tr', 'spotify:track:35k31HZI4z9PbBOioaI4dZ', 'spotify:track:4QCczE24wLpDmPJ3qwwEvC', 'spotify:track:2VNfJpwdEQBLyXajaa6LWT', 'spotify:track:7ACxUo21jtTHzy7ZEV56vU', 'spotify:track:3Cx9j78Z0NE6jYwBWvvV3P', 'spotify:track:5jkFvD4UJrmdoezzT1FRoP', 'spotify:track:4OV0sRTFrZLXaZZ1sS9hLn', 'spotify:track:0bTlXQJzw4ddaLQPJ4rGS2', 'spotify:track:0RlC8gQmtupGoklgc97LVa']\n"
     ]
    }
   ],
   "source": [
    "'''\n",
    "remove duplicate songs\n",
    "'''\n",
    "# thee playlist id --> 78KodfOBZ4qd8qLLiuFjcD\n",
    "\n",
    "# check thee playlist\n",
    "print(len(thee_pl_list))\n",
    "    \n",
    "# check our current playlist\n",
    "print(len(final_ids))\n",
    "\n",
    "# see if current_pl has any songs already in thee_pl\n",
    "duplicate_songs = [x for x in thee_pl_list if x in final_ids]\n",
    "\n",
    "if duplicate_songs:\n",
    "    print(\"Duplicate elements found:\", duplicate_songs)\n",
    "else:\n",
    "    print(\"No duplicate elements found\")\n",
    "\n",
    "    \n",
    "    \n",
    "# get uri's from current playlist\n",
    "# get uri's from previous playlist\n",
    "# compare if current_pl uri is in the previous_pl uri list"
   ]
  },
  {
   "cell_type": "code",
   "execution_count": 25,
   "id": "f4ad1ad8-b8f4-4348-9d4f-b2c812689d15",
   "metadata": {
    "ExecuteTime": {
     "end_time": "2023-01-11T04:57:36.038058Z",
     "start_time": "2023-01-11T04:57:36.035559Z"
    }
   },
   "outputs": [],
   "source": [
    "first_list = [\"one\", \"two\", \"three\", \"day\"]\n",
    "second_list = [\"four\", \"five\", \"one\", \"day\"]"
   ]
  },
  {
   "cell_type": "code",
   "execution_count": 26,
   "id": "463c6f79",
   "metadata": {
    "ExecuteTime": {
     "end_time": "2023-01-11T04:57:36.604854Z",
     "start_time": "2023-01-11T04:57:36.602174Z"
    }
   },
   "outputs": [
    {
     "name": "stdout",
     "output_type": "stream",
     "text": [
      "['two', 'three']\n"
     ]
    }
   ],
   "source": [
    "cut_list_nums = [test for test in first_list if test not in second_list]\n",
    "\n",
    "print(cut_list_nums)"
   ]
  },
  {
   "cell_type": "code",
   "execution_count": 27,
   "id": "c4af50a8",
   "metadata": {
    "ExecuteTime": {
     "end_time": "2023-01-11T04:57:37.351563Z",
     "start_time": "2023-01-11T04:57:37.348030Z"
    }
   },
   "outputs": [
    {
     "name": "stdout",
     "output_type": "stream",
     "text": [
      "Duplicate elements found: ['one', 'day']\n"
     ]
    }
   ],
   "source": [
    "duplicates = [x for x in first_list if x in second_list]\n",
    "\n",
    "if duplicates:\n",
    "    print(\"Duplicate elements found:\", duplicates)\n",
    "else:\n",
    "    print(\"No duplicate elements found\")\n"
   ]
  },
  {
   "cell_type": "code",
   "execution_count": null,
   "id": "d31053ed",
   "metadata": {},
   "outputs": [],
   "source": []
  }
 ],
 "metadata": {
  "kernelspec": {
   "display_name": "Python 3 (ipykernel)",
   "language": "python",
   "name": "python3"
  },
  "language_info": {
   "codemirror_mode": {
    "name": "ipython",
    "version": 3
   },
   "file_extension": ".py",
   "mimetype": "text/x-python",
   "name": "python",
   "nbconvert_exporter": "python",
   "pygments_lexer": "ipython3",
   "version": "3.10.9"
  },
  "varInspector": {
   "cols": {
    "lenName": 16,
    "lenType": 16,
    "lenVar": 40
   },
   "kernels_config": {
    "python": {
     "delete_cmd_postfix": "",
     "delete_cmd_prefix": "del ",
     "library": "var_list.py",
     "varRefreshCmd": "print(var_dic_list())"
    },
    "r": {
     "delete_cmd_postfix": ") ",
     "delete_cmd_prefix": "rm(",
     "library": "var_list.r",
     "varRefreshCmd": "cat(var_dic_list()) "
    }
   },
   "types_to_exclude": [
    "module",
    "function",
    "builtin_function_or_method",
    "instance",
    "_Feature"
   ],
   "window_display": false
  }
 },
 "nbformat": 4,
 "nbformat_minor": 5
}
