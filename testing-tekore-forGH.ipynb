{
 "cells": [
  {
   "cell_type": "code",
   "execution_count": null,
   "id": "54ddddd0",
   "metadata": {
    "ExecuteTime": {
     "end_time": "2022-08-16T20:48:49.064203Z",
     "start_time": "2022-08-16T20:48:48.731565Z"
    }
   },
   "outputs": [],
   "source": [
    "import tekore as tk\n",
    "import base64\n",
    "import requests\n",
    "import datetime\n",
    "from urllib.parse import urlencode\n",
    "from inspect import signature\n",
    "import json\n",
    "import time"
   ]
  },
  {
   "cell_type": "code",
   "execution_count": null,
   "id": "26ba0155",
   "metadata": {
    "ExecuteTime": {
     "end_time": "2022-08-16T20:48:51.412252Z",
     "start_time": "2022-08-16T20:48:51.408629Z"
    },
    "scrolled": false
   },
   "outputs": [],
   "source": [
    "# put playlist id here\n",
    "id_of_playlists = [\n",
    "\n",
    "]\n",
    "\n",
    "playlist_cut = [cuts[34:56] for cuts in id_of_playlists]\n",
    "#print(playlist_cut)\n",
    "\n",
    "#get the users id token on another file\n",
    "with open(\"client_nums.txt\", \"r\") as client_nums:\n",
    "    lines = client_nums.readlines()\n",
    "    lines = [line.rstrip() for line in lines]\n",
    "\n",
    "client_id = lines[0] \n",
    "client_secret = lines[1]\n",
    "\n",
    "\n",
    "redirect_uri = \"https://github.com/Owl1y/Spotify-Plalylist-Search\""
   ]
  },
  {
   "cell_type": "code",
   "execution_count": null,
   "id": "49dc36d0",
   "metadata": {
    "ExecuteTime": {
     "end_time": "2022-08-16T20:52:43.320697Z",
     "start_time": "2022-08-16T20:52:32.883099Z"
    },
    "code_folding": [
     9
    ],
    "scrolled": true
   },
   "outputs": [],
   "source": [
    "\"\"\"\n",
    "This cell is used to get back all songs from a playlist\n",
    "\"\"\"\n",
    "\n",
    "conf = (client_id, client_secret, redirect_uri)\n",
    "scoped = tk.scope.playlist_read_collaborative + tk.scope.playlist_read_private\n",
    "token = tk.prompt_for_user_token(*conf)\n",
    "client = tk.Spotify(token)\n",
    "\n",
    "def get_the_playlists_info(the_playlist):\n",
    "    play_offset =0\n",
    "    playlist_info = {}   \n",
    "    \n",
    "    playlist_songs = client.playlist_items(the_playlist, as_tracks=False, offset=play_offset)\n",
    "    full_list = playlist_songs.total\n",
    "\n",
    "    while full_list != len(playlist_info):\n",
    "        for songs in playlist_songs.items:\n",
    "            song_name = songs.track.name\n",
    "            song_artist = songs.track.artists[0].name\n",
    "            playlist_info.update({song_name: song_artist})\n",
    "        play_offset+=100\n",
    "        playlist_songs = client.playlist_items(the_playlist, as_tracks=False, offset=play_offset)\n",
    "    return playlist_info\n",
    "\n",
    "final_play_dict = {}\n",
    "for i in playlist_cut:\n",
    "    partial_play_dict = get_the_playlists_info(i)\n",
    "    final_play_dict |= partial_play_dict\n",
    "\n",
    "print(json.dumps(final_play_dict, indent=2))\n"
   ]
  },
  {
   "cell_type": "code",
   "execution_count": null,
   "id": "2b62d195",
   "metadata": {
    "ExecuteTime": {
     "end_time": "2022-07-26T03:16:07.525457Z",
     "start_time": "2022-07-26T03:15:59.870310Z"
    }
   },
   "outputs": [],
   "source": [
    "\"\"\"\n",
    "This cell is used for testing the tekore playlist tool\n",
    "\"\"\"\n",
    "\n",
    "# 2oZKIhUbYpl5SZbUNks10k <-- 3.14 playlist\n",
    "conf = (client_id, client_secret, redirect_uri)\n",
    "scoped = tk.scope.playlist_read_collaborative + tk.scope.playlist_read_private\n",
    "token = tk.prompt_for_user_token(*conf)\n",
    "\n",
    "client = tk.Spotify(token)\n",
    "playlist_songs = client.playlist_items(cut, as_tracks=False)\n",
    "\n",
    "print(playlist_songs.total)"
   ]
  },
  {
   "cell_type": "code",
   "execution_count": null,
   "id": "5139d19a",
   "metadata": {
    "ExecuteTime": {
     "end_time": "2022-07-31T23:59:50.077627Z",
     "start_time": "2022-07-31T23:59:44.430485Z"
    },
    "scrolled": false
   },
   "outputs": [],
   "source": [
    "\"\"\"\n",
    "This cell was used to get back a users playlist, private, public, and collaborative\n",
    "\"\"\"\n",
    "# 2153lsupa5hschcs774poensq <-- my spotify id\n",
    "# https://open.spotify.com/user/2153lsupa5hschcs774poensq?si=765b0985ebdc45c1 30:55\n",
    "conf = (client_id, client_secret, redirect_uri)\n",
    "scoped = tk.scope.playlist_read_collaborative + tk.scope.playlist_read_private\n",
    "token = tk.prompt_for_user_token(*conf, scope=scoped)\n",
    "\n",
    "\n",
    "user_id = \"https://open.spotify.com/user/2153lsupa5hschcs774poensq?si=765b0985ebdc45c1\"\n",
    "user_id_cut = user_id[30:55]\n",
    "spotify = tk.Spotify(token)\n",
    "playlist = spotify.playlists(user_id_cut)\n",
    "\n",
    "users_playlist = {}\n",
    "for collections in playlist.items:\n",
    "    users_playlist[collections.name] = collections.id\n",
    "\n",
    "print(f\"{json.dumps(users_playlist,indent=2)}\")\n",
    "    \n"
   ]
  },
  {
   "cell_type": "code",
   "execution_count": null,
   "id": "58673a7b",
   "metadata": {
    "ExecuteTime": {
     "end_time": "2022-08-01T00:19:13.075213Z",
     "start_time": "2022-08-01T00:19:13.065509Z"
    }
   },
   "outputs": [],
   "source": [
    "\"\"\"\n",
    "while full_list != len(playlist_info):\n",
    "    for songs in playlist_songs.items:\n",
    "        song_name = songs.track.name\n",
    "        song_artist = songs.track.artists[0].name\n",
    "        playlist_info.update({song_name: song_artist})\n",
    "        print(playlist_info)\n",
    "        #print(len(playlist_info))\n",
    "        play_offset+=100\n",
    "        playlist_songs = client.playlist_items(cut, as_tracks=False, offset=play_offset)\n",
    "    if full_list == len(playlist_info):\n",
    "        break\n",
    "    print(\"hey i am out of the for loop\")\n",
    "#print(playlist_info)\n",
    "#print(json.dumps(playlist_info, indent=2))\n",
    "\"\"\"\n",
    "\n",
    "\n",
    "\"\"\"\n",
    "\n",
    "if full_list != len(playlist_info):\n",
    "    for songs in playlist_songs.items:\n",
    "        song_name = songs.track.name\n",
    "        song_artist = songs.track.artists[0].name\n",
    "        playlist_info.update({song_name: song_artist})\n",
    "        #print(playlist_info)\n",
    "        #print(len(playlist_info))\n",
    "        play_offset+=100\n",
    "        playlist_songs = client.playlist_items(cut, as_tracks=False, offset=play_offset)\n",
    "print(playlist_info)\n",
    "        #if full_list == len(playlist_info):\n",
    "#        print(playlist_info)\n",
    "\n",
    "\"\"\"\n"
   ]
  }
 ],
 "metadata": {
  "kernelspec": {
   "display_name": "Python 3 (ipykernel)",
   "language": "python",
   "name": "python3"
  },
  "language_info": {
   "codemirror_mode": {
    "name": "ipython",
    "version": 3
   },
   "file_extension": ".py",
   "mimetype": "text/x-python",
   "name": "python",
   "nbconvert_exporter": "python",
   "pygments_lexer": "ipython3",
   "version": "3.10.6"
  }
 },
 "nbformat": 4,
 "nbformat_minor": 5
}
