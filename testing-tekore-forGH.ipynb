{
 "cells": [
  {
   "cell_type": "code",
   "execution_count": 1,
   "id": "54ddddd0",
   "metadata": {
    "ExecuteTime": {
     "end_time": "2022-12-19T03:40:48.549497Z",
     "start_time": "2022-12-19T03:40:48.243277Z"
    }
   },
   "outputs": [],
   "source": [
    "import tekore as tk\n",
    "import base64\n",
    "import requests\n",
    "import datetime\n",
    "from urllib.parse import urlencode\n",
    "from inspect import signature\n",
    "import json\n",
    "import time"
   ]
  },
  {
   "cell_type": "code",
   "execution_count": 2,
   "id": "26ba0155",
   "metadata": {
    "ExecuteTime": {
     "end_time": "2022-12-19T04:25:13.739185Z",
     "start_time": "2022-12-19T04:25:13.733440Z"
    },
    "scrolled": false
   },
   "outputs": [],
   "source": [
    "# put playlist id here\n",
    "id_of_playlists = [\n",
    "    \"https://open.spotify.com/playlist/2oZKIhUbYpl5SZbUNks10k?si=b9803dab537342ea\"\n",
    "]\n",
    "\n",
    "playlist_cut = [cuts[34:56] for cuts in id_of_playlists]\n",
    "#print(playlist_cut)\n",
    "\n",
    "#get the users id token on another file\n",
    "with open(\"client_nums.txt\", \"r\") as client_nums:\n",
    "    lines = client_nums.readlines()\n",
    "    lines = [line.rstrip() for line in lines]\n",
    "\n",
    "client_id = lines[0] \n",
    "client_secret = lines[1]\n",
    "\n",
    "\n",
    "redirect_uri = \"https://github.com/Owl1y/Spotify-Plalylist-Search\""
   ]
  },
  {
   "cell_type": "code",
   "execution_count": null,
   "id": "49dc36d0",
   "metadata": {
    "ExecuteTime": {
     "end_time": "2022-10-02T05:10:16.389957Z",
     "start_time": "2022-10-02T05:10:06.745488Z"
    },
    "code_folding": [
     9
    ],
    "scrolled": true
   },
   "outputs": [],
   "source": [
    "\"\"\"\n",
    "This cell is used to get back all songs from a playlist\n",
    "\"\"\"\n",
    "\n",
    "conf = (client_id, client_secret, redirect_uri)\n",
    "scoped = tk.scope.playlist_read_collaborative + tk.scope.playlist_read_private\n",
    "token = tk.prompt_for_user_token(*conf)\n",
    "client = tk.Spotify(token)\n",
    "\n",
    "def get_the_playlists_info(the_playlist):\n",
    "    play_offset =0\n",
    "    playlist_info = {}   \n",
    "    \n",
    "    playlist_songs = client.playlist_items(the_playlist, as_tracks=False, offset=play_offset)\n",
    "    full_list = playlist_songs.total\n",
    "\n",
    "    while full_list != len(playlist_info):\n",
    "        for songs in playlist_songs.items:\n",
    "            song_name = songs.track.name\n",
    "            song_artist = songs.track.artists[0].name\n",
    "            playlist_info.update({song_name: song_artist})\n",
    "        play_offset+=100\n",
    "        playlist_songs = client.playlist_items(the_playlist, as_tracks=False, offset=play_offset)\n",
    "    return playlist_info\n",
    "\n",
    "final_play_dict = {}\n",
    "for i in playlist_cut:\n",
    "    partial_play_dict = get_the_playlists_info(i)\n",
    "    final_play_dict |= partial_play_dict\n",
    "\n",
    "print(json.dumps(final_play_dict, indent=2))\n"
   ]
  },
  {
   "cell_type": "code",
   "execution_count": null,
   "id": "2b62d195",
   "metadata": {
    "ExecuteTime": {
     "end_time": "2022-10-01T09:51:43.305398Z",
     "start_time": "2022-10-01T09:51:35.784375Z"
    }
   },
   "outputs": [],
   "source": [
    "\"\"\"\n",
    "This cell is used for testing the tekore playlist tool\n",
    "\"\"\"\n",
    "\n",
    "# 2oZKIhUbYpl5SZbUNks10k <-- 3.14 playlist\n",
    "conf = (client_id, client_secret, redirect_uri)\n",
    "scoped = tk.scope.playlist_read_collaborative + tk.scope.playlist_read_private\n",
    "token = tk.prompt_for_user_token(*conf)\n",
    "\n",
    "client = tk.Spotify(token)\n",
    "playlist_songs = client.playlist_items(playlist_cut[0], as_tracks=False)\n",
    "\n",
    "print(f\"you have {playlist_songs.items[0]} songs on the playlist\")"
   ]
  },
  {
   "cell_type": "code",
   "execution_count": 3,
   "id": "5139d19a",
   "metadata": {
    "ExecuteTime": {
     "end_time": "2022-12-19T04:28:18.438115Z",
     "start_time": "2022-12-19T04:28:07.789400Z"
    },
    "code_folding": [],
    "scrolled": false
   },
   "outputs": [
    {
     "name": "stdout",
     "output_type": "stream",
     "text": [
      "Opening browser for Spotify login...\n",
      "Please paste redirect URL: https://github.com/Owl1y/Spotify-Plalylist-Search?code=AQBM9abymOfoh4ofo5GsHHZJLWs8fapClZCs-lG-_WftKcaZe84LMuL7MRFaO_sVHepsSPwvgJeSYGaQ01aPJ8QBXi-xC4Lc6N9E-CQq0nGcSobppiQ6FLBmqC-QGzR0s_Amu-EjwWE8rJsCEQ84KjbF3r0UdI-IPMwLpvLpxcAmpJ7TW0j-ngLWcVLkaXvDOevpoNNLmtSvc8IyXsa75KORYZy2YUeEZVXDEl2FmJZ1kcttv5l27cmwgaQCsSM_4s417BdBmaK6&state=krNtG05UZgGIPiUp75gSpRyqN_C1MLNcvAWUmtY_PqM\n",
      "(0, 'Gooder den uh mug')\n",
      "(1, 'your life bro')\n",
      "(2, 'Graduation')\n",
      "(3, 'E.A.V')\n",
      "(4, 'Best of Kone')\n",
      "(5, '😏')\n",
      "(6, 'chill bro chill ')\n",
      "(7, 'My ass ')\n",
      "(8, 'Ωur')\n",
      "(9, 'Oldies')\n",
      "(10, 'zoom')\n",
      "(11, 'Memes ')\n",
      "(12, 'μμ')\n",
      "(13, '/mu/core')\n",
      "(14, 'Your Top Songs 2022')\n",
      "(15, 'Your Top Songs 2021')\n",
      "(16, 'Your Top Songs 2020')\n",
      "(17, 'Your Top Songs 2019')\n",
      "(18, 'Your Top Songs 2018')\n",
      "(19, 'MangoSmoothy + kone')\n",
      "5TMatpArr9xKImvUHGydS8\n",
      "0AFQ3bdD6zCyXda4FOwp39\n",
      "7jXzoKibDwt7yYaoU3uPdF\n",
      "26ZzwXAOlKTvsVjQcQd4gm\n",
      "7M8v5bcQn20Gqkf5J87qSs\n",
      "40daaNzvSSvYGIZhqX7HsR\n",
      "77sj0Sh0vzMlWnV7SlqkLu\n",
      "6fYjLM7ESHGrh5N9SvzVGB\n",
      "7IHZvZIusTuJNMcKleSWwd\n",
      "2O9GCYbNBxTJ5miIkZCLLU\n",
      "7uceSLvxBP0TFTWvwQyfHz\n",
      "7skByPWuzqU2fya3p8u04D\n",
      "2lRJ8QMgGwUMjdD6zaXmY3\n",
      "6vHPcTSDmPCBQh8otYjgcb\n",
      "37i9dQZF1F0sijgNaJdgit\n",
      "37i9dQZF1EUMDoJuT8yJsl\n",
      "37i9dQZF1EMcJ9O8cQUCr4\n",
      "37i9dQZF1Etacsx9URXb4k\n",
      "37i9dQZF1EjujaBst4fIz9\n",
      "37i9dQZF1EJIBnTXaw6OyS\n"
     ]
    }
   ],
   "source": [
    "\"\"\"\n",
    "This cell was used to get back a users playlist, private, public, and collaborative\n",
    "\"\"\"\n",
    "# 2153lsupa5hschcs774poensq <-- my spotify id\n",
    "# https://open.spotify.com/user/2153lsupa5hschcs774poensq?si=765b0985ebdc45c1 30:55\n",
    "conf = (client_id, client_secret, redirect_uri)\n",
    "scoped = tk.scope.playlist_read_collaborative + tk.scope.playlist_read_private\n",
    "token = tk.prompt_for_user_token(*conf, scope=scoped)\n",
    "\n",
    "\n",
    "user_id = \"https://open.spotify.com/user/2153lsupa5hschcs774poensq?si=765b0985ebdc45c1\"\n",
    "user_id_cut = user_id[30:55]\n",
    "spotify = tk.Spotify(token)\n",
    "playlist = spotify.playlists(user_id_cut)\n",
    "\n",
    "users_playlist = {}\n",
    "for collections in playlist.items:\n",
    "    users_playlist[collections.name] = collections.id\n",
    "\n",
    "list_of_keys = list(users_playlist.keys())\n",
    "   \n",
    "for stuff in enumerate(list_of_keys):\n",
    "    print(stuff)\n",
    "\n",
    "for i in list_of_keys:\n",
    "    print(users_playlist[i])\n",
    "    \n",
    "#print(f\"{json.dumps(users_playlist,indent=2)}\")\n",
    "#print(f\"{users_playlist.keys()}\")\n",
    "#print(list_of_keys)"
   ]
  },
  {
   "cell_type": "code",
   "execution_count": null,
   "id": "58673a7b",
   "metadata": {
    "ExecuteTime": {
     "end_time": "2022-08-01T00:19:13.075213Z",
     "start_time": "2022-08-01T00:19:13.065509Z"
    },
    "code_folding": [
     1,
     20,
     29
    ]
   },
   "outputs": [],
   "source": [
    "\"\"\"\n",
    "while full_list != len(playlist_info):\n",
    "    for songs in playlist_songs.items:\n",
    "        song_name = songs.track.name\n",
    "        song_artist = songs.track.artists[0].name\n",
    "        playlist_info.update({song_name: song_artist})\n",
    "        print(playlist_info)\n",
    "        #print(len(playlist_info))\n",
    "        play_offset+=100\n",
    "        playlist_songs = client.playlist_items(cut, as_tracks=False, offset=play_offset)\n",
    "    if full_list == len(playlist_info):\n",
    "        break\n",
    "    print(\"hey i am out of the for loop\")\n",
    "#print(playlist_info)\n",
    "#print(json.dumps(playlist_info, indent=2))\n",
    "\"\"\"\n",
    "\n",
    "\n",
    "\"\"\"\n",
    "\n",
    "if full_list != len(playlist_info):\n",
    "    for songs in playlist_songs.items:\n",
    "        song_name = songs.track.name\n",
    "        song_artist = songs.track.artists[0].name\n",
    "        playlist_info.update({song_name: song_artist})\n",
    "        #print(playlist_info)\n",
    "        #print(len(playlist_info))\n",
    "        play_offset+=100\n",
    "        playlist_songs = client.playlist_items(cut, as_tracks=False, offset=play_offset)\n",
    "print(playlist_info)\n",
    "        #if full_list == len(playlist_info):\n",
    "#        print(playlist_info)\n",
    "\n",
    "\"\"\"\n"
   ]
  }
 ],
 "metadata": {
  "kernelspec": {
   "display_name": "Python 3 (ipykernel)",
   "language": "python",
   "name": "python3"
  },
  "language_info": {
   "codemirror_mode": {
    "name": "ipython",
    "version": 3
   },
   "file_extension": ".py",
   "mimetype": "text/x-python",
   "name": "python",
   "nbconvert_exporter": "python",
   "pygments_lexer": "ipython3",
   "version": "3.10.8"
  }
 },
 "nbformat": 4,
 "nbformat_minor": 5
}
