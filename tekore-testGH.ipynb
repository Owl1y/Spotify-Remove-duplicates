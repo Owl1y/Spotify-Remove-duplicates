{
 "cells": [
  {
   "cell_type": "code",
   "execution_count": 1,
   "id": "54ddddd0",
   "metadata": {
    "ExecuteTime": {
     "end_time": "2022-11-16T03:22:35.682415Z",
     "start_time": "2022-11-16T03:22:35.438203Z"
    }
   },
   "outputs": [],
   "source": [
    "import tekore as tk\n",
    "import base64\n",
    "import requests\n",
    "import datetime\n",
    "from urllib.parse import urlencode\n",
    "from inspect import signature\n",
    "import json\n",
    "import time"
   ]
  },
  {
   "cell_type": "code",
   "execution_count": 2,
   "id": "bbc11766",
   "metadata": {
    "ExecuteTime": {
     "end_time": "2022-11-16T03:22:37.228544Z",
     "start_time": "2022-11-16T03:22:37.224370Z"
    }
   },
   "outputs": [],
   "source": [
    "# Verifying identification of users\n",
    "\n",
    "with open(\"client_nums.txt\", \"r\") as client_nums:\n",
    "    lines = client_nums.readlines()\n",
    "    lines = [line.rstrip() for line in lines]\n",
    "\n",
    "client_id = lines[0]\n",
    "client_secret = lines[1]\n",
    "redirect_uri = \"https://github.com/Owl1y/Spotify-Plalylist-Search\"\n",
    "conf = (client_id, client_secret, redirect_uri)\n"
   ]
  },
  {
   "cell_type": "code",
   "execution_count": null,
   "id": "5fbd8d06",
   "metadata": {
    "ExecuteTime": {
     "end_time": "2022-10-22T05:12:19.504639Z",
     "start_time": "2022-10-22T05:12:19.502533Z"
    }
   },
   "outputs": [],
   "source": [
    "id_of_playlists = [\n",
    "    \"https://open.spotify.com/playlist/7IHZvZIusTuJNMcKleSWwd?si=e04af12a619844fd\",\n",
    "    \"https://open.spotify.com/playlist/6fYjLM7ESHGrh5N9SvzVGB?si=0449e736c1fc407c\",\n",
    "    \"https://open.spotify.com/playlist/77sj0Sh0vzMlWnV7SlqkLu?si=421859b79e3849dc\",\n",
    "    \"https://open.spotify.com/playlist/40daaNzvSSvYGIZhqX7HsR?si=b82d43ddedbd452c\",\n",
    "    \"https://open.spotify.com/playlist/26ZzwXAOlKTvsVjQcQd4gm?si=6a7f4b03aaeb4473\",\n",
    "    \"https://open.spotify.com/playlist/7jXzoKibDwt7yYaoU3uPdF?si=bf78d39da0a2482a\",\n",
    "    \"https://open.spotify.com/playlist/0AFQ3bdD6zCyXda4FOwp39?si=6677cbd1081848f6\"\n",
    "    \n",
    "]\n",
    "\n",
    "pl_cut_2 = [\"https://open.spotify.com/playlist/2oZKIhUbYpl5SZbUNks10k?si=5403419e23464f47\"]\n",
    "\n",
    "playlist_cut = [cuts[34:56] for cuts in id_of_playlists]\n",
    "playlist_cut2 = [cuts[34:56] for cuts in pl_cut_2]\n",
    "\n",
    "#print(playlist_cut)\n",
    "\n"
   ]
  },
  {
   "cell_type": "code",
   "execution_count": null,
   "id": "49dc36d0",
   "metadata": {
    "ExecuteTime": {
     "end_time": "2022-10-22T05:12:30.176109Z",
     "start_time": "2022-10-22T05:12:19.505724Z"
    },
    "code_folding": [
     8
    ],
    "scrolled": true
   },
   "outputs": [],
   "source": [
    "\"\"\"\n",
    "This cell is used to get back all songs from a playlist in a list \n",
    "\"\"\"\n",
    "\n",
    "scoped = tk.scope.playlist_read_collaborative + tk.scope.playlist_read_private\n",
    "token = tk.prompt_for_user_token(*conf)\n",
    "client = tk.Spotify(token)\n",
    "\n",
    "def get_the_playlists_info(the_playlist):\n",
    "    play_offset =0\n",
    "    playlist_info = {}   \n",
    "    \n",
    "    playlist_songs = client.playlist_items(the_playlist, as_tracks=False, offset=play_offset)\n",
    "    full_list = playlist_songs.total\n",
    "\n",
    "    while full_list != len(playlist_info):\n",
    "        for songs in playlist_songs.items:\n",
    "            song_name = songs.track.name\n",
    "            song_artist = songs.track.artists[0].name\n",
    "            playlist_info.update({song_name: song_artist})\n",
    "        play_offset+=100\n",
    "        playlist_songs = client.playlist_items(the_playlist, as_tracks=False, offset=play_offset)\n",
    "    return playlist_info\n",
    "\n",
    "final_play_dict = {}\n",
    "for i in playlist_cut:\n",
    "    partial_play_dict = get_the_playlists_info(i)\n",
    "    final_play_dict |= partial_play_dict\n",
    "\n",
    "print(json.dumps(final_play_dict, indent=2))\n"
   ]
  },
  {
   "cell_type": "code",
   "execution_count": null,
   "id": "2b62d195",
   "metadata": {
    "ExecuteTime": {
     "end_time": "2022-10-22T05:12:38.297675Z",
     "start_time": "2022-10-22T05:12:30.179014Z"
    },
    "scrolled": true
   },
   "outputs": [],
   "source": [
    "\"\"\"\n",
    "This cell is used for testing the tekore playlist tool\n",
    "\"\"\"\n",
    "\n",
    "# 2oZKIhUbYpl5SZbUNks10k <-- 3.14 playlist\n",
    "conf = (client_id, client_secret, redirect_uri)\n",
    "scoped = tk.scope.playlist_read_collaborative + tk.scope.playlist_read_private\n",
    "token = tk.prompt_for_user_token(*conf)\n",
    "\n",
    "client = tk.Spotify(token)\n",
    "playlist_songs = client.playlist_items(playlist_cut, as_tracks=False)\n",
    "\n",
    "print(playlist_songs.total)"
   ]
  },
  {
   "cell_type": "code",
   "execution_count": null,
   "id": "5139d19a",
   "metadata": {
    "ExecuteTime": {
     "end_time": "2022-10-22T05:13:21.833696Z",
     "start_time": "2022-10-22T05:13:08.569314Z"
    },
    "scrolled": false
   },
   "outputs": [],
   "source": [
    "\"\"\"\n",
    "This cell was used to get back a users playlist, private, public, and collaborative\n",
    "\"\"\"\n",
    "# 2153lsupa5hschcs774poensq <-- my spotify id\n",
    "# https://open.spotify.com/user/2153lsupa5hschcs774poensq?si=765b0985ebdc45c1 30:55\n",
    "conf = (client_id, client_secret, redirect_uri)\n",
    "scoped = tk.scope.playlist_read_collaborative + tk.scope.playlist_read_private\n",
    "token = tk.prompt_for_user_token(*conf, scope=scoped)\n",
    "\n",
    "\n",
    "user_id = \"https://open.spotify.com/user/2153lsupa5hschcs774poensq?si=765b0985ebdc45c1\"\n",
    "user_id_cut = user_id[30:55]\n",
    "spotify = tk.Spotify(token)\n",
    "playlist = spotify.playlists(user_id_cut)\n",
    "\n",
    "users_playlist = {}\n",
    "for collections in playlist.items:\n",
    "    users_playlist[collections.name] = collections.id\n",
    "\n",
    "    \n",
    "list_of_keys = list(users_playlist.keys())\n",
    "    \n",
    "for stuff in enumerate(list_of_keys):\n",
    "    print(stuff)\n",
    "    \n",
    "\n",
    "# taking multiple inputs at a time \n",
    "x = [int(x) for x in input(\"Enter the associated number to the playlist you want analyzed(seperated by spaces): \").split()]\n",
    "print(\"Number of list is: \", x) \n",
    "\n",
    "wanted_playlist = []\n",
    "for playlist_titles in x:\n",
    "    wanted_scan_playlist = users_playlist[list_of_keys[playlist_titles]]\n",
    "    #print(users_playlist[list_of_keys[playlist_titles]])\n",
    "    wanted_playlist.append(wanted_scan_playlist)\n",
    "print(wanted_playlist)"
   ]
  },
  {
   "cell_type": "code",
   "execution_count": null,
   "id": "58673a7b",
   "metadata": {
    "ExecuteTime": {
     "end_time": "2022-10-22T05:13:35.143158Z",
     "start_time": "2022-10-22T05:13:28.658206Z"
    },
    "code_folding": [
     30
    ],
    "scrolled": true
   },
   "outputs": [],
   "source": [
    "\"\"\"\n",
    "trying to connect all the dots \n",
    "\n",
    "getting the input from the user asking them what they want scanned\n",
    "after getting the playlist to be scanned they will show the songs on the playlist\n",
    "\n",
    "\"\"\"\n",
    "user_id = \"https://open.spotify.com/user/2153lsupa5hschcs774poensq?si=765b0985ebdc45c1\"\n",
    "user_id_cut = user_id[30:55]\n",
    "spotify = tk.Spotify(token)\n",
    "playlist = spotify.playlists(user_id_cut)\n",
    "client = tk.Spotify(token)\n",
    "\n",
    "\n",
    "users_playlist = {}\n",
    "for collections in playlist.items:\n",
    "    users_playlist[collections.name] = collections.id\n",
    "\n",
    "list_of_keys = list(users_playlist.keys())\n",
    "\n",
    "for stuff in enumerate(list_of_keys):\n",
    "    print(stuff)\n",
    "    \n",
    "x = [int(x) for x in input(\"Enter the associated number to the playlist you want analyzed(seperated by spaces): \").split()]\n",
    "print(\"Number of list is: \", x) \n",
    "\n",
    "wanted_playlist = []\n",
    "for playlist_titles in x:\n",
    "    wanted_scan_playlist = users_playlist[list_of_keys[playlist_titles]]\n",
    "    #print(users_playlist[list_of_keys[playlist_titles]])\n",
    "    wanted_playlist.append(wanted_scan_playlist)\n",
    "    \n",
    "def get_the_playlists_info(the_playlist):\n",
    "    play_offset =0\n",
    "    playlist_info = {}   \n",
    "    \n",
    "    playlist_songs = client.playlist_items(the_playlist, as_tracks=False, offset=play_offset)\n",
    "    full_list = playlist_songs.total\n",
    "\n",
    "    while full_list != len(playlist_info):\n",
    "        for songs in playlist_songs.items:\n",
    "            song_name = songs.track.name\n",
    "            song_artist = songs.track.artists[0].name\n",
    "            playlist_info.update({song_name: song_artist})\n",
    "        play_offset+=100\n",
    "        playlist_songs = client.playlist_items(the_playlist, as_tracks=False, offset=play_offset)\n",
    "    return playlist_info\n",
    "\n",
    "final_play_dict = {}\n",
    "for i in wanted_playlist:\n",
    "    partial_play_dict = get_the_playlists_info(i)\n",
    "    final_play_dict |= partial_play_dict\n",
    "\n",
    "print(json.dumps(final_play_dict, indent=2))\n"
   ]
  },
  {
   "cell_type": "code",
   "execution_count": 3,
   "id": "b3265795",
   "metadata": {
    "ExecuteTime": {
     "end_time": "2022-11-16T03:23:25.932301Z",
     "start_time": "2022-11-16T03:22:42.615925Z"
    },
    "code_folding": []
   },
   "outputs": [
    {
     "name": "stdout",
     "output_type": "stream",
     "text": [
      "Opening browser for Spotify login...\n",
      "Please paste redirect URL: https://github.com/Owl1y/Spotify-Plalylist-Search?code=AQCiZXj4SplDB4oZUNqNA8afxbKiXwXnGnqFuGPlysXKbNdAXjVix_EiQsjUsh7yTUBnD7hv3ZqmfQpALpntXztImlL5KsnaPn2N2W5DR0WuWL4-FXhyP0hRZr7KremjXgKDoPD6K8NCmI9p881afUj7tTkLDEK4L23Wqld29I-35mVQzty8o_sz6WmVQVviumA8g7ut81apJabVewHoZHWMu4H-zAVm7yzQcfCiKEZgpRj5F0Jnwuc8uXwpL8OOCs_o7b9iCSoC&state=4E102SBo0TnUdZ0AmntolWqSqlnhMw-w4o0WuzcWCR0\n",
      "(0, 'your life bro')\n",
      "(1, 'Graduation')\n",
      "(2, 'E.A.V')\n",
      "(3, 'Best of Kone')\n",
      "(4, '😏')\n",
      "(5, 'chill bro chill ')\n",
      "(6, 'My ass ')\n",
      "(7, 'Ωur')\n",
      "(8, 'Oldies')\n",
      "(9, 'zoom')\n",
      "(10, 'Memes ')\n",
      "(11, 'μμ')\n",
      "(12, '/mu/core')\n",
      "(13, 'Your Top Songs 2021')\n",
      "(14, 'Your Top Songs 2020')\n",
      "(15, 'Your Top Songs 2019')\n",
      "(16, 'Your Top Songs 2018')\n",
      "(17, 'MangoSmoothy + kone')\n",
      "(18, 'Poo + kone')\n",
      "(19, 'kone + 5 others')\n",
      "Enter the associated number to the playlist you want analyzed(seperated by spaces): 1 11\n",
      "Number of list is:  [1, 11]\n",
      "7jXzoKibDwt7yYaoU3uPdF\n",
      "2lRJ8QMgGwUMjdD6zaXmY3\n",
      "Opening browser for Spotify login...\n",
      "Please paste redirect URL: https://github.com/Owl1y/Spotify-Plalylist-Search?code=AQBV0uMbQl7fLLGEXCnln0oBTEfnT3GKXkP-oe4ygpTAsbdtLzRfDtXtuphKX9q7TuBWZjJpIbPV_dfmW9RwBjFA0hdWWw3N-VE3poyp698vBOZfv8ZRiotNbtMkKNTuegNvq2E895hIw6j__JoILAqA9_H2U3iUnPNWHbT0b7axud548qSTnWoryUwEcs238aPtxoo&state=pLE-dccEZvMYG3XUZMxn9XXuMCUlQLK9LE5Rm7_GvN8\n"
     ]
    },
    {
     "ename": "NotFound",
     "evalue": "Error in https://api.spotify.com/v1/playlists/2/tracks?limit=100&offset=0&additional_types=track%2Cepisode:\n404: Invalid playlist Id\n",
     "output_type": "error",
     "traceback": [
      "\u001b[0;31m---------------------------------------------------------------------------\u001b[0m",
      "\u001b[0;31mNotFound\u001b[0m                                  Traceback (most recent call last)",
      "Cell \u001b[0;32mIn [3], line 53\u001b[0m\n\u001b[1;32m     51\u001b[0m final_play_dict \u001b[38;5;241m=\u001b[39m {}\n\u001b[1;32m     52\u001b[0m \u001b[38;5;28;01mfor\u001b[39;00m i \u001b[38;5;129;01min\u001b[39;00m wanted_scan_playlist:\n\u001b[0;32m---> 53\u001b[0m     dict_of_songs \u001b[38;5;241m=\u001b[39m gather_playlists_info(i)\n\u001b[1;32m     54\u001b[0m     final_play_dict \u001b[38;5;241m|\u001b[39m\u001b[38;5;241m=\u001b[39m dict_of_songs\n\u001b[1;32m     56\u001b[0m \u001b[38;5;28mprint\u001b[39m(json\u001b[38;5;241m.\u001b[39mdumps(final_play_dict, indent\u001b[38;5;241m=\u001b[39m\u001b[38;5;241m2\u001b[39m))\n",
      "Cell \u001b[0;32mIn [3], line 39\u001b[0m, in \u001b[0;36mgather_playlists_info\u001b[0;34m(the_playlist)\u001b[0m\n\u001b[1;32m     36\u001b[0m play_offset \u001b[38;5;241m=\u001b[39m\u001b[38;5;241m0\u001b[39m\n\u001b[1;32m     37\u001b[0m playlist_info \u001b[38;5;241m=\u001b[39m {}   \n\u001b[0;32m---> 39\u001b[0m playlist_songs \u001b[38;5;241m=\u001b[39m \u001b[43mclient\u001b[49m\u001b[38;5;241;43m.\u001b[39;49m\u001b[43mplaylist_items\u001b[49m\u001b[43m(\u001b[49m\u001b[43mthe_playlist\u001b[49m\u001b[43m,\u001b[49m\u001b[43m \u001b[49m\u001b[43mas_tracks\u001b[49m\u001b[38;5;241;43m=\u001b[39;49m\u001b[38;5;28;43;01mFalse\u001b[39;49;00m\u001b[43m,\u001b[49m\u001b[43m \u001b[49m\u001b[43moffset\u001b[49m\u001b[38;5;241;43m=\u001b[39;49m\u001b[43mplay_offset\u001b[49m\u001b[43m)\u001b[49m\n\u001b[1;32m     40\u001b[0m full_list \u001b[38;5;241m=\u001b[39m playlist_songs\u001b[38;5;241m.\u001b[39mtotal\n\u001b[1;32m     42\u001b[0m \u001b[38;5;28;01mwhile\u001b[39;00m full_list \u001b[38;5;241m!=\u001b[39m \u001b[38;5;28mlen\u001b[39m(playlist_info):\n",
      "File \u001b[0;32m~/.local/lib/python3.10/site-packages/tekore/_client/api/playlist/view.py:46\u001b[0m, in \u001b[0;36mprocess_if_not_specified.<locals>.decorator.<locals>.wrapper\u001b[0;34m(self, *args, **kwargs)\u001b[0m\n\u001b[1;32m     43\u001b[0m \u001b[38;5;28;01mif\u001b[39;00m \u001b[38;5;28mself\u001b[39m\u001b[38;5;241m.\u001b[39mis_async:\n\u001b[1;32m     44\u001b[0m     \u001b[38;5;28;01mreturn\u001b[39;00m async_wrapper(\u001b[38;5;28mself\u001b[39m, \u001b[38;5;241m*\u001b[39margs, \u001b[38;5;241m*\u001b[39m\u001b[38;5;241m*\u001b[39mkwargs)\n\u001b[0;32m---> 46\u001b[0m json \u001b[38;5;241m=\u001b[39m \u001b[43mfunction\u001b[49m\u001b[43m(\u001b[49m\u001b[38;5;28;43mself\u001b[39;49m\u001b[43m,\u001b[49m\u001b[43m \u001b[49m\u001b[38;5;241;43m*\u001b[39;49m\u001b[43margs\u001b[49m\u001b[43m,\u001b[49m\u001b[43m \u001b[49m\u001b[38;5;241;43m*\u001b[39;49m\u001b[38;5;241;43m*\u001b[39;49m\u001b[43mkwargs\u001b[49m\u001b[43m)\u001b[49m\n\u001b[1;32m     47\u001b[0m \u001b[38;5;28;01mreturn\u001b[39;00m post_func(json)\n",
      "File \u001b[0;32m~/.local/lib/python3.10/site-packages/tekore/_sender/client.py:79\u001b[0m, in \u001b[0;36msend_and_process.<locals>.decorator.<locals>.wrapper\u001b[0;34m(self, *args, **kwargs)\u001b[0m\n\u001b[1;32m     76\u001b[0m     \u001b[38;5;28;01mreturn\u001b[39;00m async_send(\u001b[38;5;28mself\u001b[39m, request, params)\n\u001b[1;32m     78\u001b[0m response \u001b[38;5;241m=\u001b[39m \u001b[38;5;28mself\u001b[39m\u001b[38;5;241m.\u001b[39msend(request)\n\u001b[0;32m---> 79\u001b[0m \u001b[38;5;28;01mreturn\u001b[39;00m \u001b[43mpost_func\u001b[49m\u001b[43m(\u001b[49m\u001b[43mrequest\u001b[49m\u001b[43m,\u001b[49m\u001b[43m \u001b[49m\u001b[43mresponse\u001b[49m\u001b[43m,\u001b[49m\u001b[43m \u001b[49m\u001b[38;5;241;43m*\u001b[39;49m\u001b[43mparams\u001b[49m\u001b[43m)\u001b[49m\n",
      "File \u001b[0;32m~/.local/lib/python3.10/site-packages/tekore/_client/decor/__init__.py:19\u001b[0m, in \u001b[0;36msend_and_process.<locals>.parse_response\u001b[0;34m(request, response)\u001b[0m\n\u001b[1;32m     18\u001b[0m \u001b[38;5;28;01mdef\u001b[39;00m \u001b[38;5;21mparse_response\u001b[39m(request, response):\n\u001b[0;32m---> 19\u001b[0m     \u001b[43mhandle_errors\u001b[49m\u001b[43m(\u001b[49m\u001b[43mrequest\u001b[49m\u001b[43m,\u001b[49m\u001b[43m \u001b[49m\u001b[43mresponse\u001b[49m\u001b[43m)\u001b[49m\n\u001b[1;32m     20\u001b[0m     \u001b[38;5;28;01mreturn\u001b[39;00m post_func(response\u001b[38;5;241m.\u001b[39mcontent)\n",
      "File \u001b[0;32m~/.local/lib/python3.10/site-packages/tekore/_client/decor/handle.py:33\u001b[0m, in \u001b[0;36mhandle_errors\u001b[0;34m(request, response)\u001b[0m\n\u001b[1;32m     27\u001b[0m error_str \u001b[38;5;241m=\u001b[39m error_format\u001b[38;5;241m.\u001b[39mformat(\n\u001b[1;32m     28\u001b[0m     url\u001b[38;5;241m=\u001b[39mresponse\u001b[38;5;241m.\u001b[39murl,\n\u001b[1;32m     29\u001b[0m     code\u001b[38;5;241m=\u001b[39mresponse\u001b[38;5;241m.\u001b[39mstatus_code,\n\u001b[1;32m     30\u001b[0m     msg\u001b[38;5;241m=\u001b[39mparse_error_reason(response)\n\u001b[1;32m     31\u001b[0m )\n\u001b[1;32m     32\u001b[0m error_cls \u001b[38;5;241m=\u001b[39m get_error(response\u001b[38;5;241m.\u001b[39mstatus_code)\n\u001b[0;32m---> 33\u001b[0m \u001b[38;5;28;01mraise\u001b[39;00m error_cls(error_str, request\u001b[38;5;241m=\u001b[39mrequest, response\u001b[38;5;241m=\u001b[39mresponse)\n",
      "\u001b[0;31mNotFound\u001b[0m: Error in https://api.spotify.com/v1/playlists/2/tracks?limit=100&offset=0&additional_types=track%2Cepisode:\n404: Invalid playlist Id\n"
     ]
    }
   ],
   "source": [
    "# trying to connect the dots 2.0 more scuffed\n",
    "conf = (client_id, client_secret, redirect_uri)\n",
    "scoped = tk.scope.playlist_read_collaborative + tk.scope.playlist_read_private\n",
    "token = tk.prompt_for_user_token(*conf, scope=scoped)\n",
    "\n",
    "\n",
    "user_id = \"https://open.spotify.com/user/2153lsupa5hschcs774poensq?si=765b0985ebdc45c1\"\n",
    "user_id_cut = user_id[30:55]\n",
    "spotify = tk.Spotify(token)\n",
    "playlist = spotify.playlists(user_id_cut)\n",
    "\n",
    "users_playlist = {}\n",
    "for collections in playlist.items:\n",
    "    users_playlist[collections.name] = collections.id\n",
    "\n",
    "    \n",
    "list_of_keys = list(users_playlist.keys())\n",
    "    \n",
    "for stuff in enumerate(list_of_keys):\n",
    "    print(stuff)\n",
    "    \n",
    "\n",
    "# taking multiple inputs at a time \n",
    "x = [int(x) for x in input(\"Enter the associated number to the playlist you want analyzed(seperated by spaces): \").split()]\n",
    "print(\"Number of list is: \", x) \n",
    "\n",
    "for playlist_titles in x:\n",
    "    wanted_scan_playlist = users_playlist[list_of_keys[playlist_titles]]\n",
    "    print(users_playlist[list_of_keys[playlist_titles]])\n",
    "    \n",
    "scoped = tk.scope.playlist_read_collaborative + tk.scope.playlist_read_private\n",
    "token = tk.prompt_for_user_token(*conf)\n",
    "client = tk.Spotify(token)\n",
    "\n",
    "def gather_playlists_info(the_playlist):\n",
    "    play_offset =0\n",
    "    playlist_info = {}   \n",
    "    \n",
    "    playlist_songs = client.playlist_items(the_playlist, as_tracks=False, offset=play_offset)\n",
    "    full_list = playlist_songs.total\n",
    "\n",
    "    while full_list != len(playlist_info):\n",
    "        for songs in playlist_songs.items:\n",
    "            song_name = songs.track.name\n",
    "            song_artist = songs.track.artists[0].name\n",
    "            playlist_info.update({song_name: song_artist})\n",
    "        play_offset+=100\n",
    "        playlist_songs = client.playlist_items(the_playlist, as_tracks=False, offset=play_offset)\n",
    "    return playlist_info\n",
    "\n",
    "final_play_dict = {}\n",
    "for i in wanted_scan_playlist:\n",
    "    dict_of_songs = gather_playlists_info(i)\n",
    "    final_play_dict |= dict_of_songs\n",
    "\n",
    "print(json.dumps(final_play_dict, indent=2))\n"
   ]
  },
  {
   "cell_type": "code",
   "execution_count": null,
   "id": "b89aa6bd",
   "metadata": {
    "ExecuteTime": {
     "end_time": "2022-10-26T06:27:01.979873Z",
     "start_time": "2022-10-26T06:26:41.377747Z"
    }
   },
   "outputs": [],
   "source": [
    "# trying to get a users playlist (public private or collaborative) but i try to make it a function\n",
    "# ------------------------------------------------------------------------------------------------\n",
    "\n",
    "# 2153lsupa5hschcs774poensq <-- my spotify id\n",
    "# https://open.spotify.com/user/2153lsupa5hschcs774poensq?si=765b0985ebdc45c1 30:55\n",
    "conf = (client_id, client_secret, redirect_uri)\n",
    "scoped = tk.scope.playlist_read_collaborative + tk.scope.playlist_read_private\n",
    "token = tk.prompt_for_user_token(*conf, scope=scoped)\n",
    "\n",
    "def input_users_link(users_id):\n",
    "    user_id = users_id\n",
    "    user_id_cut = user_id[30:55]\n",
    "    spotify = tk.Spotify(token)\n",
    "    playlist = spotify.playlists(user_id_cut)\n",
    "\n",
    "    users_playlist = {}\n",
    "    for collections in playlist.items:\n",
    "        users_playlist[collections.name] = collections.id\n",
    "\n",
    "\n",
    "    list_of_keys = list(users_playlist.keys())\n",
    "\n",
    "    for stuff in enumerate(list_of_keys):\n",
    "        print(stuff)\n",
    "\n",
    "\n",
    "    # taking multiple inputs at a time \n",
    "    x = [int(x) for x in input(\"Enter the associated number to the playlist you want analyzed(seperated by spaces): \").split()]\n",
    "    print(\"Number of list is: \", x) \n",
    "\n",
    "    wanted_playlist = []\n",
    "    for playlist_titles in x:\n",
    "        wanted_scan_playlist = users_playlist[list_of_keys[playlist_titles]]\n",
    "        #print(users_playlist[list_of_keys[playlist_titles]])\n",
    "        wanted_playlist.append(wanted_scan_playlist)\n",
    "    #print(wanted_playlist)\n",
    "    \n",
    "grabbing = input(\"gimme your spotify link\")\n",
    "list_of_playlist = input_users_link(grabbing)\n",
    "print(list_of_playlist)"
   ]
  },
  {
   "cell_type": "code",
   "execution_count": null,
   "id": "a0534e85",
   "metadata": {},
   "outputs": [],
   "source": []
  }
 ],
 "metadata": {
  "kernelspec": {
   "display_name": "Python 3 (ipykernel)",
   "language": "python",
   "name": "python3"
  },
  "language_info": {
   "codemirror_mode": {
    "name": "ipython",
    "version": 3
   },
   "file_extension": ".py",
   "mimetype": "text/x-python",
   "name": "python",
   "nbconvert_exporter": "python",
   "pygments_lexer": "ipython3",
   "version": "3.10.8"
  },
  "varInspector": {
   "cols": {
    "lenName": 16,
    "lenType": 16,
    "lenVar": 40
   },
   "kernels_config": {
    "python": {
     "delete_cmd_postfix": "",
     "delete_cmd_prefix": "del ",
     "library": "var_list.py",
     "varRefreshCmd": "print(var_dic_list())"
    },
    "r": {
     "delete_cmd_postfix": ") ",
     "delete_cmd_prefix": "rm(",
     "library": "var_list.r",
     "varRefreshCmd": "cat(var_dic_list()) "
    }
   },
   "types_to_exclude": [
    "module",
    "function",
    "builtin_function_or_method",
    "instance",
    "_Feature"
   ],
   "window_display": false
  }
 },
 "nbformat": 4,
 "nbformat_minor": 5
}
