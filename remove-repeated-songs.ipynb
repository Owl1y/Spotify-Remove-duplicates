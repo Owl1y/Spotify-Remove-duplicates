{
 "cells": [
  {
   "cell_type": "code",
   "execution_count": 1,
   "id": "16d3f02c",
   "metadata": {
    "ExecuteTime": {
     "end_time": "2023-01-13T07:11:41.347724Z",
     "start_time": "2023-01-13T07:11:41.084779Z"
    }
   },
   "outputs": [],
   "source": [
    "import tekore as tk\n",
    "import json\n",
    "import random"
   ]
  },
  {
   "cell_type": "code",
   "execution_count": 2,
   "id": "1e355032",
   "metadata": {
    "ExecuteTime": {
     "end_time": "2023-01-13T07:11:52.237059Z",
     "start_time": "2023-01-13T07:11:42.103655Z"
    }
   },
   "outputs": [
    {
     "name": "stdout",
     "output_type": "stream",
     "text": [
      "Opening browser for Spotify login...\n",
      "Please paste redirect URL: https://github.com/Owl1y/Spotify-Plalylist-Search?code=AQBUnKNMxo8n8hgKdNoe1SWoQ64bh7iIICxgPZxHuZMh9lz5tIstmldEEzBBFA-Qoy_9mw0kAoiQ-2jZoF8MAa3BoEfkU7R-llXbxzyXUoqo0KNbqw9bgtEPvom-xUsbC5kt7Bbd03ZPz99AAUvSqkPf-u8xCHtduJfY52ZikANHPzqOv_qWJXTKA7p0mnmrtgNwaqFXISV3hEJ-W8Dp9VTfMkw-DqzHhpMtrcla-ypEcdiQKPCn5LS_rGZZMU9MfPCg9bM_g9BTBynQ7x48IEsnUJt7EAW9q8QQ_y6yGC2u&state=IKs2eGL7FS1TWYjYieEdJE-OX_8yfDZMQnQTsRS073U\n"
     ]
    }
   ],
   "source": [
    "with open(\"client_nums.txt\", \"r\") as client_nums:\n",
    "    lines = client_nums.readlines()\n",
    "    lines = [line.rstrip() for line in lines]\n",
    "\n",
    "user_id = \"https://open.spotify.com/user/2153lsupa5hschcs774poensq?si=765b0985ebdc45c1\"\n",
    "user_id_cut = user_id[30:55]\n",
    "\n",
    "client_id = lines[0]\n",
    "client_secret = lines[1]\n",
    "redirect_uri = \"https://github.com/Owl1y/Spotify-Plalylist-Search\"\n",
    "conf = (client_id, client_secret, redirect_uri)\n",
    "\n",
    "scoped = tk.scope.playlist_read_collaborative + tk.scope.playlist_read_private + tk.scope.playlist_modify_public\n",
    "token = tk.prompt_for_user_token(*conf, scope=scoped)\n",
    "\n",
    "#spotify = tk.Spotify(token)\n",
    "client = tk.Spotify(token)\n",
    "playlist = client.playlists(user_id_cut)\n"
   ]
  },
  {
   "cell_type": "code",
   "execution_count": 3,
   "id": "aabb7815",
   "metadata": {
    "ExecuteTime": {
     "end_time": "2023-01-13T07:11:53.648730Z",
     "start_time": "2023-01-13T07:11:53.642269Z"
    },
    "code_folding": [
     1,
     20
    ]
   },
   "outputs": [],
   "source": [
    "# function cells\n",
    "def get_playlist_info(the_playlist):\n",
    "    song_ids = []\n",
    "    play_offset =0\n",
    "    playlist_info = {}   \n",
    "    \n",
    "    playlist_songs = client.playlist_items(the_playlist, as_tracks=False, offset=play_offset)\n",
    "    full_list = playlist_songs.total\n",
    "\n",
    "    while full_list != len(playlist_info):\n",
    "        for songs in playlist_songs.items:\n",
    "            song_name = songs.track.name\n",
    "            song_artist = songs.track.artists[0].name\n",
    "            song_id = songs.track.uri\n",
    "            song_ids.append(song_id)\n",
    "            playlist_info.update({song_name: song_artist})\n",
    "        play_offset+=100\n",
    "        playlist_songs = client.playlist_items(the_playlist, as_tracks=False, offset=play_offset)\n",
    "    return playlist_info, song_ids\n",
    "\n",
    "def get_song_ids(the_playlist):\n",
    "    song_ids = []\n",
    "    play_offset =0 \n",
    "    \n",
    "    playlist_songs = client.playlist_items(the_playlist, as_tracks=False, offset=play_offset)\n",
    "    full_list = playlist_songs.total\n",
    "\n",
    "    while full_list != len(song_ids):\n",
    "        for songs in playlist_songs.items:\n",
    "            song_id = songs.track.uri\n",
    "            song_ids.append(song_id)\n",
    "            #print(song_id)\n",
    "        play_offset+=100\n",
    "        playlist_songs = client.playlist_items(the_playlist, as_tracks=False, offset=play_offset)\n",
    "    return song_ids\n"
   ]
  },
  {
   "cell_type": "code",
   "execution_count": 4,
   "id": "1585c9a4",
   "metadata": {
    "ExecuteTime": {
     "end_time": "2023-01-13T07:11:54.256911Z",
     "start_time": "2023-01-13T07:11:54.252824Z"
    }
   },
   "outputs": [],
   "source": [
    "former_playlist = ['7IHZvZIusTuJNMcKleSWwd', \n",
    "                   '6fYjLM7ESHGrh5N9SvzVGB', \n",
    "                   '77sj0Sh0vzMlWnV7SlqkLu', \n",
    "                   '40daaNzvSSvYGIZhqX7HsR', \n",
    "                   '26ZzwXAOlKTvsVjQcQd4gm', \n",
    "                   '7jXzoKibDwt7yYaoU3uPdF', \n",
    "                   '0AFQ3bdD6zCyXda4FOwp39']\n",
    "\n",
    "current_playlist = ['5TMatpArr9xKImvUHGydS8']\n",
    "\n",
    "# godder than a mug--> 5TMatpArr9xKImvUHGydS8"
   ]
  },
  {
   "cell_type": "code",
   "execution_count": 5,
   "id": "58d9c46f",
   "metadata": {
    "ExecuteTime": {
     "end_time": "2023-01-13T07:12:17.315603Z",
     "start_time": "2023-01-13T07:12:12.736616Z"
    }
   },
   "outputs": [
    {
     "name": "stdout",
     "output_type": "stream",
     "text": [
      "[]\n",
      "[]\n",
      "[]\n",
      "[]\n",
      "[]\n",
      "[]\n",
      "['spotify:track:3Fi4yOHkFTfVzOE7Ac3AgN']\n"
     ]
    }
   ],
   "source": [
    "current_pl_uris = get_song_ids(current_playlist[0])\n",
    "\n",
    "for nums in former_playlist:\n",
    "    former_pl_uris = get_song_ids(nums)\n",
    "    duplicate_uris = [songs for songs in former_pl_uris if songs in current_pl_uris]\n",
    "    client.playlist_remove(current_playlist[0], duplicate_uris)\n",
    "    \n",
    "    print(duplicate_uris)\n"
   ]
  },
  {
   "cell_type": "code",
   "execution_count": null,
   "id": "75d938cc",
   "metadata": {},
   "outputs": [],
   "source": []
  }
 ],
 "metadata": {
  "kernelspec": {
   "display_name": "Python 3 (ipykernel)",
   "language": "python",
   "name": "python3"
  },
  "language_info": {
   "codemirror_mode": {
    "name": "ipython",
    "version": 3
   },
   "file_extension": ".py",
   "mimetype": "text/x-python",
   "name": "python",
   "nbconvert_exporter": "python",
   "pygments_lexer": "ipython3",
   "version": "3.10.9"
  }
 },
 "nbformat": 4,
 "nbformat_minor": 5
}
