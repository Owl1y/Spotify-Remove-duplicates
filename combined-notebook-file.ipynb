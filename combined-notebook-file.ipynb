{
 "cells": [
  {
   "cell_type": "code",
   "execution_count": 14,
   "id": "2c2f6af2",
   "metadata": {
    "ExecuteTime": {
     "end_time": "2022-12-23T01:34:43.698596Z",
     "start_time": "2022-12-23T01:34:43.695924Z"
    },
    "scrolled": true
   },
   "outputs": [],
   "source": [
    "import tekore as tk\n",
    "import json\n",
    "import random"
   ]
  },
  {
   "cell_type": "code",
   "execution_count": 2,
   "id": "3f8f4e82",
   "metadata": {
    "ExecuteTime": {
     "end_time": "2022-12-23T01:26:02.984325Z",
     "start_time": "2022-12-23T01:25:51.349554Z"
    },
    "code_folding": []
   },
   "outputs": [
    {
     "name": "stdout",
     "output_type": "stream",
     "text": [
      "Opening browser for Spotify login...\n",
      "Please paste redirect URL: https://github.com/Owl1y/Spotify-Plalylist-Search?code=AQBICQRJ0A9Dfm6GRt2KpvnR_eHpvZkglXBsUyNKjiJO9kSCaz0th5qCD045mmzyVuSmNwZ4um9jc8UyCtdOQEJSsfXsoq0bTdt4ZmF8fb7wqaEwl8fyQ5SI0hhLNrsXlFyybUWaFJsORb9E7dAa5czFLmQUl73rrvsbHGQJwPfyIphI9oFU4IRihf8mkWwPHERgqIsUBNEgYUIVr5eGBR1jRM_3KZHvjyYNcgptpj-kn77FI6H68Fdkw9x2uhT84jjf1pPZ9xo6-om-hC3hQrUr9UNz46hJGnWzZGo0QUQC&state=c-XmfC0WX_-TAPfLnd1IndRfCnttEbThg3OaohKxJTM\n"
     ]
    }
   ],
   "source": [
    "with open(\"client_nums.txt\", \"r\") as client_nums:\n",
    "    lines = client_nums.readlines()\n",
    "    lines = [line.rstrip() for line in lines]\n",
    "\n",
    "user_id = \"https://open.spotify.com/user/2153lsupa5hschcs774poensq?si=765b0985ebdc45c1\"\n",
    "user_id_cut = user_id[30:55]\n",
    "\n",
    "client_id = lines[0]\n",
    "client_secret = lines[1]\n",
    "redirect_uri = \"https://github.com/Owl1y/Spotify-Plalylist-Search\"\n",
    "conf = (client_id, client_secret, redirect_uri)\n",
    "\n",
    "scoped = tk.scope.playlist_read_collaborative + tk.scope.playlist_read_private + tk.scope.playlist_modify_public\n",
    "token = tk.prompt_for_user_token(*conf, scope=scoped)\n",
    "\n",
    "spotify = tk.Spotify(token)\n",
    "playlist = spotify.playlists(user_id_cut)\n",
    "client = tk.Spotify(token)\n"
   ]
  },
  {
   "cell_type": "code",
   "execution_count": 11,
   "id": "6cb8487a",
   "metadata": {
    "ExecuteTime": {
     "end_time": "2022-12-23T01:29:27.163966Z",
     "start_time": "2022-12-23T01:29:26.474342Z"
    }
   },
   "outputs": [
    {
     "name": "stdout",
     "output_type": "stream",
     "text": [
      "0\n"
     ]
    }
   ],
   "source": [
    "theee_playlist = \"https://open.spotify.com/playlist/78KodfOBZ4qd8qLLiuFjcD?si=8113f0bb8c67496e\"[34:56]\n",
    "initial = 0\n",
    "end = 100\n",
    "\n",
    "theee_pl_len = client.playlist_items(theee_playlist, as_tracks=False)\n",
    "full_theee_pl_len = theee_pl_len.total\n",
    "print(full_theee_pl_len)"
   ]
  },
  {
   "cell_type": "code",
   "execution_count": 25,
   "id": "2f4fa7d1",
   "metadata": {
    "ExecuteTime": {
     "end_time": "2022-12-23T01:47:34.709349Z",
     "start_time": "2022-12-23T01:47:28.197960Z"
    },
    "code_folding": [
     18
    ],
    "scrolled": false
   },
   "outputs": [
    {
     "name": "stdout",
     "output_type": "stream",
     "text": [
      "(0, 'Gooder den uh mug')\n",
      "(1, 'your life bro')\n",
      "(2, 'Graduation')\n",
      "(3, 'E.A.V')\n",
      "(4, 'Best of Kone')\n",
      "(5, '😏')\n",
      "(6, 'chill bro chill ')\n",
      "(7, 'My ass ')\n",
      "(8, 'Ωur')\n",
      "(9, 'Thee Playlist')\n",
      "(10, 'Oldies')\n",
      "(11, 'zoom')\n",
      "(12, 'Memes ')\n",
      "(13, 'μμ')\n",
      "(14, '/mu/core')\n",
      "(15, 'Your Top Songs 2022')\n",
      "(16, 'Your Top Songs 2021')\n",
      "(17, 'Your Top Songs 2020')\n",
      "(18, 'Your Top Songs 2019')\n",
      "(19, 'Your Top Songs 2018')\n",
      "Enter the associated number to the playlist you want analyzed(seperated by spaces): 0\n",
      "Number of list is:  [0]\n",
      "5TMatpArr9xKImvUHGydS8\n"
     ]
    }
   ],
   "source": [
    "users_playlist = {}\n",
    "for collections in playlist.items:\n",
    "    users_playlist[collections.name] = collections.id\n",
    "\n",
    "list_of_keys = list(users_playlist.keys())\n",
    "\n",
    "for stuff in enumerate(list_of_keys):\n",
    "    print(stuff)\n",
    "    \n",
    "x = [int(x) for x in input(\"Enter the associated number to the playlist you want analyzed(seperated by spaces): \").split()]\n",
    "print(\"Number of list is: \", x) \n",
    "\n",
    "wanted_playlist = []\n",
    "for playlist_titles in x:\n",
    "    wanted_scan_playlist = users_playlist[list_of_keys[playlist_titles]]\n",
    "    print(users_playlist[list_of_keys[playlist_titles]])\n",
    "    wanted_playlist.append(wanted_scan_playlist)\n",
    "    \n",
    "def get_the_playlists_info_with_song_id(the_playlist):\n",
    "    song_ids = []\n",
    "    play_offset =0\n",
    "    playlist_info = {}   \n",
    "    \n",
    "    playlist_songs = client.playlist_items(the_playlist, as_tracks=False, offset=play_offset)\n",
    "    full_list = playlist_songs.total\n",
    "\n",
    "    while full_list != len(playlist_info):\n",
    "        for songs in playlist_songs.items:\n",
    "            song_name = songs.track.name\n",
    "            song_artist = songs.track.artists[0].name\n",
    "            song_id = songs.track.uri\n",
    "            song_ids.append(song_id)\n",
    "            playlist_info.update({song_name: song_artist})\n",
    "        play_offset+=100\n",
    "        playlist_songs = client.playlist_items(the_playlist, as_tracks=False, offset=play_offset)\n",
    "    return playlist_info, song_ids\n",
    "\n",
    "final_ids = []\n",
    "final_play_dict = {}\n",
    "for i in wanted_playlist:\n",
    "    partial_play_dict, partial_song_id = get_the_playlists_info_with_song_id(i)\n",
    "    final_ids.extend(partial_song_id)\n",
    "    final_play_dict |= partial_play_dict\n",
    "\n",
    "#print(json.dumps(final_play_dict, indent=2))\n",
    "#print(final_ids)\n",
    "#print(json.dumps(playlist_info, indent=2))\n",
    "\n",
    "#add_to_playlist(final_ids, theee_playlist)\n",
    "#add_to_playlist(final_ids, theee_playlist)\n",
    "\n",
    "#client.playlist_add(theee_playlist, final_ids[initial:end], position=0)\n",
    "\n",
    "\n",
    "for i in range(0, len(final_ids), 100):\n",
    "    start = i\n",
    "    fin = 100 + i\n",
    "    client.playlist_add(theee_playlist, final_ids[start:fin], position=0)\n",
    "    #print(final_ids[start:fin])\n",
    "    \n",
    "\n"
   ]
  },
  {
   "cell_type": "code",
   "execution_count": null,
   "id": "76564f39",
   "metadata": {
    "ExecuteTime": {
     "end_time": "2022-12-22T08:17:48.876183Z",
     "start_time": "2022-12-22T08:17:48.865766Z"
    },
    "code_folding": [
     0,
     21,
     37
    ]
   },
   "outputs": [],
   "source": [
    "def get_the_playlists_info_with_song_id(the_playlist):\n",
    "    song_ids = []\n",
    "    play_offset =0\n",
    "    playlist_info = {}   \n",
    "    \n",
    "    playlist_songs = client.playlist_items(the_playlist, as_tracks=False, offset=play_offset)\n",
    "    full_list = playlist_songs.total\n",
    "\n",
    "    while full_list != len(playlist_info):\n",
    "        for songs in playlist_songs.items:\n",
    "            song_name = songs.track.name\n",
    "            song_artist = songs.track.artists[0].name\n",
    "            song_id = songs.track.uri\n",
    "            song_ids.append(song_id)\n",
    "            playlist_info.update({song_name: song_artist})\n",
    "        play_offset+=100\n",
    "        playlist_songs = client.playlist_items(the_playlist, as_tracks=False, offset=play_offset)\n",
    "    return playlist_info, song_ids\n",
    "\n",
    "#gtpiwsi \n",
    "\n",
    "def get_song_id(the_playlist):\n",
    "    song_ids = []\n",
    "    play_offset =0 \n",
    "    \n",
    "    playlist_songs = client.playlist_items(the_playlist, as_tracks=False, offset=play_offset)\n",
    "    full_list = playlist_songs.total\n",
    "\n",
    "    while full_list != len(playlist_info):\n",
    "        for songs in playlist_songs.items:\n",
    "            song_id = songs.track.id\n",
    "            song_ids.append(song_id)\n",
    "            #print(song_id)\n",
    "        play_offset+=100\n",
    "        playlist_songs = client.playlist_items(the_playlist, as_tracks=False, offset=play_offset)\n",
    "    return song_ids\n",
    "\n",
    "def get_the_playlists_info(the_playlist):\n",
    "    play_offset =0\n",
    "    playlist_info = {}   \n",
    "    \n",
    "    playlist_songs = client.playlist_items(the_playlist, as_tracks=False, offset=play_offset)\n",
    "    full_list = playlist_songs.total\n",
    "\n",
    "    while full_list != len(playlist_info):\n",
    "        for songs in playlist_songs.items:\n",
    "            song_name = songs.track.name\n",
    "            song_artist = songs.track.artists[0].name\n",
    "            playlist_info.update({song_name: song_artist})\n",
    "        play_offset+=100\n",
    "        playlist_songs = client.playlist_items(the_playlist, as_tracks=False, offset=play_offset)\n",
    "    return playlist_info"
   ]
  },
  {
   "cell_type": "code",
   "execution_count": null,
   "id": "96835ae5",
   "metadata": {
    "ExecuteTime": {
     "end_time": "2022-12-22T08:27:21.418361Z",
     "start_time": "2022-12-22T08:27:21.415279Z"
    }
   },
   "outputs": [],
   "source": [
    "def add_to_playlist(playlist_ids, thee_pl_id):\n",
    "    #print(playlist_ids)\n",
    "    for track in playlist_ids:\n",
    "        client.playlist_add(thee_pl_id, track, position=0)\n",
    "        #if track != playlist_ids:\n",
    "            #client.playlist_add(thee_pl_id, track, position=0)\n",
    "            #print(track)"
   ]
  },
  {
   "cell_type": "code",
   "execution_count": 23,
   "id": "6e40ded7",
   "metadata": {
    "ExecuteTime": {
     "end_time": "2022-12-23T01:43:49.177394Z",
     "start_time": "2022-12-23T01:43:48.624022Z"
    },
    "code_folding": []
   },
   "outputs": [
    {
     "data": {
      "text/plain": [
       "{'snapshot_id': 'MzM1LGE4NzY3ZTBiMDAzODI1ZTFiN2Q2MDZmMmNkN2U4MjhkODg1MTE1YzY='}"
      ]
     },
     "execution_count": 23,
     "metadata": {},
     "output_type": "execute_result"
    }
   ],
   "source": [
    "# delete the songs on thee playlist\n",
    "client.playlist_clear(theee_playlist)\n"
   ]
  },
  {
   "cell_type": "code",
   "execution_count": 20,
   "id": "076ec036",
   "metadata": {
    "ExecuteTime": {
     "end_time": "2022-12-23T01:40:11.408061Z",
     "start_time": "2022-12-23T01:40:11.403115Z"
    },
    "scrolled": true
   },
   "outputs": [
    {
     "name": "stdout",
     "output_type": "stream",
     "text": [
      "[5, 668, 231, 721, 564, 919, 126, 814, 372, 473, 594, 415, 352, 987, 493, 49, 234, 152, 113, 546, 203, 64, 990, 287, 246, 428, 961, 374, 268, 46, 335, 340, 182, 257, 509, 576, 863, 662, 700, 364, 968, 691, 103, 322, 412, 948, 896, 200, 911, 529, 151, 242, 611, 481, 695, 599, 937, 453, 450, 228, 158, 903, 628, 323, 586, 939, 85, 595, 79, 478, 791, 21, 384, 626, 59, 220, 652, 141, 579, 759, 258, 631, 236, 253, 280, 820, 542, 178, 385, 292, 694, 378, 697, 360, 461, 186, 769, 118, 590, 298, 472, 339, 421, 764, 858, 867, 577, 785, 243, 608, 736, 894, 926, 288, 499, 607, 423, 150, 553, 536, 823, 190, 417, 255, 225, 657, 386, 23, 433, 760, 719, 989, 560, 361, 254, 874, 683, 846, 475, 32, 844, 923, 377, 555, 135, 191, 176, 942, 238, 723, 704, 470, 376, 735, 164, 554, 702, 938, 773, 100, 437, 476, 839, 391, 444, 883, 221, 33, 517, 749, 145, 752, 316, 672, 15, 226, 956, 625, 285, 955, 981, 906, 10, 183, 800, 619, 976, 528, 877, 943, 970, 512, 807, 677, 447, 446, 984, 302, 630, 813, 468, 55, 435, 301, 921, 127, 201, 388, 824, 514, 381, 424, 716, 348, 843, 936, 582, 545, 331, 900, 699, 271, 2, 497, 778, 407, 128, 812, 742, 887, 620, 724, 743, 612, 715, 795, 70, 392, 915, 562, 693, 402, 901, 792, 767, 42, 692, 72, 35, 195, 575, 375, 217, 40, 37, 829, 899, 305, 804, 27, 521, 636, 963, 527, 907, 96, 175, 513, 665, 667, 600, 985, 674, 317, 173, 159, 872, 76, 790, 831, 199, 205, 569, 997, 524, 120, 480, 950, 531, 119, 535, 244, 179, 797, 821, 396, 237, 725, 801, 419, 414, 633, 971, 781, 624, 501, 999, 679, 345, 654, 848, 74, 928, 880, 508, 172, 429, 969, 502, 286, 580, 245, 532, 457, 239, 57, 63, 986, 222, 425, 998, 954, 648, 666, 445, 342, 11, 36, 663, 656, 565, 772, 515, 105, 458, 250, 227, 380, 713, 539, 162, 329, 518, 397, 121, 598, 862, 233, 635, 232, 215, 295, 567, 784, 655, 136, 995, 66, 958, 168, 422, 281, 434, 289, 945, 871, 559, 99, 366, 953, 860, 18, 371, 979, 420, 682, 519, 526, 438, 711, 44, 929, 838, 544, 558, 115, 525, 853, 319, 487, 675, 754, 503, 416, 538, 350, 153, 299, 146, 16, 762, 463, 507, 835, 850, 975, 202, 909, 456, 483, 574, 28, 833, 351, 163, 609, 645, 306, 802, 347, 888, 825, 89, 88, 382, 47, 642, 912, 25, 19, 905, 707, 520, 886, 816, 864, 614, 828, 367, 935, 669, 794, 269, 734, 973, 603, 24, 224, 400, 125, 78, 964, 547, 650, 370, 443, 551, 616, 474, 43, 216, 477, 959, 875, 498, 311, 353, 808, 209, 596, 69, 1, 751, 832, 8, 623, 83, 637, 787, 696, 267, 91, 568, 991, 336, 20, 459, 334, 889, 328, 982]\n",
      "501\n",
      "[5, 668, 231, 721, 564, 919, 126, 814, 372, 473, 594, 415, 352, 987, 493, 49, 234, 152, 113, 546, 203, 64, 990, 287, 246, 428, 961, 374, 268, 46, 335, 340, 182, 257, 509, 576, 863, 662, 700, 364, 968, 691, 103, 322, 412, 948, 896, 200, 911, 529, 151, 242, 611, 481, 695, 599, 937, 453, 450, 228, 158, 903, 628, 323, 586, 939, 85, 595, 79, 478, 791, 21, 384, 626, 59, 220, 652, 141, 579, 759, 258, 631, 236, 253, 280, 820, 542, 178, 385, 292, 694, 378, 697, 360, 461, 186, 769, 118, 590, 298]\n",
      "[472, 339, 421, 764, 858, 867, 577, 785, 243, 608, 736, 894, 926, 288, 499, 607, 423, 150, 553, 536, 823, 190, 417, 255, 225, 657, 386, 23, 433, 760, 719, 989, 560, 361, 254, 874, 683, 846, 475, 32, 844, 923, 377, 555, 135, 191, 176, 942, 238, 723, 704, 470, 376, 735, 164, 554, 702, 938, 773, 100, 437, 476, 839, 391, 444, 883, 221, 33, 517, 749, 145, 752, 316, 672, 15, 226, 956, 625, 285, 955, 981, 906, 10, 183, 800, 619, 976, 528, 877, 943, 970, 512, 807, 677, 447, 446, 984, 302, 630, 813]\n",
      "[468, 55, 435, 301, 921, 127, 201, 388, 824, 514, 381, 424, 716, 348, 843, 936, 582, 545, 331, 900, 699, 271, 2, 497, 778, 407, 128, 812, 742, 887, 620, 724, 743, 612, 715, 795, 70, 392, 915, 562, 693, 402, 901, 792, 767, 42, 692, 72, 35, 195, 575, 375, 217, 40, 37, 829, 899, 305, 804, 27, 521, 636, 963, 527, 907, 96, 175, 513, 665, 667, 600, 985, 674, 317, 173, 159, 872, 76, 790, 831, 199, 205, 569, 997, 524, 120, 480, 950, 531, 119, 535, 244, 179, 797, 821, 396, 237, 725, 801, 419]\n",
      "[414, 633, 971, 781, 624, 501, 999, 679, 345, 654, 848, 74, 928, 880, 508, 172, 429, 969, 502, 286, 580, 245, 532, 457, 239, 57, 63, 986, 222, 425, 998, 954, 648, 666, 445, 342, 11, 36, 663, 656, 565, 772, 515, 105, 458, 250, 227, 380, 713, 539, 162, 329, 518, 397, 121, 598, 862, 233, 635, 232, 215, 295, 567, 784, 655, 136, 995, 66, 958, 168, 422, 281, 434, 289, 945, 871, 559, 99, 366, 953, 860, 18, 371, 979, 420, 682, 519, 526, 438, 711, 44, 929, 838, 544, 558, 115, 525, 853, 319, 487]\n",
      "[675, 754, 503, 416, 538, 350, 153, 299, 146, 16, 762, 463, 507, 835, 850, 975, 202, 909, 456, 483, 574, 28, 833, 351, 163, 609, 645, 306, 802, 347, 888, 825, 89, 88, 382, 47, 642, 912, 25, 19, 905, 707, 520, 886, 816, 864, 614, 828, 367, 935, 669, 794, 269, 734, 973, 603, 24, 224, 400, 125, 78, 964, 547, 650, 370, 443, 551, 616, 474, 43, 216, 477, 959, 875, 498, 311, 353, 808, 209, 596, 69, 1, 751, 832, 8, 623, 83, 637, 787, 696, 267, 91, 568, 991, 336, 20, 459, 334, 889, 328]\n",
      "[982]\n"
     ]
    }
   ],
   "source": [
    "random_numbers = random.sample(range(1000), 501)\n",
    "\n",
    "print(random_numbers)\n",
    "print(len(random_numbers))\n",
    "for i in range(0, len(random_numbers), 100):\n",
    "    start = i\n",
    "    fin = 100 + i\n",
    "    print(random_numbers[start:fin])\n"
   ]
  },
  {
   "cell_type": "code",
   "execution_count": null,
   "id": "ac2c1d54",
   "metadata": {},
   "outputs": [],
   "source": []
  }
 ],
 "metadata": {
  "kernelspec": {
   "display_name": "Python 3 (ipykernel)",
   "language": "python",
   "name": "python3"
  },
  "language_info": {
   "codemirror_mode": {
    "name": "ipython",
    "version": 3
   },
   "file_extension": ".py",
   "mimetype": "text/x-python",
   "name": "python",
   "nbconvert_exporter": "python",
   "pygments_lexer": "ipython3",
   "version": "3.10.8"
  }
 },
 "nbformat": 4,
 "nbformat_minor": 5
}
