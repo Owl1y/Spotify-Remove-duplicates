{
 "cells": [
  {
   "cell_type": "code",
   "execution_count": 1,
   "id": "2c2f6af2",
   "metadata": {
    "ExecuteTime": {
     "end_time": "2022-12-24T23:18:03.713995Z",
     "start_time": "2022-12-24T23:18:03.481439Z"
    },
    "scrolled": true
   },
   "outputs": [],
   "source": [
    "import tekore as tk\n",
    "import json\n",
    "import random"
   ]
  },
  {
   "cell_type": "code",
   "execution_count": 2,
   "id": "3f8f4e82",
   "metadata": {
    "ExecuteTime": {
     "end_time": "2022-12-24T23:18:12.478068Z",
     "start_time": "2022-12-24T23:18:04.576969Z"
    },
    "code_folding": []
   },
   "outputs": [
    {
     "name": "stdout",
     "output_type": "stream",
     "text": [
      "Opening browser for Spotify login...\n",
      "Please paste redirect URL: https://github.com/Owl1y/Spotify-Plalylist-Search?code=AQBjhhqgCtq_ivftC9ah7lY_gNywynJ-I4zi_rRKygCkAiGkjbnVRGWnbEHlonLRoWRIh6SMMphqVpgvxVF7b-roytVwjwKvLE_Zj3w_-0NbdERqn0VkZrZsc0dVS6ix57X9iGNzglSCd_Qey4YBDz20wWXW0lOSeAAy_7WX_gCgNroD9hU6IEbr-WKn3Sxtw_QvdKhZNL_v_sjeceWz_B2dP9Nwzkk8WBFrr-zM-TyhBOxCgbhfZKqQhEP4LUUhf505chEHPePuRvr2zzNWbq_guG6jpMQ1YCeNzTWnpad3&state=WKrremVAvR9kqQVXAdH1H2i7wzxL-bgs72GQUJuZ-jo\n"
     ]
    }
   ],
   "source": [
    "with open(\"client_nums.txt\", \"r\") as client_nums:\n",
    "    lines = client_nums.readlines()\n",
    "    lines = [line.rstrip() for line in lines]\n",
    "\n",
    "user_id = \"https://open.spotify.com/user/2153lsupa5hschcs774poensq?si=765b0985ebdc45c1\"\n",
    "user_id_cut = user_id[30:55]\n",
    "\n",
    "client_id = lines[0]\n",
    "client_secret = lines[1]\n",
    "redirect_uri = \"https://github.com/Owl1y/Spotify-Plalylist-Search\"\n",
    "conf = (client_id, client_secret, redirect_uri)\n",
    "\n",
    "scoped = tk.scope.playlist_read_collaborative + tk.scope.playlist_read_private + tk.scope.playlist_modify_public\n",
    "token = tk.prompt_for_user_token(*conf, scope=scoped)\n",
    "\n",
    "spotify = tk.Spotify(token)\n",
    "playlist = spotify.playlists(user_id_cut)\n",
    "client = tk.Spotify(token)\n"
   ]
  },
  {
   "cell_type": "code",
   "execution_count": 5,
   "id": "6cb8487a",
   "metadata": {
    "ExecuteTime": {
     "end_time": "2022-12-24T23:21:07.896031Z",
     "start_time": "2022-12-24T23:18:38.408928Z"
    },
    "scrolled": true
   },
   "outputs": [
    {
     "ename": "KeyboardInterrupt",
     "evalue": "",
     "output_type": "error",
     "traceback": [
      "\u001b[0;31m---------------------------------------------------------------------------\u001b[0m",
      "\u001b[0;31mKeyboardInterrupt\u001b[0m                         Traceback (most recent call last)",
      "Cell \u001b[0;32mIn [5], line 12\u001b[0m\n\u001b[1;32m      9\u001b[0m \u001b[38;5;66;03m#swag1, swag2 = get_playlist_info(theee_playlist)\u001b[39;00m\n\u001b[1;32m     11\u001b[0m \u001b[38;5;28;01mfor\u001b[39;00m index \u001b[38;5;129;01min\u001b[39;00m the_pl_array:\n\u001b[0;32m---> 12\u001b[0m     swag3, swag4\u001b[38;5;241m=\u001b[39m get_playlist_info(index)\n\u001b[1;32m     13\u001b[0m     swag2\u001b[38;5;241m.\u001b[39mextend(swag4)\n\u001b[1;32m     14\u001b[0m     swag1 \u001b[38;5;241m|\u001b[39m\u001b[38;5;241m=\u001b[39m swag3\n",
      "Cell \u001b[0;32mIn [4], line 35\u001b[0m, in \u001b[0;36mget_playlist_info\u001b[0;34m(the_playlist)\u001b[0m\n\u001b[1;32m     33\u001b[0m         playlist_info\u001b[38;5;241m.\u001b[39mupdate({song_name: song_artist})\n\u001b[1;32m     34\u001b[0m     play_offset\u001b[38;5;241m+\u001b[39m\u001b[38;5;241m=\u001b[39m\u001b[38;5;241m100\u001b[39m\n\u001b[0;32m---> 35\u001b[0m     playlist_songs \u001b[38;5;241m=\u001b[39m \u001b[43mclient\u001b[49m\u001b[38;5;241;43m.\u001b[39;49m\u001b[43mplaylist_items\u001b[49m\u001b[43m(\u001b[49m\u001b[43mthe_playlist\u001b[49m\u001b[43m,\u001b[49m\u001b[43m \u001b[49m\u001b[43mas_tracks\u001b[49m\u001b[38;5;241;43m=\u001b[39;49m\u001b[38;5;28;43;01mFalse\u001b[39;49;00m\u001b[43m,\u001b[49m\u001b[43m \u001b[49m\u001b[43moffset\u001b[49m\u001b[38;5;241;43m=\u001b[39;49m\u001b[43mplay_offset\u001b[49m\u001b[43m)\u001b[49m\n\u001b[1;32m     36\u001b[0m \u001b[38;5;28;01mreturn\u001b[39;00m playlist_info, song_ids\n",
      "File \u001b[0;32m~/.local/lib/python3.10/site-packages/tekore/_client/api/playlist/view.py:46\u001b[0m, in \u001b[0;36mprocess_if_not_specified.<locals>.decorator.<locals>.wrapper\u001b[0;34m(self, *args, **kwargs)\u001b[0m\n\u001b[1;32m     43\u001b[0m \u001b[38;5;28;01mif\u001b[39;00m \u001b[38;5;28mself\u001b[39m\u001b[38;5;241m.\u001b[39mis_async:\n\u001b[1;32m     44\u001b[0m     \u001b[38;5;28;01mreturn\u001b[39;00m async_wrapper(\u001b[38;5;28mself\u001b[39m, \u001b[38;5;241m*\u001b[39margs, \u001b[38;5;241m*\u001b[39m\u001b[38;5;241m*\u001b[39mkwargs)\n\u001b[0;32m---> 46\u001b[0m json \u001b[38;5;241m=\u001b[39m \u001b[43mfunction\u001b[49m\u001b[43m(\u001b[49m\u001b[38;5;28;43mself\u001b[39;49m\u001b[43m,\u001b[49m\u001b[43m \u001b[49m\u001b[38;5;241;43m*\u001b[39;49m\u001b[43margs\u001b[49m\u001b[43m,\u001b[49m\u001b[43m \u001b[49m\u001b[38;5;241;43m*\u001b[39;49m\u001b[38;5;241;43m*\u001b[39;49m\u001b[43mkwargs\u001b[49m\u001b[43m)\u001b[49m\n\u001b[1;32m     47\u001b[0m \u001b[38;5;28;01mreturn\u001b[39;00m post_func(json)\n",
      "File \u001b[0;32m~/.local/lib/python3.10/site-packages/tekore/_sender/client.py:78\u001b[0m, in \u001b[0;36msend_and_process.<locals>.decorator.<locals>.wrapper\u001b[0;34m(self, *args, **kwargs)\u001b[0m\n\u001b[1;32m     75\u001b[0m \u001b[38;5;28;01mif\u001b[39;00m \u001b[38;5;28mself\u001b[39m\u001b[38;5;241m.\u001b[39mis_async:\n\u001b[1;32m     76\u001b[0m     \u001b[38;5;28;01mreturn\u001b[39;00m async_send(\u001b[38;5;28mself\u001b[39m, request, params)\n\u001b[0;32m---> 78\u001b[0m response \u001b[38;5;241m=\u001b[39m \u001b[38;5;28;43mself\u001b[39;49m\u001b[38;5;241;43m.\u001b[39;49m\u001b[43msend\u001b[49m\u001b[43m(\u001b[49m\u001b[43mrequest\u001b[49m\u001b[43m)\u001b[49m\n\u001b[1;32m     79\u001b[0m \u001b[38;5;28;01mreturn\u001b[39;00m post_func(request, response, \u001b[38;5;241m*\u001b[39mparams)\n",
      "File \u001b[0;32m~/.local/lib/python3.10/site-packages/tekore/_client/base.py:115\u001b[0m, in \u001b[0;36mSpotifyBase.send\u001b[0;34m(self, request)\u001b[0m\n\u001b[1;32m    113\u001b[0m     headers\u001b[38;5;241m.\u001b[39mupdate(request\u001b[38;5;241m.\u001b[39mheaders)\n\u001b[1;32m    114\u001b[0m request\u001b[38;5;241m.\u001b[39mheaders \u001b[38;5;241m=\u001b[39m headers\n\u001b[0;32m--> 115\u001b[0m \u001b[38;5;28;01mreturn\u001b[39;00m \u001b[38;5;28;43mself\u001b[39;49m\u001b[38;5;241;43m.\u001b[39;49m\u001b[43msender\u001b[49m\u001b[38;5;241;43m.\u001b[39;49m\u001b[43msend\u001b[49m\u001b[43m(\u001b[49m\u001b[43mrequest\u001b[49m\u001b[43m)\u001b[49m\n",
      "File \u001b[0;32m~/.local/lib/python3.10/site-packages/tekore/_sender/concrete.py:36\u001b[0m, in \u001b[0;36mSyncSender.send\u001b[0;34m(self, request)\u001b[0m\n\u001b[1;32m     34\u001b[0m \u001b[38;5;28;01mdef\u001b[39;00m \u001b[38;5;21msend\u001b[39m(\u001b[38;5;28mself\u001b[39m, request: Request) \u001b[38;5;241m-\u001b[39m\u001b[38;5;241m>\u001b[39m Response:\n\u001b[1;32m     35\u001b[0m     \u001b[38;5;124;03m\"\"\"Send request with :class:`httpx.Client`.\"\"\"\u001b[39;00m\n\u001b[0;32m---> 36\u001b[0m     response \u001b[38;5;241m=\u001b[39m \u001b[38;5;28;43mself\u001b[39;49m\u001b[38;5;241;43m.\u001b[39;49m\u001b[43mclient\u001b[49m\u001b[38;5;241;43m.\u001b[39;49m\u001b[43mrequest\u001b[49m\u001b[43m(\u001b[49m\n\u001b[1;32m     37\u001b[0m \u001b[43m        \u001b[49m\u001b[43mmethod\u001b[49m\u001b[38;5;241;43m=\u001b[39;49m\u001b[43mrequest\u001b[49m\u001b[38;5;241;43m.\u001b[39;49m\u001b[43mmethod\u001b[49m\u001b[43m,\u001b[49m\n\u001b[1;32m     38\u001b[0m \u001b[43m        \u001b[49m\u001b[43murl\u001b[49m\u001b[38;5;241;43m=\u001b[39;49m\u001b[43mrequest\u001b[49m\u001b[38;5;241;43m.\u001b[39;49m\u001b[43murl\u001b[49m\u001b[43m,\u001b[49m\n\u001b[1;32m     39\u001b[0m \u001b[43m        \u001b[49m\u001b[43mparams\u001b[49m\u001b[38;5;241;43m=\u001b[39;49m\u001b[43mrequest\u001b[49m\u001b[38;5;241;43m.\u001b[39;49m\u001b[43mparams\u001b[49m\u001b[43m,\u001b[49m\n\u001b[1;32m     40\u001b[0m \u001b[43m        \u001b[49m\u001b[43mheaders\u001b[49m\u001b[38;5;241;43m=\u001b[39;49m\u001b[43mrequest\u001b[49m\u001b[38;5;241;43m.\u001b[39;49m\u001b[43mheaders\u001b[49m\u001b[43m,\u001b[49m\n\u001b[1;32m     41\u001b[0m \u001b[43m        \u001b[49m\u001b[43mdata\u001b[49m\u001b[38;5;241;43m=\u001b[39;49m\u001b[43mrequest\u001b[49m\u001b[38;5;241;43m.\u001b[39;49m\u001b[43mdata\u001b[49m\u001b[43m,\u001b[49m\n\u001b[1;32m     42\u001b[0m \u001b[43m        \u001b[49m\u001b[43mjson\u001b[49m\u001b[38;5;241;43m=\u001b[39;49m\u001b[43mrequest\u001b[49m\u001b[38;5;241;43m.\u001b[39;49m\u001b[43mjson\u001b[49m\u001b[43m,\u001b[49m\n\u001b[1;32m     43\u001b[0m \u001b[43m        \u001b[49m\u001b[43mcontent\u001b[49m\u001b[38;5;241;43m=\u001b[39;49m\u001b[43mrequest\u001b[49m\u001b[38;5;241;43m.\u001b[39;49m\u001b[43mcontent\u001b[49m\u001b[43m,\u001b[49m\n\u001b[1;32m     44\u001b[0m \u001b[43m    \u001b[49m\u001b[43m)\u001b[49m\n\u001b[1;32m     45\u001b[0m     \u001b[38;5;28;01mreturn\u001b[39;00m Response(\n\u001b[1;32m     46\u001b[0m         url\u001b[38;5;241m=\u001b[39m\u001b[38;5;28mstr\u001b[39m(response\u001b[38;5;241m.\u001b[39murl),\n\u001b[1;32m     47\u001b[0m         headers\u001b[38;5;241m=\u001b[39mresponse\u001b[38;5;241m.\u001b[39mheaders,\n\u001b[1;32m     48\u001b[0m         status_code\u001b[38;5;241m=\u001b[39mresponse\u001b[38;5;241m.\u001b[39mstatus_code,\n\u001b[1;32m     49\u001b[0m         content\u001b[38;5;241m=\u001b[39mtry_parse_json(response),\n\u001b[1;32m     50\u001b[0m     )\n",
      "File \u001b[0;32m~/.local/lib/python3.10/site-packages/httpx/_client.py:815\u001b[0m, in \u001b[0;36mClient.request\u001b[0;34m(self, method, url, content, data, files, json, params, headers, cookies, auth, follow_redirects, timeout, extensions)\u001b[0m\n\u001b[1;32m    800\u001b[0m     warnings\u001b[38;5;241m.\u001b[39mwarn(message, \u001b[38;5;167;01mDeprecationWarning\u001b[39;00m)\n\u001b[1;32m    802\u001b[0m request \u001b[38;5;241m=\u001b[39m \u001b[38;5;28mself\u001b[39m\u001b[38;5;241m.\u001b[39mbuild_request(\n\u001b[1;32m    803\u001b[0m     method\u001b[38;5;241m=\u001b[39mmethod,\n\u001b[1;32m    804\u001b[0m     url\u001b[38;5;241m=\u001b[39murl,\n\u001b[0;32m   (...)\u001b[0m\n\u001b[1;32m    813\u001b[0m     extensions\u001b[38;5;241m=\u001b[39mextensions,\n\u001b[1;32m    814\u001b[0m )\n\u001b[0;32m--> 815\u001b[0m \u001b[38;5;28;01mreturn\u001b[39;00m \u001b[38;5;28;43mself\u001b[39;49m\u001b[38;5;241;43m.\u001b[39;49m\u001b[43msend\u001b[49m\u001b[43m(\u001b[49m\u001b[43mrequest\u001b[49m\u001b[43m,\u001b[49m\u001b[43m \u001b[49m\u001b[43mauth\u001b[49m\u001b[38;5;241;43m=\u001b[39;49m\u001b[43mauth\u001b[49m\u001b[43m,\u001b[49m\u001b[43m \u001b[49m\u001b[43mfollow_redirects\u001b[49m\u001b[38;5;241;43m=\u001b[39;49m\u001b[43mfollow_redirects\u001b[49m\u001b[43m)\u001b[49m\n",
      "File \u001b[0;32m~/.local/lib/python3.10/site-packages/httpx/_client.py:902\u001b[0m, in \u001b[0;36mClient.send\u001b[0;34m(self, request, stream, auth, follow_redirects)\u001b[0m\n\u001b[1;32m    894\u001b[0m follow_redirects \u001b[38;5;241m=\u001b[39m (\n\u001b[1;32m    895\u001b[0m     \u001b[38;5;28mself\u001b[39m\u001b[38;5;241m.\u001b[39mfollow_redirects\n\u001b[1;32m    896\u001b[0m     \u001b[38;5;28;01mif\u001b[39;00m \u001b[38;5;28misinstance\u001b[39m(follow_redirects, UseClientDefault)\n\u001b[1;32m    897\u001b[0m     \u001b[38;5;28;01melse\u001b[39;00m follow_redirects\n\u001b[1;32m    898\u001b[0m )\n\u001b[1;32m    900\u001b[0m auth \u001b[38;5;241m=\u001b[39m \u001b[38;5;28mself\u001b[39m\u001b[38;5;241m.\u001b[39m_build_request_auth(request, auth)\n\u001b[0;32m--> 902\u001b[0m response \u001b[38;5;241m=\u001b[39m \u001b[38;5;28;43mself\u001b[39;49m\u001b[38;5;241;43m.\u001b[39;49m\u001b[43m_send_handling_auth\u001b[49m\u001b[43m(\u001b[49m\n\u001b[1;32m    903\u001b[0m \u001b[43m    \u001b[49m\u001b[43mrequest\u001b[49m\u001b[43m,\u001b[49m\n\u001b[1;32m    904\u001b[0m \u001b[43m    \u001b[49m\u001b[43mauth\u001b[49m\u001b[38;5;241;43m=\u001b[39;49m\u001b[43mauth\u001b[49m\u001b[43m,\u001b[49m\n\u001b[1;32m    905\u001b[0m \u001b[43m    \u001b[49m\u001b[43mfollow_redirects\u001b[49m\u001b[38;5;241;43m=\u001b[39;49m\u001b[43mfollow_redirects\u001b[49m\u001b[43m,\u001b[49m\n\u001b[1;32m    906\u001b[0m \u001b[43m    \u001b[49m\u001b[43mhistory\u001b[49m\u001b[38;5;241;43m=\u001b[39;49m\u001b[43m[\u001b[49m\u001b[43m]\u001b[49m\u001b[43m,\u001b[49m\n\u001b[1;32m    907\u001b[0m \u001b[43m\u001b[49m\u001b[43m)\u001b[49m\n\u001b[1;32m    908\u001b[0m \u001b[38;5;28;01mtry\u001b[39;00m:\n\u001b[1;32m    909\u001b[0m     \u001b[38;5;28;01mif\u001b[39;00m \u001b[38;5;129;01mnot\u001b[39;00m stream:\n",
      "File \u001b[0;32m~/.local/lib/python3.10/site-packages/httpx/_client.py:930\u001b[0m, in \u001b[0;36mClient._send_handling_auth\u001b[0;34m(self, request, auth, follow_redirects, history)\u001b[0m\n\u001b[1;32m    927\u001b[0m request \u001b[38;5;241m=\u001b[39m \u001b[38;5;28mnext\u001b[39m(auth_flow)\n\u001b[1;32m    929\u001b[0m \u001b[38;5;28;01mwhile\u001b[39;00m \u001b[38;5;28;01mTrue\u001b[39;00m:\n\u001b[0;32m--> 930\u001b[0m     response \u001b[38;5;241m=\u001b[39m \u001b[38;5;28;43mself\u001b[39;49m\u001b[38;5;241;43m.\u001b[39;49m\u001b[43m_send_handling_redirects\u001b[49m\u001b[43m(\u001b[49m\n\u001b[1;32m    931\u001b[0m \u001b[43m        \u001b[49m\u001b[43mrequest\u001b[49m\u001b[43m,\u001b[49m\n\u001b[1;32m    932\u001b[0m \u001b[43m        \u001b[49m\u001b[43mfollow_redirects\u001b[49m\u001b[38;5;241;43m=\u001b[39;49m\u001b[43mfollow_redirects\u001b[49m\u001b[43m,\u001b[49m\n\u001b[1;32m    933\u001b[0m \u001b[43m        \u001b[49m\u001b[43mhistory\u001b[49m\u001b[38;5;241;43m=\u001b[39;49m\u001b[43mhistory\u001b[49m\u001b[43m,\u001b[49m\n\u001b[1;32m    934\u001b[0m \u001b[43m    \u001b[49m\u001b[43m)\u001b[49m\n\u001b[1;32m    935\u001b[0m     \u001b[38;5;28;01mtry\u001b[39;00m:\n\u001b[1;32m    936\u001b[0m         \u001b[38;5;28;01mtry\u001b[39;00m:\n",
      "File \u001b[0;32m~/.local/lib/python3.10/site-packages/httpx/_client.py:967\u001b[0m, in \u001b[0;36mClient._send_handling_redirects\u001b[0;34m(self, request, follow_redirects, history)\u001b[0m\n\u001b[1;32m    964\u001b[0m \u001b[38;5;28;01mfor\u001b[39;00m hook \u001b[38;5;129;01min\u001b[39;00m \u001b[38;5;28mself\u001b[39m\u001b[38;5;241m.\u001b[39m_event_hooks[\u001b[38;5;124m\"\u001b[39m\u001b[38;5;124mrequest\u001b[39m\u001b[38;5;124m\"\u001b[39m]:\n\u001b[1;32m    965\u001b[0m     hook(request)\n\u001b[0;32m--> 967\u001b[0m response \u001b[38;5;241m=\u001b[39m \u001b[38;5;28;43mself\u001b[39;49m\u001b[38;5;241;43m.\u001b[39;49m\u001b[43m_send_single_request\u001b[49m\u001b[43m(\u001b[49m\u001b[43mrequest\u001b[49m\u001b[43m)\u001b[49m\n\u001b[1;32m    968\u001b[0m \u001b[38;5;28;01mtry\u001b[39;00m:\n\u001b[1;32m    969\u001b[0m     \u001b[38;5;28;01mfor\u001b[39;00m hook \u001b[38;5;129;01min\u001b[39;00m \u001b[38;5;28mself\u001b[39m\u001b[38;5;241m.\u001b[39m_event_hooks[\u001b[38;5;124m\"\u001b[39m\u001b[38;5;124mresponse\u001b[39m\u001b[38;5;124m\"\u001b[39m]:\n",
      "File \u001b[0;32m~/.local/lib/python3.10/site-packages/httpx/_client.py:1003\u001b[0m, in \u001b[0;36mClient._send_single_request\u001b[0;34m(self, request)\u001b[0m\n\u001b[1;32m    998\u001b[0m     \u001b[38;5;28;01mraise\u001b[39;00m \u001b[38;5;167;01mRuntimeError\u001b[39;00m(\n\u001b[1;32m    999\u001b[0m         \u001b[38;5;124m\"\u001b[39m\u001b[38;5;124mAttempted to send an async request with a sync Client instance.\u001b[39m\u001b[38;5;124m\"\u001b[39m\n\u001b[1;32m   1000\u001b[0m     )\n\u001b[1;32m   1002\u001b[0m \u001b[38;5;28;01mwith\u001b[39;00m request_context(request\u001b[38;5;241m=\u001b[39mrequest):\n\u001b[0;32m-> 1003\u001b[0m     response \u001b[38;5;241m=\u001b[39m \u001b[43mtransport\u001b[49m\u001b[38;5;241;43m.\u001b[39;49m\u001b[43mhandle_request\u001b[49m\u001b[43m(\u001b[49m\u001b[43mrequest\u001b[49m\u001b[43m)\u001b[49m\n\u001b[1;32m   1005\u001b[0m \u001b[38;5;28;01massert\u001b[39;00m \u001b[38;5;28misinstance\u001b[39m(response\u001b[38;5;241m.\u001b[39mstream, SyncByteStream)\n\u001b[1;32m   1007\u001b[0m response\u001b[38;5;241m.\u001b[39mrequest \u001b[38;5;241m=\u001b[39m request\n",
      "File \u001b[0;32m~/.local/lib/python3.10/site-packages/httpx/_transports/default.py:218\u001b[0m, in \u001b[0;36mHTTPTransport.handle_request\u001b[0;34m(self, request)\u001b[0m\n\u001b[1;32m    205\u001b[0m req \u001b[38;5;241m=\u001b[39m httpcore\u001b[38;5;241m.\u001b[39mRequest(\n\u001b[1;32m    206\u001b[0m     method\u001b[38;5;241m=\u001b[39mrequest\u001b[38;5;241m.\u001b[39mmethod,\n\u001b[1;32m    207\u001b[0m     url\u001b[38;5;241m=\u001b[39mhttpcore\u001b[38;5;241m.\u001b[39mURL(\n\u001b[0;32m   (...)\u001b[0m\n\u001b[1;32m    215\u001b[0m     extensions\u001b[38;5;241m=\u001b[39mrequest\u001b[38;5;241m.\u001b[39mextensions,\n\u001b[1;32m    216\u001b[0m )\n\u001b[1;32m    217\u001b[0m \u001b[38;5;28;01mwith\u001b[39;00m map_httpcore_exceptions():\n\u001b[0;32m--> 218\u001b[0m     resp \u001b[38;5;241m=\u001b[39m \u001b[38;5;28;43mself\u001b[39;49m\u001b[38;5;241;43m.\u001b[39;49m\u001b[43m_pool\u001b[49m\u001b[38;5;241;43m.\u001b[39;49m\u001b[43mhandle_request\u001b[49m\u001b[43m(\u001b[49m\u001b[43mreq\u001b[49m\u001b[43m)\u001b[49m\n\u001b[1;32m    220\u001b[0m \u001b[38;5;28;01massert\u001b[39;00m \u001b[38;5;28misinstance\u001b[39m(resp\u001b[38;5;241m.\u001b[39mstream, typing\u001b[38;5;241m.\u001b[39mIterable)\n\u001b[1;32m    222\u001b[0m \u001b[38;5;28;01mreturn\u001b[39;00m Response(\n\u001b[1;32m    223\u001b[0m     status_code\u001b[38;5;241m=\u001b[39mresp\u001b[38;5;241m.\u001b[39mstatus,\n\u001b[1;32m    224\u001b[0m     headers\u001b[38;5;241m=\u001b[39mresp\u001b[38;5;241m.\u001b[39mheaders,\n\u001b[1;32m    225\u001b[0m     stream\u001b[38;5;241m=\u001b[39mResponseStream(resp\u001b[38;5;241m.\u001b[39mstream),\n\u001b[1;32m    226\u001b[0m     extensions\u001b[38;5;241m=\u001b[39mresp\u001b[38;5;241m.\u001b[39mextensions,\n\u001b[1;32m    227\u001b[0m )\n",
      "File \u001b[0;32m~/.local/lib/python3.10/site-packages/httpcore/_sync/connection_pool.py:253\u001b[0m, in \u001b[0;36mConnectionPool.handle_request\u001b[0;34m(self, request)\u001b[0m\n\u001b[1;32m    251\u001b[0m \u001b[38;5;28;01mexcept\u001b[39;00m \u001b[38;5;167;01mBaseException\u001b[39;00m \u001b[38;5;28;01mas\u001b[39;00m exc:\n\u001b[1;32m    252\u001b[0m     \u001b[38;5;28mself\u001b[39m\u001b[38;5;241m.\u001b[39mresponse_closed(status)\n\u001b[0;32m--> 253\u001b[0m     \u001b[38;5;28;01mraise\u001b[39;00m exc\n\u001b[1;32m    254\u001b[0m \u001b[38;5;28;01melse\u001b[39;00m:\n\u001b[1;32m    255\u001b[0m     \u001b[38;5;28;01mbreak\u001b[39;00m\n",
      "File \u001b[0;32m~/.local/lib/python3.10/site-packages/httpcore/_sync/connection_pool.py:237\u001b[0m, in \u001b[0;36mConnectionPool.handle_request\u001b[0;34m(self, request)\u001b[0m\n\u001b[1;32m    234\u001b[0m         \u001b[38;5;28;01mraise\u001b[39;00m exc\n\u001b[1;32m    236\u001b[0m \u001b[38;5;28;01mtry\u001b[39;00m:\n\u001b[0;32m--> 237\u001b[0m     response \u001b[38;5;241m=\u001b[39m \u001b[43mconnection\u001b[49m\u001b[38;5;241;43m.\u001b[39;49m\u001b[43mhandle_request\u001b[49m\u001b[43m(\u001b[49m\u001b[43mrequest\u001b[49m\u001b[43m)\u001b[49m\n\u001b[1;32m    238\u001b[0m \u001b[38;5;28;01mexcept\u001b[39;00m ConnectionNotAvailable:\n\u001b[1;32m    239\u001b[0m     \u001b[38;5;66;03m# The ConnectionNotAvailable exception is a special case, that\u001b[39;00m\n\u001b[1;32m    240\u001b[0m     \u001b[38;5;66;03m# indicates we need to retry the request on a new connection.\u001b[39;00m\n\u001b[0;32m   (...)\u001b[0m\n\u001b[1;32m    244\u001b[0m     \u001b[38;5;66;03m# might end up as an HTTP/2 connection, but which actually ends\u001b[39;00m\n\u001b[1;32m    245\u001b[0m     \u001b[38;5;66;03m# up as HTTP/1.1.\u001b[39;00m\n\u001b[1;32m    246\u001b[0m     \u001b[38;5;28;01mwith\u001b[39;00m \u001b[38;5;28mself\u001b[39m\u001b[38;5;241m.\u001b[39m_pool_lock:\n\u001b[1;32m    247\u001b[0m         \u001b[38;5;66;03m# Maintain our position in the request queue, but reset the\u001b[39;00m\n\u001b[1;32m    248\u001b[0m         \u001b[38;5;66;03m# status so that the request becomes queued again.\u001b[39;00m\n",
      "File \u001b[0;32m~/.local/lib/python3.10/site-packages/httpcore/_sync/connection.py:90\u001b[0m, in \u001b[0;36mHTTPConnection.handle_request\u001b[0;34m(self, request)\u001b[0m\n\u001b[1;32m     87\u001b[0m     \u001b[38;5;28;01melif\u001b[39;00m \u001b[38;5;129;01mnot\u001b[39;00m \u001b[38;5;28mself\u001b[39m\u001b[38;5;241m.\u001b[39m_connection\u001b[38;5;241m.\u001b[39mis_available():\n\u001b[1;32m     88\u001b[0m         \u001b[38;5;28;01mraise\u001b[39;00m ConnectionNotAvailable()\n\u001b[0;32m---> 90\u001b[0m \u001b[38;5;28;01mreturn\u001b[39;00m \u001b[38;5;28;43mself\u001b[39;49m\u001b[38;5;241;43m.\u001b[39;49m\u001b[43m_connection\u001b[49m\u001b[38;5;241;43m.\u001b[39;49m\u001b[43mhandle_request\u001b[49m\u001b[43m(\u001b[49m\u001b[43mrequest\u001b[49m\u001b[43m)\u001b[49m\n",
      "File \u001b[0;32m~/.local/lib/python3.10/site-packages/httpcore/_sync/http11.py:105\u001b[0m, in \u001b[0;36mHTTP11Connection.handle_request\u001b[0;34m(self, request)\u001b[0m\n\u001b[1;32m    103\u001b[0m \u001b[38;5;28;01mwith\u001b[39;00m Trace(\u001b[38;5;124m\"\u001b[39m\u001b[38;5;124mhttp11.response_closed\u001b[39m\u001b[38;5;124m\"\u001b[39m, request) \u001b[38;5;28;01mas\u001b[39;00m trace:\n\u001b[1;32m    104\u001b[0m     \u001b[38;5;28mself\u001b[39m\u001b[38;5;241m.\u001b[39m_response_closed()\n\u001b[0;32m--> 105\u001b[0m \u001b[38;5;28;01mraise\u001b[39;00m exc\n",
      "File \u001b[0;32m~/.local/lib/python3.10/site-packages/httpcore/_sync/http11.py:84\u001b[0m, in \u001b[0;36mHTTP11Connection.handle_request\u001b[0;34m(self, request)\u001b[0m\n\u001b[1;32m     75\u001b[0m     \u001b[38;5;28mself\u001b[39m\u001b[38;5;241m.\u001b[39m_send_request_body(\u001b[38;5;241m*\u001b[39m\u001b[38;5;241m*\u001b[39mkwargs)\n\u001b[1;32m     76\u001b[0m \u001b[38;5;28;01mwith\u001b[39;00m Trace(\n\u001b[1;32m     77\u001b[0m     \u001b[38;5;124m\"\u001b[39m\u001b[38;5;124mhttp11.receive_response_headers\u001b[39m\u001b[38;5;124m\"\u001b[39m, request, kwargs\n\u001b[1;32m     78\u001b[0m ) \u001b[38;5;28;01mas\u001b[39;00m trace:\n\u001b[1;32m     79\u001b[0m     (\n\u001b[1;32m     80\u001b[0m         http_version,\n\u001b[1;32m     81\u001b[0m         status,\n\u001b[1;32m     82\u001b[0m         reason_phrase,\n\u001b[1;32m     83\u001b[0m         headers,\n\u001b[0;32m---> 84\u001b[0m     ) \u001b[38;5;241m=\u001b[39m \u001b[38;5;28;43mself\u001b[39;49m\u001b[38;5;241;43m.\u001b[39;49m\u001b[43m_receive_response_headers\u001b[49m\u001b[43m(\u001b[49m\u001b[38;5;241;43m*\u001b[39;49m\u001b[38;5;241;43m*\u001b[39;49m\u001b[43mkwargs\u001b[49m\u001b[43m)\u001b[49m\n\u001b[1;32m     85\u001b[0m     trace\u001b[38;5;241m.\u001b[39mreturn_value \u001b[38;5;241m=\u001b[39m (\n\u001b[1;32m     86\u001b[0m         http_version,\n\u001b[1;32m     87\u001b[0m         status,\n\u001b[1;32m     88\u001b[0m         reason_phrase,\n\u001b[1;32m     89\u001b[0m         headers,\n\u001b[1;32m     90\u001b[0m     )\n\u001b[1;32m     92\u001b[0m \u001b[38;5;28;01mreturn\u001b[39;00m Response(\n\u001b[1;32m     93\u001b[0m     status\u001b[38;5;241m=\u001b[39mstatus,\n\u001b[1;32m     94\u001b[0m     headers\u001b[38;5;241m=\u001b[39mheaders,\n\u001b[0;32m   (...)\u001b[0m\n\u001b[1;32m    100\u001b[0m     },\n\u001b[1;32m    101\u001b[0m )\n",
      "File \u001b[0;32m~/.local/lib/python3.10/site-packages/httpcore/_sync/http11.py:148\u001b[0m, in \u001b[0;36mHTTP11Connection._receive_response_headers\u001b[0;34m(self, request)\u001b[0m\n\u001b[1;32m    145\u001b[0m timeout \u001b[38;5;241m=\u001b[39m timeouts\u001b[38;5;241m.\u001b[39mget(\u001b[38;5;124m\"\u001b[39m\u001b[38;5;124mread\u001b[39m\u001b[38;5;124m\"\u001b[39m, \u001b[38;5;28;01mNone\u001b[39;00m)\n\u001b[1;32m    147\u001b[0m \u001b[38;5;28;01mwhile\u001b[39;00m \u001b[38;5;28;01mTrue\u001b[39;00m:\n\u001b[0;32m--> 148\u001b[0m     event \u001b[38;5;241m=\u001b[39m \u001b[38;5;28;43mself\u001b[39;49m\u001b[38;5;241;43m.\u001b[39;49m\u001b[43m_receive_event\u001b[49m\u001b[43m(\u001b[49m\u001b[43mtimeout\u001b[49m\u001b[38;5;241;43m=\u001b[39;49m\u001b[43mtimeout\u001b[49m\u001b[43m)\u001b[49m\n\u001b[1;32m    149\u001b[0m     \u001b[38;5;28;01mif\u001b[39;00m \u001b[38;5;28misinstance\u001b[39m(event, h11\u001b[38;5;241m.\u001b[39mResponse):\n\u001b[1;32m    150\u001b[0m         \u001b[38;5;28;01mbreak\u001b[39;00m\n",
      "File \u001b[0;32m~/.local/lib/python3.10/site-packages/httpcore/_sync/http11.py:177\u001b[0m, in \u001b[0;36mHTTP11Connection._receive_event\u001b[0;34m(self, timeout)\u001b[0m\n\u001b[1;32m    174\u001b[0m     event \u001b[38;5;241m=\u001b[39m \u001b[38;5;28mself\u001b[39m\u001b[38;5;241m.\u001b[39m_h11_state\u001b[38;5;241m.\u001b[39mnext_event()\n\u001b[1;32m    176\u001b[0m \u001b[38;5;28;01mif\u001b[39;00m event \u001b[38;5;129;01mis\u001b[39;00m h11\u001b[38;5;241m.\u001b[39mNEED_DATA:\n\u001b[0;32m--> 177\u001b[0m     data \u001b[38;5;241m=\u001b[39m \u001b[38;5;28;43mself\u001b[39;49m\u001b[38;5;241;43m.\u001b[39;49m\u001b[43m_network_stream\u001b[49m\u001b[38;5;241;43m.\u001b[39;49m\u001b[43mread\u001b[49m\u001b[43m(\u001b[49m\n\u001b[1;32m    178\u001b[0m \u001b[43m        \u001b[49m\u001b[38;5;28;43mself\u001b[39;49m\u001b[38;5;241;43m.\u001b[39;49m\u001b[43mREAD_NUM_BYTES\u001b[49m\u001b[43m,\u001b[49m\u001b[43m \u001b[49m\u001b[43mtimeout\u001b[49m\u001b[38;5;241;43m=\u001b[39;49m\u001b[43mtimeout\u001b[49m\n\u001b[1;32m    179\u001b[0m \u001b[43m    \u001b[49m\u001b[43m)\u001b[49m\n\u001b[1;32m    181\u001b[0m     \u001b[38;5;66;03m# If we feed this case through h11 we'll raise an exception like:\u001b[39;00m\n\u001b[1;32m    182\u001b[0m     \u001b[38;5;66;03m#\u001b[39;00m\n\u001b[1;32m    183\u001b[0m     \u001b[38;5;66;03m#     httpcore.RemoteProtocolError: can't handle event type\u001b[39;00m\n\u001b[0;32m   (...)\u001b[0m\n\u001b[1;32m    187\u001b[0m     \u001b[38;5;66;03m# perspective. Instead we handle this case distinctly and treat\u001b[39;00m\n\u001b[1;32m    188\u001b[0m     \u001b[38;5;66;03m# it as a ConnectError.\u001b[39;00m\n\u001b[1;32m    189\u001b[0m     \u001b[38;5;28;01mif\u001b[39;00m data \u001b[38;5;241m==\u001b[39m \u001b[38;5;124mb\u001b[39m\u001b[38;5;124m\"\u001b[39m\u001b[38;5;124m\"\u001b[39m \u001b[38;5;129;01mand\u001b[39;00m \u001b[38;5;28mself\u001b[39m\u001b[38;5;241m.\u001b[39m_h11_state\u001b[38;5;241m.\u001b[39mtheir_state \u001b[38;5;241m==\u001b[39m h11\u001b[38;5;241m.\u001b[39mSEND_RESPONSE:\n",
      "File \u001b[0;32m~/.local/lib/python3.10/site-packages/httpcore/backends/sync.py:26\u001b[0m, in \u001b[0;36mSyncStream.read\u001b[0;34m(self, max_bytes, timeout)\u001b[0m\n\u001b[1;32m     24\u001b[0m \u001b[38;5;28;01mwith\u001b[39;00m map_exceptions(exc_map):\n\u001b[1;32m     25\u001b[0m     \u001b[38;5;28mself\u001b[39m\u001b[38;5;241m.\u001b[39m_sock\u001b[38;5;241m.\u001b[39msettimeout(timeout)\n\u001b[0;32m---> 26\u001b[0m     \u001b[38;5;28;01mreturn\u001b[39;00m \u001b[38;5;28;43mself\u001b[39;49m\u001b[38;5;241;43m.\u001b[39;49m\u001b[43m_sock\u001b[49m\u001b[38;5;241;43m.\u001b[39;49m\u001b[43mrecv\u001b[49m\u001b[43m(\u001b[49m\u001b[43mmax_bytes\u001b[49m\u001b[43m)\u001b[49m\n",
      "File \u001b[0;32m/usr/lib/python3.10/ssl.py:1259\u001b[0m, in \u001b[0;36mSSLSocket.recv\u001b[0;34m(self, buflen, flags)\u001b[0m\n\u001b[1;32m   1255\u001b[0m     \u001b[38;5;28;01mif\u001b[39;00m flags \u001b[38;5;241m!=\u001b[39m \u001b[38;5;241m0\u001b[39m:\n\u001b[1;32m   1256\u001b[0m         \u001b[38;5;28;01mraise\u001b[39;00m \u001b[38;5;167;01mValueError\u001b[39;00m(\n\u001b[1;32m   1257\u001b[0m             \u001b[38;5;124m\"\u001b[39m\u001b[38;5;124mnon-zero flags not allowed in calls to recv() on \u001b[39m\u001b[38;5;132;01m%s\u001b[39;00m\u001b[38;5;124m\"\u001b[39m \u001b[38;5;241m%\u001b[39m\n\u001b[1;32m   1258\u001b[0m             \u001b[38;5;28mself\u001b[39m\u001b[38;5;241m.\u001b[39m\u001b[38;5;18m__class__\u001b[39m)\n\u001b[0;32m-> 1259\u001b[0m     \u001b[38;5;28;01mreturn\u001b[39;00m \u001b[38;5;28;43mself\u001b[39;49m\u001b[38;5;241;43m.\u001b[39;49m\u001b[43mread\u001b[49m\u001b[43m(\u001b[49m\u001b[43mbuflen\u001b[49m\u001b[43m)\u001b[49m\n\u001b[1;32m   1260\u001b[0m \u001b[38;5;28;01melse\u001b[39;00m:\n\u001b[1;32m   1261\u001b[0m     \u001b[38;5;28;01mreturn\u001b[39;00m \u001b[38;5;28msuper\u001b[39m()\u001b[38;5;241m.\u001b[39mrecv(buflen, flags)\n",
      "File \u001b[0;32m/usr/lib/python3.10/ssl.py:1132\u001b[0m, in \u001b[0;36mSSLSocket.read\u001b[0;34m(self, len, buffer)\u001b[0m\n\u001b[1;32m   1130\u001b[0m         \u001b[38;5;28;01mreturn\u001b[39;00m \u001b[38;5;28mself\u001b[39m\u001b[38;5;241m.\u001b[39m_sslobj\u001b[38;5;241m.\u001b[39mread(\u001b[38;5;28mlen\u001b[39m, buffer)\n\u001b[1;32m   1131\u001b[0m     \u001b[38;5;28;01melse\u001b[39;00m:\n\u001b[0;32m-> 1132\u001b[0m         \u001b[38;5;28;01mreturn\u001b[39;00m \u001b[38;5;28;43mself\u001b[39;49m\u001b[38;5;241;43m.\u001b[39;49m\u001b[43m_sslobj\u001b[49m\u001b[38;5;241;43m.\u001b[39;49m\u001b[43mread\u001b[49m\u001b[43m(\u001b[49m\u001b[38;5;28;43mlen\u001b[39;49m\u001b[43m)\u001b[49m\n\u001b[1;32m   1133\u001b[0m \u001b[38;5;28;01mexcept\u001b[39;00m SSLError \u001b[38;5;28;01mas\u001b[39;00m x:\n\u001b[1;32m   1134\u001b[0m     \u001b[38;5;28;01mif\u001b[39;00m x\u001b[38;5;241m.\u001b[39margs[\u001b[38;5;241m0\u001b[39m] \u001b[38;5;241m==\u001b[39m SSL_ERROR_EOF \u001b[38;5;129;01mand\u001b[39;00m \u001b[38;5;28mself\u001b[39m\u001b[38;5;241m.\u001b[39msuppress_ragged_eofs:\n",
      "\u001b[0;31mKeyboardInterrupt\u001b[0m: "
     ]
    }
   ],
   "source": [
    "theee_playlist = \"https://open.spotify.com/playlist/78KodfOBZ4qd8qLLiuFjcD?si=8113f0bb8c67496e\"[34:56]\n",
    "initial = 0\n",
    "end = 100\n",
    "the_pl_array = [theee_playlist]\n",
    "#theee_pl_len = client.playlist_items(theee_playlist, as_tracks=False)\n",
    "#print(theee_pl_len)\n",
    "swag1 = {}\n",
    "swag2 = []\n",
    "#swag1, swag2 = get_playlist_info(theee_playlist)\n",
    "\n",
    "for index in the_pl_array:\n",
    "    swag3, swag4= get_playlist_info(index)\n",
    "    swag2.extend(swag4)\n",
    "    swag1 |= swag3\n",
    "print(swag2)"
   ]
  },
  {
   "cell_type": "code",
   "execution_count": 4,
   "id": "2f4fa7d1",
   "metadata": {
    "ExecuteTime": {
     "end_time": "2022-12-24T23:18:32.524919Z",
     "start_time": "2022-12-24T23:18:29.911737Z"
    },
    "code_folding": [
     18
    ],
    "scrolled": false
   },
   "outputs": [
    {
     "name": "stdout",
     "output_type": "stream",
     "text": [
      "(0, 'Gooder den uh mug')\n",
      "(1, 'your life bro')\n",
      "(2, 'Graduation')\n",
      "(3, 'E.A.V')\n",
      "(4, 'Best of Kone')\n",
      "(5, '😏')\n",
      "(6, 'chill bro chill ')\n",
      "(7, 'My ass ')\n",
      "(8, 'Ωur')\n",
      "(9, 'Thee Playlist')\n",
      "(10, 'Oldies')\n",
      "(11, 'zoom')\n",
      "(12, 'Memes ')\n",
      "(13, 'μμ')\n",
      "(14, '/mu/core')\n",
      "(15, 'Your Top Songs 2022')\n",
      "(16, 'Your Top Songs 2021')\n",
      "(17, 'Your Top Songs 2020')\n",
      "(18, 'Your Top Songs 2019')\n",
      "(19, 'Your Top Songs 2018')\n",
      "Enter the associated number to the playlist you want analyzed(seperated by spaces): 0\n",
      "Number of list is:  [0]\n",
      "5TMatpArr9xKImvUHGydS8\n"
     ]
    }
   ],
   "source": [
    "users_playlist = {}\n",
    "for collections in playlist.items:\n",
    "    users_playlist[collections.name] = collections.id\n",
    "\n",
    "list_of_keys = list(users_playlist.keys())\n",
    "\n",
    "for stuff in enumerate(list_of_keys):\n",
    "    print(stuff)\n",
    "    \n",
    "x = [int(x) for x in input(\"Enter the associated number to the playlist you want analyzed(seperated by spaces): \").split()]\n",
    "print(\"Number of list is: \", x) \n",
    "\n",
    "wanted_playlist = []\n",
    "for playlist_titles in x:\n",
    "    wanted_scan_playlist = users_playlist[list_of_keys[playlist_titles]]\n",
    "    print(wanted_scan_playlist)\n",
    "    wanted_playlist.append(wanted_scan_playlist) \n",
    "    \n",
    "def get_playlist_info(the_playlist):\n",
    "    song_ids = []\n",
    "    play_offset =0\n",
    "    playlist_info = {}   \n",
    "    \n",
    "    playlist_songs = client.playlist_items(the_playlist, as_tracks=False, offset=play_offset)\n",
    "    full_list = playlist_songs.total\n",
    "\n",
    "    while full_list != len(playlist_info):\n",
    "        for songs in playlist_songs.items:\n",
    "            song_name = songs.track.name\n",
    "            song_artist = songs.track.artists[0].name\n",
    "            song_id = songs.track.uri\n",
    "            song_ids.append(song_id)\n",
    "            playlist_info.update({song_name: song_artist})\n",
    "        play_offset+=100\n",
    "        playlist_songs = client.playlist_items(the_playlist, as_tracks=False, offset=play_offset)\n",
    "    return playlist_info, song_ids\n",
    "\n",
    "final_ids = []\n",
    "final_play_dict = {}\n",
    "for i in wanted_playlist:\n",
    "    partial_play_dict, partial_song_id = get_playlist_info(i)\n",
    "    final_ids.extend(partial_song_id)\n",
    "    final_play_dict |= partial_play_dict\n",
    "\n",
    "#print(json.dumps(final_play_dict, indent=2))\n",
    "#print(final_ids)\n",
    "#print(json.dumps(playlist_info, indent=2))\n",
    "\n",
    "#add_to_playlist(final_ids, theee_playlist)\n",
    "#add_to_playlist(final_ids, theee_playlist)\n",
    "\n",
    "#client.playlist_add(theee_playlist, final_ids[initial:end], position=0)\n",
    "\n",
    "\n",
    "    \n",
    "    "
   ]
  },
  {
   "cell_type": "code",
   "execution_count": null,
   "id": "1cf84359",
   "metadata": {
    "ExecuteTime": {
     "end_time": "2022-12-23T07:53:16.412001Z",
     "start_time": "2022-12-23T07:53:14.438268Z"
    }
   },
   "outputs": [],
   "source": [
    "# add songs to the playlist\n",
    "\n",
    "for i in range(0, len(final_ids), 100):\n",
    "    start = i\n",
    "    fin = 100 + i\n",
    "    client.playlist_add(theee_playlist, final_ids[start:fin], position=0)\n",
    "    #print(final_ids[start:fin])"
   ]
  },
  {
   "cell_type": "code",
   "execution_count": 11,
   "id": "76564f39",
   "metadata": {
    "ExecuteTime": {
     "end_time": "2022-12-24T23:23:43.004405Z",
     "start_time": "2022-12-24T23:23:42.995462Z"
    },
    "code_folding": [
     0,
     37
    ]
   },
   "outputs": [],
   "source": [
    "def get_the_playlists_info_with_song_id(the_playlist):\n",
    "    song_ids = []\n",
    "    play_offset =0\n",
    "    playlist_info = {}   \n",
    "    \n",
    "    playlist_songs = client.playlist_items(the_playlist, as_tracks=False, offset=play_offset)\n",
    "    full_list = playlist_songs.total\n",
    "\n",
    "    while full_list != len(playlist_info):\n",
    "        for songs in playlist_songs.items:\n",
    "            song_name = songs.track.name\n",
    "            song_artist = songs.track.artists[0].name\n",
    "            song_id = songs.track.uri\n",
    "            song_ids.append(song_id)\n",
    "            playlist_info.update({song_name: song_artist})\n",
    "        play_offset+=100\n",
    "        playlist_songs = client.playlist_items(the_playlist, as_tracks=False, offset=play_offset)\n",
    "    return playlist_info, song_ids\n",
    "\n",
    "#gtpiwsi \n",
    "\n",
    "def get_song_ids(the_playlist):\n",
    "    song_ids = []\n",
    "    play_offset =0 \n",
    "    \n",
    "    playlist_songs = client.playlist_items(the_playlist, as_tracks=False, offset=play_offset)\n",
    "    full_list = playlist_songs.total\n",
    "\n",
    "    while full_list != len(song_ids):\n",
    "        for songs in playlist_songs.items:\n",
    "            song_id = songs.track.uri\n",
    "            song_ids.append(song_id)\n",
    "            #print(song_id)\n",
    "        play_offset+=100\n",
    "        playlist_songs = client.playlist_items(the_playlist, as_tracks=False, offset=play_offset)\n",
    "    return song_ids\n",
    "\n",
    "def get_the_playlists_info(the_playlist):\n",
    "    play_offset =0\n",
    "    playlist_info = {}   \n",
    "    \n",
    "    playlist_songs = client.playlist_items(the_playlist, as_tracks=False, offset=play_offset)\n",
    "    full_list = playlist_songs.total\n",
    "\n",
    "    while full_list != len(playlist_info):\n",
    "        for songs in playlist_songs.items:\n",
    "            song_name = songs.track.name\n",
    "            song_artist = songs.track.artists[0].name\n",
    "            playlist_info.update({song_name: song_artist})\n",
    "        play_offset+=100\n",
    "        playlist_songs = client.playlist_items(the_playlist, as_tracks=False, offset=play_offset)\n",
    "    return playlist_info"
   ]
  },
  {
   "cell_type": "code",
   "execution_count": 13,
   "id": "28d85f31",
   "metadata": {
    "ExecuteTime": {
     "end_time": "2022-12-24T23:24:10.103477Z",
     "start_time": "2022-12-24T23:24:06.516289Z"
    },
    "scrolled": true
   },
   "outputs": [
    {
     "name": "stdout",
     "output_type": "stream",
     "text": [
      "['spotify:track:3G19lVvFje61D7q1uG3QjD', 'spotify:track:0Jf9d1BEYPcxK8NwGj194O', 'spotify:track:00c6I4e1BL1vqbD97KIh50', 'spotify:track:7A3ETuOrieyx9KSF0sn0Zf', 'spotify:track:2Im64pIz6m0EJKdUe6eZ8r', 'spotify:track:4SBVWkRIMJ6WBCYPvr5Bwr', 'spotify:track:3iVcZ5G6tvkXZkZKlMpIUs', 'spotify:track:2GH5jo15wbTv1Ll7zXEzSg', 'spotify:track:0RWqE2ZaulvnN1i40qIhDh', 'spotify:track:3jagJCUbdqhDSPuxP8cAqF', 'spotify:track:3xbDgbZr6lIoggCsoi3rZ3', 'spotify:track:2BITQ360Knh6qNAOqR7Dyq', 'spotify:track:7tFiyTwD0nx5a1eklYtX2J', 'spotify:track:1wHZx0LgzFHyeIZkUydNXq', 'spotify:track:7Bpx2vsWfQFBACRz4h3IqH', 'spotify:track:0k1WUmIRnG3xU6fvvDVfRG', 'spotify:track:6Kd4iGylMjrpr1xVbuYKVw', 'spotify:track:393MDhe62s8hbH8ETrlxe5', 'spotify:track:4vpK0dQ7z6ttBGAGcjteLe', 'spotify:track:4VAhHysFeK3TQFZ6iQ6ckD', 'spotify:track:7F02x6EKYIQV3VcTaTm7oN', 'spotify:track:4S7YHmlWwfwArgd8LfSPud', 'spotify:track:6u3CPnFMKANYgfdiifFOiJ', 'spotify:track:4jDmJ51x1o9NZB5Nxxc7gY', 'spotify:track:1ao8xoijDOdVwIDoXNWQti', 'spotify:track:2grjqo0Frpf2okIBiifQKs', 'spotify:track:01z2fBGB8Hl3Jd3zXe4IXR', 'spotify:track:4RVbK6cV0VqWdpCDcx3hiT', 'spotify:track:5FEXPoPnzueFJQCPRIrC3c', 'spotify:track:16E7LWSzLLMPWYGNCwu7Sc', 'spotify:track:6gZVQvQZOFpzIy3HblJ20F', 'spotify:track:20g7z9R1wjE7EtVnB7XEjS', 'spotify:track:2yXyz4NLTZx9CLdXfLTp5E', 'spotify:track:4OSbctVD37ycS0H3rwRm72', 'spotify:track:0HDaKOlVAfUWXdFR2RhBtN', 'spotify:track:4sebUbjqbcgDSwG6PbSGI0', 'spotify:track:0faXHILILebCGnJBPU6KJJ', 'spotify:track:1wVUjggKup9hP2jd24gLSg', 'spotify:track:2gZUPNdnz5Y45eiGxpHGSc', 'spotify:track:09aDV0TC2RfWFU5IwZfIdG', 'spotify:track:0OUKJBWS2IhHmVIxACwZzp', 'spotify:track:5NhlpQ6BOIz3S5welptk1W', 'spotify:track:4Pwjz3DfvfQWV0rO2V8jyh', 'spotify:track:2UDumaw7osnyjH7RZ2DLpB', 'spotify:track:4HlFJV71xXKIGcU3kRyttv', 'spotify:track:2q4rjDy9WhaN3o9MvDbO21', 'spotify:track:1UGD3lW3tDmgZfAVDh6w7r', 'spotify:track:6IZvVAP7VPPnsGX6bvgkqg', 'spotify:track:5mpUKTdskZea0gStWzeHUZ', 'spotify:track:0LtsuNRz3IMRrHCYO9fKRk', 'spotify:track:4nnoWkdf9ZSQJnMQhmxyMj', 'spotify:track:5BnFZLH99sYav2cxJFGO2n', 'spotify:track:3IRovqSVYx3CNtDWRebsET', 'spotify:track:4v2rkl1mC3zVAz0nXMx9r4', 'spotify:track:6emdJW80SbDBMuHci8PJJn', 'spotify:track:0PSHKqfhAFfjPFLmiOZshy', 'spotify:track:4eAwB5pnKFTmsgc3zWoYO0', 'spotify:track:6c1Bdvp208X0jbLmFnWbkC', 'spotify:track:33iv3wnGMrrDugd7GBso1z', 'spotify:track:45z51HNfBAhKZ8D8tYBnxZ', 'spotify:track:1zFbBrZmJr1Z49HYe84dBg', 'spotify:track:1hk75vzQeF2UfPwTUbVWLn', 'spotify:track:1PS1QMdUqOal0ai3Gt7sDQ', 'spotify:track:4Li2WHPkuyCdtmokzW2007', 'spotify:track:7vgTNTaEz3CsBZ1N4YQalM', 'spotify:track:08l1JURDZhRhQsOM1OTL8w', 'spotify:track:2DHNCWZYmVr1Lv08q5b0kB', 'spotify:track:5Rizj5FLb2AyNKu9esjYY6', 'spotify:track:3zXhvJaLpxefYIxBE0cnB0', 'spotify:track:4MNfkZ8dtva3cjJ2biqnDS', 'spotify:track:2P3SLxeQHPqh8qKB6gtJY2', 'spotify:track:0xfpx7AiwgSKEtjotea2L6', 'spotify:track:2ZltjIqztEpZtafc8w0I9t', 'spotify:track:3WWAvWDBQANpJeNbvVbjMg', 'spotify:track:7uWVT3UkCAZyANvv0bdyQn', 'spotify:track:5TueyPDnDMPSRdQd7VYooI', 'spotify:track:63bmZnBN1CiJ9sA4qTEe8y', 'spotify:track:6W21LNLz9Sw7sUSNWMSHRu', 'spotify:track:3jHdKaLCkuNEkWcLVmQPCX', 'spotify:track:6cL7NCFSvqWrBH5r4mkvVV', 'spotify:track:2hwOoMtWPtTSSn6WHV7Vp5', 'spotify:track:3WfSNAoj2D8C9noPSGZZFM', 'spotify:track:1DWZUa5Mzf2BwzpHtgbHPY', 'spotify:track:1HPgGWChZASqL1E0yleBon', 'spotify:track:2fyDBrbs8FKIQ97EJwS4GB', 'spotify:track:7wclPheMJAUKn2njmO2s3A', 'spotify:track:2mPMFJvQ0v27gVqe5b6nDn', 'spotify:track:4r53Y7uKvyXCU7a9dsnb58', 'spotify:track:6Z8R6UsFuGXGtiIxiD8ISb', 'spotify:track:0I3q5fE6wg7LIfHGngUTnV', 'spotify:track:3hAaCXvutknQugsPFogh8H', 'spotify:track:5vuJuBqwzHJgCA1ysRfwxZ', 'spotify:track:5XcZRgJv3zMhTqCyESjQrF', 'spotify:track:4Zc7TCHzuNwL0AFBlyLdyr', 'spotify:track:6cJqlSO19vsfCsH1FeFI35', 'spotify:track:0N3W5peJUQtI4eyR6GJT5O', 'spotify:track:5LgiqEgpK54OfXC6947wbU', 'spotify:track:2OuNnwnNQyWrF47pthWxNb', 'spotify:track:4EchqUKQ3qAQuRNKmeIpnf', 'spotify:track:6TfBA04WJ3X1d1wXhaCFVT', 'spotify:track:6qLEOZvf5gI7kWE63JE7p3', 'spotify:track:3mtukCAgd0mE260QcBfXAX', 'spotify:track:1MPEPvmX18S9MK4RlMKIst', 'spotify:track:19C0LKY3DCcQtuviPJNy5d', 'spotify:track:5ALCHMO9Fmvn1Ly18Q3apL', 'spotify:track:0CvUYUPfNP1UjKYsYIolhY', 'spotify:track:7CiS6ZX1Acw2Pl6Au36AD2', 'spotify:track:31tf1qEai5o5f4r66Kd0pU', 'spotify:track:4f8Mh5wuWHOsfXtzjrJB3t', 'spotify:track:2HbKqm4o0w5wEeEFXm2sD4', 'spotify:track:17wxjHNmOSstc6nVIe401T', 'spotify:track:5hM5arv9KDbCHS0k9uqwjr', 'spotify:track:7BY005dacJkbO6EPiOh2wb', 'spotify:track:3oHkMCVJyOcjg5FhfLc2Rq', 'spotify:track:0y60itmpH0aPKsFiGxmtnh', 'spotify:track:4S4Mfvv03M1cHgIOJcbUCL', 'spotify:track:62vpWI1CHwFy7tMIcSStl8', 'spotify:track:6JyEh4kl9DLwmSAoNDRn5b', 'spotify:track:3ZffCQKLFLUvYM59XKLbVm', 'spotify:track:3ZE3wv8V3w2T2f7nOCjV0N', 'spotify:track:7nRlXvxkVz7pNzUgNXVAl9', 'spotify:track:20dP2DaMHIAmwWAbp7peSr', 'spotify:track:3Jrk9luBt9SfHk96RJ08bJ', 'spotify:track:3yk7PJnryiJ8mAPqsrujzf', 'spotify:track:5ByAIlEEnxYdvpnezg7HTX', 'spotify:track:2Fw5S2gaOSZzdN5dFoC2dj', 'spotify:track:6m59VvDUi0UQsB2eZ9wVbH', 'spotify:track:0QsZ3W21xNvnUnUMbiAY4z', 'spotify:track:65FXzJrck25F9vXrJaZZpU', 'spotify:track:5cwN1htZyoWqZCc33f3RfE', 'spotify:track:5773KSWFzg9kCc8yazjbSt', 'spotify:track:1F5A4LpF8ylUVtPoMAvNvn', 'spotify:track:0UV5zxRMz6AO4ZwUOZNIKI', 'spotify:track:6UjeFOCGYgMpBUtqKg1Je3', 'spotify:track:70SjyVMzhmMeJQD8hOmIBp', 'spotify:track:50M2QjfSM82wkJ1d0iV4mh', 'spotify:track:2ZMxeRHTaoH1GgYAv16QyB', 'spotify:track:5iKGaetKB2881s1amGtbrf', 'spotify:track:4vsoWZcvtvSsE0OiVvDDvX', 'spotify:track:6SZwj6cjc8JQbkrr8cbIUn', 'spotify:track:49X0LAl6faAusYq02PRAY6', 'spotify:track:0NdTUS4UiNYCNn5FgVqKQY', 'spotify:track:0Pu71wxadDlB8fJXfjIjeJ', 'spotify:track:7aKWgpecgLEqisWcXPElDl', 'spotify:track:0HS6Lmeq0pvAhFoZ9Kazyu', 'spotify:track:37y7iDayfwm3WXn5BiAoRk', 'spotify:track:7AeebdvXcGtJW4tItjdauO', 'spotify:track:0JL9TZip7mL7iwC5EOkALS', 'spotify:track:4jQqM4NI79HEcWHUJb8Hvf', 'spotify:track:3UGJdpJrWDp07V37Q5PNas', 'spotify:track:4YtoipFgf4k0AfD17ZfD5X', 'spotify:track:3jfZ9M23l0L7RxzYMTgBTv', 'spotify:track:0pYJaPb80f8Ye86b2qXurN', 'spotify:track:0R4uAhlkr1I8EgPxqBwzBs', 'spotify:track:5dnvWWkwwFJoDDc0QoSbvf', 'spotify:track:2HEt32GOG4LhdkAcwkVDPD', 'spotify:track:4KW1lqgSr8TKrvBII0Brf8', 'spotify:track:4zB544yCIaSw3cuHltMCRJ', 'spotify:track:52vksmCPJWjIGm0JvB7aed', 'spotify:track:64gyqTtDDel7B2NoEkOa0A', 'spotify:track:722tgOgdIbNe3BEyLnejw4', 'spotify:track:7xRNsqOQOgWbHV1nbXnfXN', 'spotify:track:2vWBUC9djv6BtiGlmKiQaH', 'spotify:track:1hz7SRTGUNAtIQ46qiNv2p', 'spotify:track:0zLClc0emc6qUeV1p5nc99', 'spotify:track:59Bc4RPzSL3nYPANh25a6J', 'spotify:track:39LLxExYz6ewLAcYrzQQyP', 'spotify:track:1RXzYAbCsqYP6CcAkmPDM1', 'spotify:track:6a88fc0zSrVWGPdoj445nJ', 'spotify:track:0PldjOTKRt45S9MrLnlwVM', 'spotify:track:5r5cp9IpziiIsR6b93vcnQ', 'spotify:track:4Gy2mnEllofZbpi9ITuWpV', 'spotify:track:5TsuGEJwkXgipmEWQiajW2', 'spotify:track:1WsRuvitfegWXQJKRgRZrj', 'spotify:track:2AYEOC02WLhUiOoaig2SEH', 'spotify:track:5QO79kh1waicV47BqGRL3g', 'spotify:track:7GnDGNjkRDiB0NQ2yCf3w2', 'spotify:track:4uQ7wYsuL0DryknoDc11Hk', 'spotify:track:1eQBEelI2NCy7AUTerX0KS', 'spotify:track:1VnUHwES1tSaWlNHcHCIUt', 'spotify:track:2dxjKgT0li4qBI3QwuN9Ih', 'spotify:track:5SkRLpaGtvYPhw02vZhQQ9', 'spotify:track:2wAJTrFhCnQyNSD3oUgTZO', 'spotify:track:0lppL7OMGEnzruhQUT9fZq', 'spotify:track:05pdoheuKPSotkjMgIVX6I', 'spotify:track:39Yp9wwQiSRIDOvrVg7mbk', 'spotify:track:6btyEL6NwUa97Nex9cZFvo', 'spotify:track:4pt5fDVTg5GhEvEtlz9dKk', 'spotify:track:3s3ciLHOXE1xVqGkdxwHPs', 'spotify:track:4NPIkDt08kLz70gHOrO5uU', 'spotify:track:36ux3YuUsGTWPT8fXclS45', 'spotify:track:1hGy2eLcmC8eKx7qr1tOqx', 'spotify:track:7eH4e0FohTiyf9IF53aRyI', 'spotify:track:10Nmj3JCNoMeBQ87uw5j8k', 'spotify:track:3yaYgjEFkRw3PVjW9mV1TO', 'spotify:track:5VmpLtRycwbA54XsTffKq4', 'spotify:track:0SA0mMXWh23raZ6xzOCU2V', 'spotify:track:2Rd4eJ4KwXQQn2sMSToyUM', 'spotify:track:3DNXN5fPRdkYm64oCdV8L6', 'spotify:track:2gbMPBrBVj3CuNTLp2dHYs', 'spotify:track:4osgfFTICMkcGbbigdsa53', 'spotify:track:2ZWlPOoWh0626oTaHrnl2a', 'spotify:track:7eqoqGkKwgOaWNNHx90uEZ', 'spotify:track:5pFSH7k21DTVSNMRsZum5C', 'spotify:track:77qBwefBIdzymXNCuAI8YX', 'spotify:track:7p2mwDoEBIQw927JW59cwE', 'spotify:track:51EC3I1nQXpec4gDk0mQyP', 'spotify:track:5lw8Mgb4LyhriPIC86gV6e', 'spotify:track:0j35X8cTq543QDYLOyqB8W', 'spotify:track:0XJGSevJm70oos1HatS4JM', 'spotify:track:7pcANiSH8mEKLUIPAxiSDr', 'spotify:track:5bknBRjKJZ643DAN2w8Yoy', 'spotify:track:1Q7iiCL2o5MyLI0wxEpryG', 'spotify:track:68vgtRHr7iZHpzGpon6Jlo', 'spotify:track:2ZA4uMlSZjaoWGFqP1tsLI', 'spotify:track:6XkuklKiHYVTlVvWlTgQYP', 'spotify:track:1D3z6HTiQsNmZxjl7F7eoG', 'spotify:track:10nyNJ6zNy2YVYLrcwLccB', 'spotify:track:4B31QOL13iBeuIsaGD20BS', 'spotify:track:4N5JhudHz0Wlj9r3FDpGyi', 'spotify:track:2aI21FnmY7TJVKeMaoQZ0t', 'spotify:track:2QnmlK1ezVLg83Yc9OJHkk', 'spotify:track:6h77X5H4dP9l2jzG92vVv0', 'spotify:track:4X5f3vT8MRuXF68pfjNte5', 'spotify:track:4W8sUeokQKfHt1uTXp0Jq0', 'spotify:track:0BCPKOYdS2jbQ8iyB56Zns', 'spotify:track:7rU6Iebxzlvqy5t857bKFq', 'spotify:track:1dF5Y2dd7Wm4wZKvVjWBpr', 'spotify:track:1aayZc3JciIs2GhZcSlCrw', 'spotify:track:7pOYYtkbNhBGWpPhpWl2ow', 'spotify:track:56dvEv8PIWFuc5vJQLPM0L', 'spotify:track:7DcJ6fEBb7BaKuYKTwiDxK', 'spotify:track:5CFJRZRq6sdKKtRwNPWbYv', 'spotify:track:0Zq9KrBsJSWfnIgEyXi05b', 'spotify:track:5zQ65ap2xd09FHwdv4oxRf', 'spotify:track:2YodwKJnbPyNKe8XXSE9V7', 'spotify:track:1JQr89uc6xVkIwfS09ct8K', 'spotify:track:1HPgGWChZASqL1E0yleBon', 'spotify:track:6NMtzpDQBTOfJwMzgMX0zl', 'spotify:track:6N5DRCQUSXT1qQqmqsO92B', 'spotify:track:0hKRSZhUGEhKU6aNSPBACZ', 'spotify:track:0V6QNE31BWyMuiKlvDRnE9', 'spotify:track:6YIggUJW3ttAAPRdnki8RM', 'spotify:track:7rdyAfIm1t6h6I1gyLtD17', 'spotify:track:1pBAsoHy7eN9aeVCTAiKua', 'spotify:track:5P4Dow1Jc2NhkknIuPi5Nd', 'spotify:track:6tqIes4TjudsjfIpK4P2Jh', 'spotify:track:3rfhI32Il2hVRKDkuGeeen', 'spotify:track:4CzhtKifG867Lu5DNQVBSA', 'spotify:track:29TPjc8wxfz4XMn21O7VsZ', 'spotify:track:59J5nzL1KniFHnU120dQzt', 'spotify:track:3A4cpTBPaIQdtPFb5JxtaX', 'spotify:track:4h8hjfKfDeCAun1A6bwjJD', 'spotify:track:6glsMWIMIxQ4BedzLqGVi4', 'spotify:track:4E6Dxj76ostVEmeefzlDP8', 'spotify:track:0yLsJKNJHmSnmSGl3ZodYn', 'spotify:track:3ruoIF2UnoXdzK8mR61ebq', 'spotify:track:1jzIJcHCXneHw7ojC6LXiF', 'spotify:track:2N3U8uTYhjX2KwGT0pf5x0', 'spotify:track:6ABAUBmOyfPtAUU0IpEKJf', 'spotify:track:0s019O8KwLXkPSSV609qEE', 'spotify:track:1sFstGV1Z3Aw5TDFCiT7vK', 'spotify:track:1dUPABHPVfHnvdLnKwYbgz', 'spotify:track:4IowQDUOzUvNtp72HMDcKO', 'spotify:track:12D0n7hKpPcjuUpcbAKjjr', 'spotify:track:3U8Ev1gISsx6O1uwpsttOD', 'spotify:track:1mCsF9Tw4AkIZOjvZbZZdT', 'spotify:track:1e1JKLEDKP7hEQzJfNAgPl', 'spotify:track:6FBzhcfgGacfXF3AmtfEaX', 'spotify:track:5FL8wr5UH25DTL0pEUTcRw', 'spotify:track:7z4xW9WY86uH3gd1V9pfCM', 'spotify:track:1aEsTgCsv8nOjEgyEoRCpS', 'spotify:track:0DpyE1JwimaQaiFXQdwUCZ', 'spotify:track:2CNaYt7KbFqUrATbZZPY21', 'spotify:track:2LhhnqrHPWvXYveZVHLKrd', 'spotify:track:5k8eNtmqlKe21qjIFIp1Du', 'spotify:track:2gAGWaK4wvt2xrFUlR4mK8', 'spotify:track:7bfHR7MgW9oAK4ZagZfViv', 'spotify:track:4U2GQlVHIerwX78jHpkOYN', 'spotify:track:00ko9WaS4jOX1kEk3gvHjf', 'spotify:track:1vH21RIYG3nUJn5BgbZRFZ', 'spotify:track:4dTaAiV9xFFCxnPur9c9yL', 'spotify:track:6RfhBNU1FPWTG7VESlfgOl', 'spotify:track:1KQymTxNJfWk6vCD5ywKW2', 'spotify:track:0pUWZAVuWKJTBhgBkcfwBt', 'spotify:track:64Dy3qJDCFug6CySbswdbO', 'spotify:track:0ofHAoxe9vBkTCp2UQIavz', 'spotify:track:50lTDu2BnjyqWnUFsxMryJ', 'spotify:track:58k32my5lKofeZRtIvBDg9', 'spotify:track:3xby7fOyqmeON8jsnom0AT', 'spotify:track:3v6SdZsS8zR6Go257tldbB', 'spotify:track:5Z01UMMf7V1o0MzF86s6WJ', 'spotify:track:5dhYmSVGhAVVSf5uTwj7hv', 'spotify:track:6Yqmv7XJLCrQEauMbPGZSw', 'spotify:track:2Y0iGXY6m6immVb2ktbseM', 'spotify:track:7G0uGEYkmd6uXgqNeTtceS', 'spotify:track:40jxatV29fk82SAziDsPqN', 'spotify:track:2X485T9Z5Ly0xyaghN73ed', 'spotify:track:14blxrgE0VWAgv5aF2wWmx', 'spotify:track:46fk9wjYcPm0sgym2b7EEE', 'spotify:track:2I9foKseoFQh07p6sD2voE', 'spotify:track:7n4YpQcocaRfXRlEl07klO', 'spotify:track:1lB6TCFlx4f50wdetOuGcT', 'spotify:track:6ScJMrlpiLfZUGtWp4QIVt', 'spotify:track:4oVLMiFUDHVcDaNE187dLS', 'spotify:track:2w9htZtkcbR48NCWzXjfvb', 'spotify:track:34j4OxJxKznBs88cjSL2j9', 'spotify:track:6slWUMiyoNNWcQGu6tkTlH', 'spotify:track:7cz70nyRXlCJOE85whEkgU', 'spotify:track:3GZD6HmiNUhxXYf8Gch723', 'spotify:track:53dkS3h9uTNsWYZTPacnpx', 'spotify:track:7m97yKVzPpXV9Z4ezEziOD', 'spotify:track:6vegnfDS8DAEaCqWaPYGPy', 'spotify:track:7jIAttgQTpLDoNtykIQXjH', 'spotify:track:4fiQhkCzmEg35ZP3wCy3Ma', 'spotify:track:3vkQ5DAB1qQMYO4Mr9zJN6', 'spotify:track:7I5eQZFdlPV8LZWH2FeqaW', 'spotify:track:3eX2JOSwcPjVEe2zbVZ2GH', 'spotify:track:1BkY0N8ChFk2mdLbAUu8ZK', 'spotify:track:2lxl55hHNfA6L9uKqeCIlS', 'spotify:track:4GFJRLgxy4chyfWqfPTJaI', 'spotify:track:5I4ipBNoOOXF20YY0pOjCx', 'spotify:track:4Ee6ZsyVepVsvObgYwzgH1', 'spotify:track:7nYvUtkQMx1v80S2FH2s9J', 'spotify:track:0z1o5L7HJx562xZSATcIpY', 'spotify:track:3TO7bbrUKrOSPGRTB5MeCz', 'spotify:track:3koCCeSaVUyrRo3N2gHrd8', 'spotify:track:3DzlR0kXE6shimFVhSwI4A', 'spotify:track:60b6B2ULC85t4Y5IjZvP7A', 'spotify:track:4i9ATUqGrKhfzQ0k8UnSBf', 'spotify:track:4bPQs0PHn4xbipzdPfn6du', 'spotify:track:7AQim7LbvFVZJE3O8TYgf2', 'spotify:track:1nwkSqzTyXBk6XF796EOav', 'spotify:track:2R711v6UpsgYvDuzCJ1iSl', 'spotify:track:3Z3Fs0QhlvrJVRBHwzAFnQ', 'spotify:track:6dFn6my1sHK2bcf23GlHwM', 'spotify:track:0trHOzAhNpGCsGBEu7dOJo', 'spotify:track:5bm0CcD5R9Nj04QbMvwugt', 'spotify:track:0zO8ctW0UiuOefR87OeJOZ', 'spotify:track:5xJeZ6tLPOXNIrrphEIuay', 'spotify:track:5iSEsR6NKjlC9SrIJkyL3k', 'spotify:track:5B0kgjHULYJhAQkK5XsMoC', 'spotify:track:011ZwIM48eD8ee2UBpG8nK', 'spotify:track:5palKhOCG1S3Y351ROrgLw', 'spotify:track:3pjUyVbFmM96tYhSaKJwTt', 'spotify:track:7yNK27ZTpHew0c55VvIJgm', 'spotify:track:5xC8uOesnn0udeXAYlAnoY', 'spotify:track:1ZHYJ2Wwgxes4m8Ba88PeK', 'spotify:track:2UVLuddklEVak5PXgC7baA', 'spotify:track:1Vp4St7JcXaUoJcIahtf3L', 'spotify:track:6hIOunhsLUT66KQgZV5dMD', 'spotify:track:6WhtwHTLgxYRNoW1OPDuQo', 'spotify:track:6j8gTlbhj9KJSeypNcNAS9', 'spotify:track:1eINu6IcyH2qY3R5QRoNHQ', 'spotify:track:30o8E8pmxyWDVvjud2WE5i', 'spotify:track:6mapJIPnQ23RTAevUoE0DL', 'spotify:track:2vfPsGhqMbqmhjMGQ52dYf', 'spotify:track:6eT7xZZlB2mwyzJ2sUKG6w', 'spotify:track:1MJErNPIQUoEMu4YUUmecm', 'spotify:track:33zbOXJSwW7uf4VXXWow2O', 'spotify:track:3xKsf9qdS1CyvXSMEid6g8', 'spotify:track:29hrQIClzqNqMPO4bVWcjI', 'spotify:track:3EG9FJ0ToLfgnc1IG2Z1wz', 'spotify:track:40riOy7x9W7GXjyGp4pjAv', 'spotify:track:14246VCxRDGZHqlMlqWSz4', 'spotify:track:2sw9r0DEwO1Nqg6eBtsCcc', 'spotify:track:46OFHBw45fNi7QNjSetITR', 'spotify:track:3Osd3Yf8K73aj4ySn6LrvK', 'spotify:track:13plTOJUDmgBrTEd7yzTgq', 'spotify:track:2G2YzndIA6jeWFPBXhUjh5', 'spotify:track:4IO2X2YoXoUMv0M2rwomLC', 'spotify:track:0dWOFwdXrbBUYqD9DLsoyK', 'spotify:track:6Ab81Bs9fcOwaTYuBsUUpI', 'spotify:track:1ohwrBQrxIlqMYfkoYERiN', 'spotify:track:5n8Aro6j1bEGIy7Tpo7FV7', 'spotify:track:3sNVsP50132BTNlImLx70i', 'spotify:track:5jgFfDIR6FR0gvlA56Nakr', 'spotify:track:0R3TWpoxAhT3HDXM7tpRzS', 'spotify:track:1tkMs9wDPknQ3ZHcKDw1ES', 'spotify:track:2vl4TbiGkdTqD4UXnqTDhp', 'spotify:track:7ni2QpeyhKLJIb18IJTBHc', 'spotify:track:6LwYUSaVJLdTwrziHEUSxM', 'spotify:track:6wOdpwaVrRtWlVSQNMBNQU', 'spotify:track:7DTlsMOQjGysXHpwwpHuPl', 'spotify:track:6gpcs5eMhJwax4mIfKDYQk', 'spotify:track:0725YWm6Z0TpZ6wrNk64Eb', 'spotify:track:6VS7wKwtvL2FvTupYSWZ9e', 'spotify:track:4AlrLQ2RMxOwz1gTTkb4vQ', 'spotify:track:1trAoZKkvVjuuQpUzTI6KV', 'spotify:track:0aMHIW1lqrulVCx0LLlr6a', 'spotify:track:2I8EDARURigigunOxtg7oi', 'spotify:track:6MOst484piqXpzPPRRe8i5', 'spotify:track:2CsnpBAB8VQMTyPuws57ao', 'spotify:track:3YJJjQPAbDT7mGpX3WtQ9A', 'spotify:track:6flur5o18COKeafnjLHRiJ', 'spotify:track:3pyyGVqWvRMq43qtJBzxe0', 'spotify:track:3CboywxfJIgvHqi2FF4exb', 'spotify:track:3cWmqvMwVQKDigWLSZ3w9h', 'spotify:track:6PGoSes0D9eUDeeAafB2As', 'spotify:track:5TRekQsv96kQezYd8TkilW', 'spotify:track:6qMiZK4mGuCRkVwRFds4Sm', 'spotify:track:6Cr0TTE9oGeY3KA1VpUmWB', 'spotify:track:6PwjJ58I4t7Mae9xfZ9l9v', 'spotify:track:5cZpwmXGzDvBDX9Iv6wXzx', 'spotify:track:0joQFwiBKmi6X1Iq5R1ubH', 'spotify:track:6slnz0q9Peo9Pnok7U51so', 'spotify:track:42GcjriRK6srwHkfbkBqVl', 'spotify:track:6SRsiMl7w1USE4mFqrOhHC', 'spotify:track:61og03io9xPCosu9rkgh1t', 'spotify:track:0m3Ze0cy8qBHSsV2exAfCw', 'spotify:track:2dCmGcEOQrMQhMMS8Vj7Ca', 'spotify:track:1KGi9sZVMeszgZOWivFpxs', 'spotify:track:2sQuds8s3EVbhXJpgVWpO4', 'spotify:track:3RmKpob8xzv1pzHEQrMJah', 'spotify:track:2aoo2jlRnM3A0NyLQqMN2f', 'spotify:track:2fDHuS1PTkHBbCWWZF1ph9', 'spotify:track:4Zhltv7cUTC9bd4VI1qjmF', 'spotify:track:5FG7Tl93LdH117jEKYl3Cm', 'spotify:track:3Pu3IChaAoa5EjgUBv5F6x', 'spotify:track:46b23Nj2UftnN8jSWz4VR5', 'spotify:track:2T9Pco5PVzA9U4icwlQkp4', 'spotify:track:5UB1hRBcUDi43KDEahFrEC', 'spotify:track:32r25QdtfHgAxjohp2EoPH', 'spotify:track:63xdwScd1Ai1GigAwQxE8y', 'spotify:track:5ko7uNgBRDpP90eXbXSEeS', 'spotify:track:4feXcsElKIVsGwkbnTHAfV', 'spotify:track:2s9Q2nYmAYWzjZsdcwYe1p', 'spotify:track:1IIw5oVR1xE4bzdl4JgGsc', 'spotify:track:7qGw7mD1l16vJt6MnELYSD', 'spotify:track:6HzREffgQ16b7Rlrr6BY0m', 'spotify:track:3UM2L6NTtB2SyHeFKDUVhg', 'spotify:track:2gam98EZKrF9XuOkU13ApN', 'spotify:track:5DS5aMoVYgmZkULtzN6VCv', 'spotify:track:0oHEteATZnAZuA9dl1dXF3', 'spotify:track:5HQVUIKwCEXpe7JIHyY734', 'spotify:track:0YpaoMOUSP3jwZ4RgqNESG', 'spotify:track:69Tf2qK9sYOi1ncnXrfIUV', 'spotify:track:1zN6ynJG4PdR61YWv4PQ3Y', 'spotify:track:5jzX4dWVQeBTtfBaXnMRt5', 'spotify:track:2qtoRFCOEL1gRn5q9DJC7F', 'spotify:track:1kwnxJNVl7cwcU98RvMBaR', 'spotify:track:77GoToROOVIQZidN1naoOF', 'spotify:track:2w78IVFn0nad1tcG5RHyTx', 'spotify:track:7AzlLxHn24DxjgQX73F9fU', 'spotify:track:4SqWKzw0CbA05TGszDgMlc', 'spotify:track:3MK6OsCb4VJGdPxvXjW8Q9', 'spotify:track:7p4vHnYXkxlzvfePJVpcTr', 'spotify:track:0UTyLmkQgPOEIz95OVAJTR', 'spotify:track:29U7stRjqHU6rMiS8BfaI9', 'spotify:track:6f44p3Kc4ayD9VtbC9Clkr', 'spotify:track:0oGl8U34a4tiAZPj5MMI2e', 'spotify:track:1VxvGm1moDJ3svQlwjdBwA', 'spotify:track:2q0VexHJirnUPnEOhr2DxK', 'spotify:track:0LtOwyZoSNZKJWHqjzADpW', 'spotify:track:3HaQRBJlAewx6IUERvNTk9', 'spotify:track:4riDfclV7kPDT9D58FpmHd', 'spotify:track:5Go7a9wnApTQm2nYqKBdm0', 'spotify:track:3NuN59jpH3B5cNa2M4r7XG', 'spotify:track:4Gm1VAxKdLS9aL7bkbZZyr', 'spotify:track:3wGXyJGsCf1myH5MooQIqE', 'spotify:track:1xLs8Mu1QEVbGCpyHQ2r2U', 'spotify:track:6PvjNYQ0cWU5zOyb3HUm7U', 'spotify:track:66YJddDOMyb9oj7vqI9CqU', 'spotify:track:3GCL1PydwsLodcpv0Ll1ch', 'spotify:track:45LrQ3tg1z8plpuQRCuSwE', 'spotify:track:6eVM9lCmIqwGTUOoeH61Lu', 'spotify:track:1JyG5yuwpN0VIi4wbqvDfB', 'spotify:track:5rzaSeBImoESArwGFuugU7', 'spotify:track:5QdBAG8cpZhM3kIAQLDRN2', 'spotify:track:6uDBSDI9pDM7C4Gm0hc2hI', 'spotify:track:2Zy9cf5v1tWFDmXTbahAU8', 'spotify:track:0TeHvhaNBSuv7yGQ9dLouv', 'spotify:track:0Z2J91b2iTGLVTZC4fKgxf', 'spotify:track:3NZJlJemX3mzjf56MqC5ML', 'spotify:track:4ZtFanR9U6ndgddUvNcjcG', 'spotify:track:7MG77R5GjIEWkAhtCdvs6v', 'spotify:track:19gEmPjfqSZT0ulDRfjl0m', 'spotify:track:4ja2gzrNh9VNigzoXfmbwD', 'spotify:track:7sLpSWxQazJzDVG6YGzlVs', 'spotify:track:6Qyc6fS4DsZjB2mRW9DsQs', 'spotify:track:15hJmqqEtASVXl6sM7i4UF', 'spotify:track:2oLwDI8tZUOh6SmTMRRfKs', 'spotify:track:1KcOU0q9AMXV9xi4tSzzCc', 'spotify:track:5mJGLBNJM0GULqAoL5mb9C', 'spotify:track:33iv3wnGMrrDugd7GBso1z', 'spotify:track:5EJ2THuhAapEIeQOtXUQ0x', 'spotify:track:07qj9w93jk1eA2TGAd6kxj', 'spotify:track:0oUBuOO4g9P4lREqfqR5nq', 'spotify:track:4BycRneKmOs6MhYG9THsuX', 'spotify:track:2LKOHdMsL0K9KwcPRlJK2v', 'spotify:track:53C1cEmECQhFybYyArzBBO', 'spotify:track:4U3uqp4orK6ykUJUHW8JW4', 'spotify:track:7fp41IDi1dqARoX0Nuvz5O', 'spotify:track:5b6zjsBrZCqe6RFycLz2tc', 'spotify:track:7J2gyNghNTzl4EsLhXp01Q', 'spotify:track:6qQGxKyy6LcyZVsWn93lyS', 'spotify:track:33ZXjLCpiINn8eQIDYEPTD', 'spotify:track:6e7hIhOLH9zvb3zP5O5gt0', 'spotify:track:2OTGmFUoJDx8scC8PO87V0', 'spotify:track:7kbvZI5tnmk2ofhBuOB3rt', 'spotify:track:6Ik9aiuaoEYxsEKGdQaEJB', 'spotify:track:6LjwMzqqe3xNlRnzHSMar6', 'spotify:track:6gI9b2VsoWhjhIuIeToDVs', 'spotify:track:0RAvy97QRPzO2AfK5Dw6j3', 'spotify:track:6W9rbkBueZQrwuzO24GHZ2', 'spotify:track:0nxZUG8zuVv6TrtmWEkKQJ', 'spotify:track:300DUx4tdtCdGEUXR032jA', 'spotify:track:15Uxmx6D6hW0gY5kc7bpqU', 'spotify:track:7aK5rlTVxSgcqShPMI1TTH', 'spotify:track:5EWPGh7jbTNO2wakv8LjUI', 'spotify:track:58CUIzSxNpQUFvTCd8tntH', 'spotify:track:2Ih217RCGAmyQR68Nn7Cqo', 'spotify:track:1eRBW1HcyM1zPlxO26cScZ', 'spotify:track:2JLMHADAyossZlBcpc8TDs', 'spotify:track:5xJlzQiPLYkvlqkRPKzBwD', 'spotify:track:62oqxoJQYPCyjZ2ChH7foI', 'spotify:track:42V7F468ieBbxKwaxBlpls', 'spotify:track:6mFkJmJqdDVQ1REhVfGgd1', 'spotify:track:41X9qar6SruZOPLIV7sgUw', 'spotify:track:6b1uvC2GnPm4wNsHaOlZM7', 'spotify:track:4uOKFydzAejjSFqYbv1XPt', 'spotify:track:0RyA3o15NOLJYtm9NlDu5c', 'spotify:track:27RDADqLHPALTugdGEyGtG', 'spotify:track:3G6hD9B2ZHOsgf4WfNu7X1', 'spotify:track:1Qrg8KqiBpW07V7PNxwwwL', 'spotify:track:1IT0WQk5J8NsaeII8ktdlZ', 'spotify:track:6XyxCBp6x3jvtxXvMN5sAA', 'spotify:track:5JyJsAZyLTD7W5oWLeB0JK', 'spotify:track:0M433gqUejjCujkzISWinQ', 'spotify:track:2GtaNlidzvK3hY78kCdsHa', 'spotify:track:2wK7y55bzry7tUDmDqYaz7', 'spotify:track:4NTWZqvfQTlOMitlVn6tew', 'spotify:track:2uMv1AvQhvXk4F3DAeABGg', 'spotify:track:01iiEi9h8CQGUN2K1xBbTj', 'spotify:track:7K1HH9OC6nZlJqrGnr8r1g', 'spotify:track:7rxdEeEAZ3c5KQ7s1bC3cc', 'spotify:track:5bBUDJUfGcG7eFy3Bf4fXv', 'spotify:track:6FiySur7YZL0Kff2YVGsEB', 'spotify:track:1q8DwZtQen5fvyB7cKbShC', 'spotify:track:6gpZSI0xEMTzleBc5ykOVA', 'spotify:track:6R0GRYk2vs2XuBVemYK5YZ', 'spotify:track:1gTANFZlqRitzVx7YSenzA', 'spotify:track:27oVCAziETRbNuo5A8LNpg', 'spotify:track:2yg7MXp8nSPaf61HVkhEr3', 'spotify:track:1fOkmYW3ZFkkjIdOZSf596', 'spotify:track:60wwxj6Dd9NJlirf84wr2c', 'spotify:track:419BgOz6TVQm8vvgiwXq5X', 'spotify:track:35SRuRfp5BvD1yArmXKNHO', 'spotify:track:1bcLMqBO1A8hYWSPDdW7C4', 'spotify:track:0F13K9dwYH2zpTWiR8d628', 'spotify:track:0W4Kpfp1w2xkY3PrV714B7', 'spotify:track:1HBXXiiegRl0TpzgikBBTP', 'spotify:track:54bm2e3tk8cliUz3VSdCPZ', 'spotify:track:4GP5iTBe9vFezR7ZCNGQ3N', 'spotify:track:5cJBMRBaLTxrT02SSaoPJO', 'spotify:track:59jlvISxPnbP7RpQ01Hugu', 'spotify:track:1JIgFmCP5OCTEGV866WP3b', 'spotify:track:5xoYormSTltk6F9SlQV6mm', 'spotify:track:5dRfBz5ZXJc5gZJsNM04nn', 'spotify:track:2vEUFrRByOKob8yqOd6LuA', 'spotify:track:0ZBchpb4CLk5Qqu3895Etp', 'spotify:track:0T6RSXxFhW8dRTWHI604ld', 'spotify:track:3nDfx9WqSNOfbuCP4yonzj', 'spotify:track:5XFoaqV1Z8XaLJidchVWhh', 'spotify:track:6xpDh0dXrkVp0Po1qrHUd8', 'spotify:track:1HVYQj4liQb1QOygBfjZqV', 'spotify:track:1ITpqT1kDATCtMBwOK7sYn', 'spotify:track:4rCKRVJZKVysScn2piDuOT', 'spotify:track:5xKvxwXINUs2dsyvDJ8Gjs', 'spotify:track:0mRbKcvmbbUtfFyfeFHCJa', 'spotify:track:0DmkBOGgEWMbUJlL6VwwF2', 'spotify:track:1v0ufp7FLTFcykUGOmFZKa', 'spotify:track:69kOkLUCkxIZYexIgSG8rq', 'spotify:track:6cmm1LMvZdB5zsCwX5BjqE', 'spotify:track:3ZuT0Evo8chdVM6rPXXqgd', 'spotify:track:2wGSgTmgSF3xjRrHkTc25R', 'spotify:track:6TPTnROcnJQXuAyRDw2qfu', 'spotify:track:3lIxtCaROdRDuTnNBDm3n2', 'spotify:track:0iQJLCJyv6TTPUP4u4y8DJ', 'spotify:track:4bHsxqR3GMrXTxEPLuK5ue', 'spotify:track:5U6wK4bYKVtwSCKCXyZNfD', 'spotify:track:6MF4tRr5lU8qok8IKaFOBE', 'spotify:track:3Am0IbOxmvlSXro7N5iSfZ', 'spotify:track:7c3SbTuufigBWURcICnAWy', 'spotify:track:1eNrlXlW7Cj1QB1YUcZmpb', 'spotify:track:0RFgvrhkf9FiDRLA0BhzpZ', 'spotify:track:6JjEVlMkfHWMeYavkEYzNO', 'spotify:track:0MHXrqn909p0LRTPsNsGEi', 'spotify:track:41sGGCCoHI2GLV9qadX80A', 'spotify:track:4iYRa2btalAzPZoSYfROqF', 'spotify:track:5o6PkOAAwHvdkkOBGPxi20', 'spotify:track:11607FzqoipskTsXrwEHnJ', 'spotify:track:1PPbPeWfeKwiBZUzugIehD', 'spotify:track:0Yfpc5zHc9pElVCQ1bPlF4', 'spotify:track:4w1lzcaoZ1IC2K5TwjalRP', 'spotify:track:6Jub05dvpbF4Im83NqMCUg', 'spotify:track:72YRB6ar59nBsNdnn0cVdD', 'spotify:track:6Tsu3OsuMz4KEGKbOYd6A0', 'spotify:track:6bGwKHXHNLmTy6yt147FPh', 'spotify:track:4S9igu2YyLNTUdP6UTlGb0', 'spotify:track:6ZKB999ZdaFVgrYWvxkl49', 'spotify:track:4lcM7UhovQcCa9efiHgPU7', 'spotify:track:5uQOauh47VFt3B2kV9kRXw', 'spotify:track:2lmPSRRry3SZ6Tc3DDMLg3', 'spotify:track:4fLgfaFudrtfkOzAa2rj64', 'spotify:track:3ZdJffjzJWFimSQyxgGIxN', 'spotify:track:1yfymqHHUZeDisKm7L2X2d', 'spotify:track:1GeqROUjY4JK5Gk6ODu2Jn', 'spotify:track:3YKptz29AsOlm7WAVnztBh', 'spotify:track:0kd0cGkhCD144Qdqm8iIF3', 'spotify:track:6cfVDaIdvDtYH91RqC6Wox', 'spotify:track:4JMYfwYULOoWTaIW3CTvvT', 'spotify:track:7J0mZi4vIRqBR9pjAt90nX', 'spotify:track:45iJnPjul5yDYefM6GEYZB', 'spotify:track:5K9tfeoiztw94dyWzF39jq', 'spotify:track:3IznIgmXtrUaoPWpQTy5jB', 'spotify:track:2K22nUTdyr48JDwI5t906t', 'spotify:track:30HCB1FoE77IfGRyNv4eFq', 'spotify:track:55yvzYuvJYG2RUEnMK78tr', 'spotify:track:35k31HZI4z9PbBOioaI4dZ', 'spotify:track:4QCczE24wLpDmPJ3qwwEvC', 'spotify:track:2VNfJpwdEQBLyXajaa6LWT', 'spotify:track:7ACxUo21jtTHzy7ZEV56vU', 'spotify:track:3Cx9j78Z0NE6jYwBWvvV3P', 'spotify:track:5jkFvD4UJrmdoezzT1FRoP', 'spotify:track:4OV0sRTFrZLXaZZ1sS9hLn', 'spotify:track:5qYGNYP5N1KjRBbcKTIgvk', 'spotify:track:2NkcDXp7gXjCCCjG6P1i48', 'spotify:track:3Y4rUyw7XBCK6hGHCOt6rp', 'spotify:track:2z0z5ddJS3K7qvhp4PH0Aa', 'spotify:track:7bW8p9CUiHRn6x8OQorazE', 'spotify:track:1HA2V2EfAgJUBVOju4YfiB', 'spotify:track:3Fi4yOHkFTfVzOE7Ac3AgN', 'spotify:track:0Qr9Dl5b43RAZuXTSqzBzu', 'spotify:track:2LZ2CNbcbJrwh53pitRgom', 'spotify:track:6LxSe8YmdPxy095Ux6znaQ', 'spotify:track:6LOZws7T3jqZz78unPgFF9', 'spotify:track:4LqQinWUzMl3QmRlO3Wgbh', 'spotify:track:5kDvGOJLmYttWjHMcwxlT5', 'spotify:track:20FZrLl9zSbO9b3DhaqO6M', 'spotify:track:6QNphn62YKaHG1hrnPSoHi', 'spotify:track:0KyAGiNGUytG5JLxJu4F6l', 'spotify:track:2jvuMDqBK04WvCYYz5qjvG', 'spotify:track:5rfT032kGmLvbxZzfHlu5D', 'spotify:track:16x4zrgor3ewwEbPgSrTAB', 'spotify:track:4Uiw0Sl9yskBaC6P4DcdVD', 'spotify:track:4pNiE4LCVV74vfIBaUHm1b', 'spotify:track:4HvjO2BAEeh3hqF6PWcJ4q', 'spotify:track:2LKPTpU8SK8zatMtk3ldXo', 'spotify:track:4V1KCIpU9VUzf9YsVY7G7o', 'spotify:track:30QD4VRP9yEneOh0eGTrtJ', 'spotify:track:74ZovzRxHBvCq5yIwe8boh', 'spotify:track:6H5cDHFGHHo1QBC078OzOH', 'spotify:track:6SE4JAo7T8C7XkFka5bbga', 'spotify:track:5132XbKDftv1P2aPFtYofX', 'spotify:track:5WTxbyWTpoqhdxEN2szOnl', 'spotify:track:745H5CctFr12Mo7cqa1BMH', 'spotify:track:1eLU27PPFxBhbp1CBjPh9J', 'spotify:track:0tkBOcK7oRVXQJY97zzSvr', 'spotify:track:5Jux7nevG4VaJNfI6jKoka', 'spotify:track:6QXtKi4TVe1458QNodE3cs', 'spotify:track:6PLQKVQv6BvZGtHtyJ8CaH', 'spotify:track:5QNeckfTYKateLNPThnx0Z', 'spotify:track:58CgiBSQqcJTkMkd3cbhAu', 'spotify:track:2RXn2FXwRVlHDrs0CZnWEi', 'spotify:track:7zpHInsypgrnY9zTeCXtI4', 'spotify:track:7dXLivL0wsQhxq9D9eIfDr', 'spotify:track:6ey8HhYmR57lhESTf15RcF', 'spotify:track:2EQWbkcNoKPOXQtJM7nqRV', 'spotify:track:0hbSQvosqCvCFaiSRPEUYP', 'spotify:track:0xxZY5C9xxij3D1HkzbnfC', 'spotify:track:21LkHnuxPxVrOZ5gCaG7aM', 'spotify:track:2OEKjBfuCdVPLLUgUf90ZM', 'spotify:track:0XgRWgcs0Pcr9PSIdFWD4N', 'spotify:track:4ufZSKCI84Pd2ZlWTJcu4i', 'spotify:track:0pQskrTITgmCMyr85tb9qq', 'spotify:track:0mYYDj882nEd5qzldZJ39o', 'spotify:track:5QemHQxj7PRkrw8lJl2W7C', 'spotify:track:1jkEorRvoRQNo1WZfD1X5q', 'spotify:track:2NC0JdCc2XgrNa0ipNOfML', 'spotify:track:2bLqfJjuC5syrsgDsZfGmn', 'spotify:track:1Ci4wASMY4xtKVMeHA6Sd5', 'spotify:track:3b3ccJf0VXOR0kCZaLte7g', 'spotify:track:2kMVxFh1y5gow2hBtqGO4m', 'spotify:track:2mqXKSieDASoq4N5739wCz', 'spotify:track:0kEZlJh4mK1QRfb3CT5LPk', 'spotify:track:0w6webWdhjRKdqJ3DeGgM1', 'spotify:track:0mXMr1OVZZKYmOinBaofOp', 'spotify:track:3iDi7HofO9AVKO9lnaPA9q', 'spotify:track:5oO3drDxtziYU2H1X23ZIp', 'spotify:track:1f5cbQtDrykjarZVrShaDI', 'spotify:track:7e3BbVSFHrB6aa96DI51B3', 'spotify:track:51Grh1RyUDcMBbpuyUIUHI', 'spotify:track:7wyz8PA0B7oBWvR2P5qTWt', 'spotify:track:4UOWkmOtb3DgMaSmI8rTaC', 'spotify:track:247cPctDZ6s7hoNT8iKUtN', 'spotify:track:6TLSA1Tmw8RQxvAioq6je6', 'spotify:track:6Pur3hWy6Nzc27ilmsp5HA', 'spotify:track:5IzIgMLJooVrbWpMYZLwbq', 'spotify:track:54ztapVQO9MauwSOWGEvGR', 'spotify:track:0E1GJFHAHBQLNyh7VZqDoZ', 'spotify:track:06p2Ij0lXD45LODQDCov0u', 'spotify:track:0Dl965SLJGi9bB0SrvtPRx', 'spotify:track:5TXDeTFVRVY7Cvt0Dw4vWW', 'spotify:track:6KmeJB34wVVqar5b2uxWrE', 'spotify:track:5kxinzQqkSJhL7QDdvkDFM', 'spotify:track:4oeaIftdpT3JuZLcCkKmVE', 'spotify:track:5FxVTEpoBress37MmlMhbZ', 'spotify:track:3IQSYqnKsCTMLWn2xE3HFT', 'spotify:track:05VHidqx1tV6V7MsCdAIby', 'spotify:track:58yuFWA2sd63pW9i4Jy7fC', 'spotify:track:1jzDzZWeSDBg5fhNc3tczV', 'spotify:track:6RtPijgfPKROxEzTHNRiDp']\n",
      "713\n"
     ]
    }
   ],
   "source": [
    "theee_playlist = \"https://open.spotify.com/playlist/78KodfOBZ4qd8qLLiuFjcD?si=8113f0bb8c67496e\"[34:56]\n",
    "initial = 0\n",
    "end = 100\n",
    "the_pl_array = [theee_playlist]\n",
    "swag2 = []\n",
    "\n",
    "for index in the_pl_array:\n",
    "    swag4 = get_song_ids(index)\n",
    "    swag2.extend(swag4)\n",
    "\n",
    "print(swag2)\n",
    "print(len(swag2))"
   ]
  },
  {
   "cell_type": "code",
   "execution_count": null,
   "id": "96835ae5",
   "metadata": {
    "ExecuteTime": {
     "end_time": "2022-12-22T08:27:21.418361Z",
     "start_time": "2022-12-22T08:27:21.415279Z"
    }
   },
   "outputs": [],
   "source": [
    "def add_to_playlist(playlist_ids, thee_pl_id):\n",
    "    #print(playlist_ids)\n",
    "    for track in playlist_ids:\n",
    "        client.playlist_add(thee_pl_id, track, position=0)\n",
    "        #if track != playlist_ids:\n",
    "            #client.playlist_add(thee_pl_id, track, position=0)\n",
    "            #print(track)"
   ]
  },
  {
   "cell_type": "code",
   "execution_count": null,
   "id": "6e40ded7",
   "metadata": {
    "ExecuteTime": {
     "end_time": "2022-12-23T07:17:01.728121Z",
     "start_time": "2022-12-23T07:17:01.296523Z"
    },
    "code_folding": []
   },
   "outputs": [],
   "source": [
    "# delete the songs on thee playlist\n",
    "client.playlist_clear(theee_playlist)\n"
   ]
  },
  {
   "cell_type": "code",
   "execution_count": null,
   "id": "076ec036",
   "metadata": {
    "ExecuteTime": {
     "end_time": "2022-12-23T01:40:11.408061Z",
     "start_time": "2022-12-23T01:40:11.403115Z"
    },
    "scrolled": true
   },
   "outputs": [],
   "source": [
    "random_numbers = random.sample(range(1000), 501)\n",
    "\n",
    "print(random_numbers)\n",
    "print(len(random_numbers))\n",
    "for i in range(0, len(random_numbers), 100):\n",
    "    start = i\n",
    "    fin = 100 + i\n",
    "    print(random_numbers[start:fin])\n"
   ]
  },
  {
   "cell_type": "code",
   "execution_count": null,
   "id": "48437f32",
   "metadata": {
    "ExecuteTime": {
     "end_time": "2022-12-23T02:00:52.009397Z",
     "start_time": "2022-12-23T02:00:52.004019Z"
    }
   },
   "outputs": [],
   "source": [
    "# Initialize a list with some duplicates\n",
    "my_list = [1, 2, 3, 4, 5, 5, 6, 7, 8, 8, 9, 9]\n",
    "\n",
    "# Convert the list to a set and back to a list\n",
    "no_duplicates = list(set(my_list))\n",
    "\n",
    "print(no_duplicates)  # Output: [1, 2, 3, 4, 5, 6, 7, 8, 9]\n",
    "\n",
    "# this is how you get rid of duplicates in a list"
   ]
  },
  {
   "cell_type": "code",
   "execution_count": null,
   "id": "c6750729",
   "metadata": {},
   "outputs": [],
   "source": []
  },
  {
   "cell_type": "code",
   "execution_count": null,
   "id": "85c15dd7",
   "metadata": {},
   "outputs": [],
   "source": []
  }
 ],
 "metadata": {
  "kernelspec": {
   "display_name": "Python 3 (ipykernel)",
   "language": "python",
   "name": "python3"
  },
  "language_info": {
   "codemirror_mode": {
    "name": "ipython",
    "version": 3
   },
   "file_extension": ".py",
   "mimetype": "text/x-python",
   "name": "python",
   "nbconvert_exporter": "python",
   "pygments_lexer": "ipython3",
   "version": "3.10.9"
  },
  "varInspector": {
   "cols": {
    "lenName": 16,
    "lenType": 16,
    "lenVar": 40
   },
   "kernels_config": {
    "python": {
     "delete_cmd_postfix": "",
     "delete_cmd_prefix": "del ",
     "library": "var_list.py",
     "varRefreshCmd": "print(var_dic_list())"
    },
    "r": {
     "delete_cmd_postfix": ") ",
     "delete_cmd_prefix": "rm(",
     "library": "var_list.r",
     "varRefreshCmd": "cat(var_dic_list()) "
    }
   },
   "types_to_exclude": [
    "module",
    "function",
    "builtin_function_or_method",
    "instance",
    "_Feature"
   ],
   "window_display": false
  }
 },
 "nbformat": 4,
 "nbformat_minor": 5
}
