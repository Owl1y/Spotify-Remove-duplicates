{
 "cells": [
  {
   "cell_type": "code",
   "execution_count": 1,
   "id": "2c2f6af2",
   "metadata": {
    "ExecuteTime": {
     "end_time": "2022-12-23T07:13:30.858060Z",
     "start_time": "2022-12-23T07:13:30.568598Z"
    },
    "scrolled": true
   },
   "outputs": [],
   "source": [
    "import tekore as tk\n",
    "import json\n",
    "import random"
   ]
  },
  {
   "cell_type": "code",
   "execution_count": 2,
   "id": "3f8f4e82",
   "metadata": {
    "ExecuteTime": {
     "end_time": "2022-12-23T07:13:42.312513Z",
     "start_time": "2022-12-23T07:13:31.919334Z"
    },
    "code_folding": []
   },
   "outputs": [
    {
     "name": "stdout",
     "output_type": "stream",
     "text": [
      "Opening browser for Spotify login...\n",
      "Please paste redirect URL: https://github.com/Owl1y/Spotify-Plalylist-Search?code=AQCdgqyXgpjbkiiI_koULu9fjNmeURp5f9gxi80m7aDXDguwaJXVNMrOlsVhmnFaKI23DJ6MoB3qokbY7cZ2ol9NsGLuTa5bQmhN2A3PtwyYFkxtT_UhVPOhXOlQzFAlKnDMESl79vle_swz9Y1Ufn-JWDW8etLadXIr-dQsBePja46OPZ5k-ZYEmRhE1MOdnV1w8qXD9P_jBQPpFdRpixQmiubGYJMx339mWiNN-ew09UCk9IcBIjISBzjQ9Ngg0JwbmMrQzKobNAqGgEFsPQ9Fh8wW4Com9L5vLprkKgvu&state=JxRRt4aZxRML6XJKw_C1ZD7_myjPXAKWGmK7iFOefYI\n"
     ]
    }
   ],
   "source": [
    "with open(\"client_nums.txt\", \"r\") as client_nums:\n",
    "    lines = client_nums.readlines()\n",
    "    lines = [line.rstrip() for line in lines]\n",
    "\n",
    "user_id = \"https://open.spotify.com/user/2153lsupa5hschcs774poensq?si=765b0985ebdc45c1\"\n",
    "user_id_cut = user_id[30:55]\n",
    "\n",
    "client_id = lines[0]\n",
    "client_secret = lines[1]\n",
    "redirect_uri = \"https://github.com/Owl1y/Spotify-Plalylist-Search\"\n",
    "conf = (client_id, client_secret, redirect_uri)\n",
    "\n",
    "scoped = tk.scope.playlist_read_collaborative + tk.scope.playlist_read_private + tk.scope.playlist_modify_public\n",
    "token = tk.prompt_for_user_token(*conf, scope=scoped)\n",
    "\n",
    "spotify = tk.Spotify(token)\n",
    "playlist = spotify.playlists(user_id_cut)\n",
    "client = tk.Spotify(token)\n"
   ]
  },
  {
   "cell_type": "code",
   "execution_count": 11,
   "id": "6cb8487a",
   "metadata": {
    "ExecuteTime": {
     "end_time": "2022-12-23T07:33:18.563280Z",
     "start_time": "2022-12-23T07:33:17.171391Z"
    },
    "scrolled": true
   },
   "outputs": [
    {
     "name": "stdout",
     "output_type": "stream",
     "text": [
      "['spotify:track:2JLMHADAyossZlBcpc8TDs', 'spotify:track:5xJlzQiPLYkvlqkRPKzBwD', 'spotify:track:62oqxoJQYPCyjZ2ChH7foI', 'spotify:track:42V7F468ieBbxKwaxBlpls', 'spotify:track:6mFkJmJqdDVQ1REhVfGgd1', 'spotify:track:41X9qar6SruZOPLIV7sgUw', 'spotify:track:6b1uvC2GnPm4wNsHaOlZM7', 'spotify:track:4uOKFydzAejjSFqYbv1XPt', 'spotify:track:0RyA3o15NOLJYtm9NlDu5c', 'spotify:track:27RDADqLHPALTugdGEyGtG', 'spotify:track:3G6hD9B2ZHOsgf4WfNu7X1', 'spotify:track:1Qrg8KqiBpW07V7PNxwwwL', 'spotify:track:1IT0WQk5J8NsaeII8ktdlZ', 'spotify:track:45iJnPjul5yDYefM6GEYZB', 'spotify:track:5K9tfeoiztw94dyWzF39jq', 'spotify:track:3IznIgmXtrUaoPWpQTy5jB', 'spotify:track:2K22nUTdyr48JDwI5t906t', 'spotify:track:30HCB1FoE77IfGRyNv4eFq', 'spotify:track:55yvzYuvJYG2RUEnMK78tr', 'spotify:track:35k31HZI4z9PbBOioaI4dZ', 'spotify:track:4QCczE24wLpDmPJ3qwwEvC', 'spotify:track:2VNfJpwdEQBLyXajaa6LWT', 'spotify:track:7ACxUo21jtTHzy7ZEV56vU', 'spotify:track:3Cx9j78Z0NE6jYwBWvvV3P', 'spotify:track:5jkFvD4UJrmdoezzT1FRoP', 'spotify:track:4OV0sRTFrZLXaZZ1sS9hLn', 'spotify:track:5qYGNYP5N1KjRBbcKTIgvk', 'spotify:track:2NkcDXp7gXjCCCjG6P1i48', 'spotify:track:3Y4rUyw7XBCK6hGHCOt6rp', 'spotify:track:2z0z5ddJS3K7qvhp4PH0Aa', 'spotify:track:7bW8p9CUiHRn6x8OQorazE', 'spotify:track:1HA2V2EfAgJUBVOju4YfiB', 'spotify:track:3Fi4yOHkFTfVzOE7Ac3AgN', 'spotify:track:0Qr9Dl5b43RAZuXTSqzBzu', 'spotify:track:2LZ2CNbcbJrwh53pitRgom', 'spotify:track:6LxSe8YmdPxy095Ux6znaQ', 'spotify:track:6LOZws7T3jqZz78unPgFF9', 'spotify:track:4LqQinWUzMl3QmRlO3Wgbh', 'spotify:track:5kDvGOJLmYttWjHMcwxlT5', 'spotify:track:20FZrLl9zSbO9b3DhaqO6M', 'spotify:track:6QNphn62YKaHG1hrnPSoHi', 'spotify:track:0KyAGiNGUytG5JLxJu4F6l', 'spotify:track:2jvuMDqBK04WvCYYz5qjvG', 'spotify:track:5rfT032kGmLvbxZzfHlu5D', 'spotify:track:16x4zrgor3ewwEbPgSrTAB', 'spotify:track:4Uiw0Sl9yskBaC6P4DcdVD', 'spotify:track:4pNiE4LCVV74vfIBaUHm1b', 'spotify:track:4HvjO2BAEeh3hqF6PWcJ4q', 'spotify:track:2LKPTpU8SK8zatMtk3ldXo', 'spotify:track:4V1KCIpU9VUzf9YsVY7G7o', 'spotify:track:30QD4VRP9yEneOh0eGTrtJ', 'spotify:track:74ZovzRxHBvCq5yIwe8boh', 'spotify:track:6H5cDHFGHHo1QBC078OzOH', 'spotify:track:6SE4JAo7T8C7XkFka5bbga', 'spotify:track:5132XbKDftv1P2aPFtYofX', 'spotify:track:5WTxbyWTpoqhdxEN2szOnl', 'spotify:track:745H5CctFr12Mo7cqa1BMH', 'spotify:track:1eLU27PPFxBhbp1CBjPh9J', 'spotify:track:0tkBOcK7oRVXQJY97zzSvr', 'spotify:track:5Jux7nevG4VaJNfI6jKoka', 'spotify:track:6QXtKi4TVe1458QNodE3cs', 'spotify:track:6PLQKVQv6BvZGtHtyJ8CaH', 'spotify:track:5QNeckfTYKateLNPThnx0Z', 'spotify:track:58CgiBSQqcJTkMkd3cbhAu', 'spotify:track:2RXn2FXwRVlHDrs0CZnWEi', 'spotify:track:7zpHInsypgrnY9zTeCXtI4', 'spotify:track:7dXLivL0wsQhxq9D9eIfDr', 'spotify:track:6ey8HhYmR57lhESTf15RcF', 'spotify:track:2EQWbkcNoKPOXQtJM7nqRV', 'spotify:track:0hbSQvosqCvCFaiSRPEUYP', 'spotify:track:0xxZY5C9xxij3D1HkzbnfC', 'spotify:track:21LkHnuxPxVrOZ5gCaG7aM', 'spotify:track:2OEKjBfuCdVPLLUgUf90ZM', 'spotify:track:0XgRWgcs0Pcr9PSIdFWD4N', 'spotify:track:4ufZSKCI84Pd2ZlWTJcu4i', 'spotify:track:0pQskrTITgmCMyr85tb9qq', 'spotify:track:0mYYDj882nEd5qzldZJ39o', 'spotify:track:5QemHQxj7PRkrw8lJl2W7C', 'spotify:track:1jkEorRvoRQNo1WZfD1X5q', 'spotify:track:2NC0JdCc2XgrNa0ipNOfML', 'spotify:track:2bLqfJjuC5syrsgDsZfGmn', 'spotify:track:1Ci4wASMY4xtKVMeHA6Sd5', 'spotify:track:3b3ccJf0VXOR0kCZaLte7g', 'spotify:track:2kMVxFh1y5gow2hBtqGO4m', 'spotify:track:2mqXKSieDASoq4N5739wCz', 'spotify:track:0kEZlJh4mK1QRfb3CT5LPk', 'spotify:track:0w6webWdhjRKdqJ3DeGgM1', 'spotify:track:0mXMr1OVZZKYmOinBaofOp', 'spotify:track:3iDi7HofO9AVKO9lnaPA9q', 'spotify:track:5oO3drDxtziYU2H1X23ZIp', 'spotify:track:1f5cbQtDrykjarZVrShaDI', 'spotify:track:7e3BbVSFHrB6aa96DI51B3', 'spotify:track:51Grh1RyUDcMBbpuyUIUHI', 'spotify:track:7wyz8PA0B7oBWvR2P5qTWt', 'spotify:track:4UOWkmOtb3DgMaSmI8rTaC', 'spotify:track:247cPctDZ6s7hoNT8iKUtN', 'spotify:track:6TLSA1Tmw8RQxvAioq6je6', 'spotify:track:6Pur3hWy6Nzc27ilmsp5HA', 'spotify:track:5IzIgMLJooVrbWpMYZLwbq', 'spotify:track:54ztapVQO9MauwSOWGEvGR', 'spotify:track:0E1GJFHAHBQLNyh7VZqDoZ', 'spotify:track:06p2Ij0lXD45LODQDCov0u', 'spotify:track:0Dl965SLJGi9bB0SrvtPRx', 'spotify:track:5TXDeTFVRVY7Cvt0Dw4vWW', 'spotify:track:6KmeJB34wVVqar5b2uxWrE', 'spotify:track:5kxinzQqkSJhL7QDdvkDFM', 'spotify:track:4oeaIftdpT3JuZLcCkKmVE', 'spotify:track:5FxVTEpoBress37MmlMhbZ', 'spotify:track:3IQSYqnKsCTMLWn2xE3HFT', 'spotify:track:05VHidqx1tV6V7MsCdAIby', 'spotify:track:58yuFWA2sd63pW9i4Jy7fC', 'spotify:track:1jzDzZWeSDBg5fhNc3tczV', 'spotify:track:6RtPijgfPKROxEzTHNRiDp']\n"
     ]
    }
   ],
   "source": [
    "theee_playlist = \"https://open.spotify.com/playlist/78KodfOBZ4qd8qLLiuFjcD?si=8113f0bb8c67496e\"[34:56]\n",
    "initial = 0\n",
    "end = 100\n",
    "the_pl_array = [theee_playlist]\n",
    "#theee_pl_len = client.playlist_items(theee_playlist, as_tracks=False)\n",
    "#print(theee_pl_len)\n",
    "swag1 = {}\n",
    "swag2 = []\n",
    "#swag1, swag2 = get_playlist_info(theee_playlist)\n",
    "\n",
    "for index in the_pl_array:\n",
    "    swag3, swag4= get_playlist_info(index)\n",
    "    swag2.extend(swag4)\n",
    "    swag1 |= swag3\n",
    "print(swag2)"
   ]
  },
  {
   "cell_type": "code",
   "execution_count": 12,
   "id": "2f4fa7d1",
   "metadata": {
    "ExecuteTime": {
     "end_time": "2022-12-23T07:53:06.662604Z",
     "start_time": "2022-12-23T07:52:57.704774Z"
    },
    "code_folding": [
     18
    ],
    "scrolled": false
   },
   "outputs": [
    {
     "name": "stdout",
     "output_type": "stream",
     "text": [
      "(0, 'Gooder den uh mug')\n",
      "(1, 'your life bro')\n",
      "(2, 'Graduation')\n",
      "(3, 'E.A.V')\n",
      "(4, 'Best of Kone')\n",
      "(5, '😏')\n",
      "(6, 'chill bro chill ')\n",
      "(7, 'My ass ')\n",
      "(8, 'Ωur')\n",
      "(9, 'Thee Playlist')\n",
      "(10, 'Oldies')\n",
      "(11, 'zoom')\n",
      "(12, 'Memes ')\n",
      "(13, 'μμ')\n",
      "(14, '/mu/core')\n",
      "(15, 'Your Top Songs 2022')\n",
      "(16, 'Your Top Songs 2021')\n",
      "(17, 'Your Top Songs 2020')\n",
      "(18, 'Your Top Songs 2019')\n",
      "(19, 'Your Top Songs 2018')\n",
      "Enter the associated number to the playlist you want analyzed(seperated by spaces): 0 1 2 3\n",
      "Number of list is:  [0, 1, 2, 3]\n",
      "5TMatpArr9xKImvUHGydS8\n",
      "0AFQ3bdD6zCyXda4FOwp39\n",
      "7jXzoKibDwt7yYaoU3uPdF\n",
      "26ZzwXAOlKTvsVjQcQd4gm\n"
     ]
    }
   ],
   "source": [
    "users_playlist = {}\n",
    "for collections in playlist.items:\n",
    "    users_playlist[collections.name] = collections.id\n",
    "\n",
    "list_of_keys = list(users_playlist.keys())\n",
    "\n",
    "for stuff in enumerate(list_of_keys):\n",
    "    print(stuff)\n",
    "    \n",
    "x = [int(x) for x in input(\"Enter the associated number to the playlist you want analyzed(seperated by spaces): \").split()]\n",
    "print(\"Number of list is: \", x) \n",
    "\n",
    "wanted_playlist = []\n",
    "for playlist_titles in x:\n",
    "    wanted_scan_playlist = users_playlist[list_of_keys[playlist_titles]]\n",
    "    print(wanted_scan_playlist)\n",
    "    wanted_playlist.append(wanted_scan_playlist) \n",
    "    \n",
    "def get_playlist_info(the_playlist):\n",
    "    song_ids = []\n",
    "    play_offset =0\n",
    "    playlist_info = {}   \n",
    "    \n",
    "    playlist_songs = client.playlist_items(the_playlist, as_tracks=False, offset=play_offset)\n",
    "    full_list = playlist_songs.total\n",
    "\n",
    "    while full_list != len(playlist_info):\n",
    "        for songs in playlist_songs.items:\n",
    "            song_name = songs.track.name\n",
    "            song_artist = songs.track.artists[0].name\n",
    "            song_id = songs.track.uri\n",
    "            song_ids.append(song_id)\n",
    "            playlist_info.update({song_name: song_artist})\n",
    "        play_offset+=100\n",
    "        playlist_songs = client.playlist_items(the_playlist, as_tracks=False, offset=play_offset)\n",
    "    return playlist_info, song_ids\n",
    "\n",
    "final_ids = []\n",
    "final_play_dict = {}\n",
    "for i in wanted_playlist:\n",
    "    partial_play_dict, partial_song_id = get_playlist_info(i)\n",
    "    final_ids.extend(partial_song_id)\n",
    "    final_play_dict |= partial_play_dict\n",
    "\n",
    "#print(json.dumps(final_play_dict, indent=2))\n",
    "#print(final_ids)\n",
    "#print(json.dumps(playlist_info, indent=2))\n",
    "\n",
    "#add_to_playlist(final_ids, theee_playlist)\n",
    "#add_to_playlist(final_ids, theee_playlist)\n",
    "\n",
    "#client.playlist_add(theee_playlist, final_ids[initial:end], position=0)\n",
    "\n",
    "\n",
    "    \n",
    "    "
   ]
  },
  {
   "cell_type": "code",
   "execution_count": 13,
   "id": "1cf84359",
   "metadata": {
    "ExecuteTime": {
     "end_time": "2022-12-23T07:53:16.412001Z",
     "start_time": "2022-12-23T07:53:14.438268Z"
    }
   },
   "outputs": [],
   "source": [
    "# add songs to the playlist\n",
    "\n",
    "for i in range(0, len(final_ids), 100):\n",
    "    start = i\n",
    "    fin = 100 + i\n",
    "    client.playlist_add(theee_playlist, final_ids[start:fin], position=0)\n",
    "    #print(final_ids[start:fin])"
   ]
  },
  {
   "cell_type": "code",
   "execution_count": null,
   "id": "76564f39",
   "metadata": {
    "ExecuteTime": {
     "end_time": "2022-12-22T08:17:48.876183Z",
     "start_time": "2022-12-22T08:17:48.865766Z"
    },
    "code_folding": [
     0,
     21,
     37
    ]
   },
   "outputs": [],
   "source": [
    "def get_the_playlists_info_with_song_id(the_playlist):\n",
    "    song_ids = []\n",
    "    play_offset =0\n",
    "    playlist_info = {}   \n",
    "    \n",
    "    playlist_songs = client.playlist_items(the_playlist, as_tracks=False, offset=play_offset)\n",
    "    full_list = playlist_songs.total\n",
    "\n",
    "    while full_list != len(playlist_info):\n",
    "        for songs in playlist_songs.items:\n",
    "            song_name = songs.track.name\n",
    "            song_artist = songs.track.artists[0].name\n",
    "            song_id = songs.track.uri\n",
    "            song_ids.append(song_id)\n",
    "            playlist_info.update({song_name: song_artist})\n",
    "        play_offset+=100\n",
    "        playlist_songs = client.playlist_items(the_playlist, as_tracks=False, offset=play_offset)\n",
    "    return playlist_info, song_ids\n",
    "\n",
    "#gtpiwsi \n",
    "\n",
    "def get_song_id(the_playlist):\n",
    "    song_ids = []\n",
    "    play_offset =0 \n",
    "    \n",
    "    playlist_songs = client.playlist_items(the_playlist, as_tracks=False, offset=play_offset)\n",
    "    full_list = playlist_songs.total\n",
    "\n",
    "    while full_list != len(playlist_info):\n",
    "        for songs in playlist_songs.items:\n",
    "            song_id = songs.track.id\n",
    "            song_ids.append(song_id)\n",
    "            #print(song_id)\n",
    "        play_offset+=100\n",
    "        playlist_songs = client.playlist_items(the_playlist, as_tracks=False, offset=play_offset)\n",
    "    return song_ids\n",
    "\n",
    "def get_the_playlists_info(the_playlist):\n",
    "    play_offset =0\n",
    "    playlist_info = {}   \n",
    "    \n",
    "    playlist_songs = client.playlist_items(the_playlist, as_tracks=False, offset=play_offset)\n",
    "    full_list = playlist_songs.total\n",
    "\n",
    "    while full_list != len(playlist_info):\n",
    "        for songs in playlist_songs.items:\n",
    "            song_name = songs.track.name\n",
    "            song_artist = songs.track.artists[0].name\n",
    "            playlist_info.update({song_name: song_artist})\n",
    "        play_offset+=100\n",
    "        playlist_songs = client.playlist_items(the_playlist, as_tracks=False, offset=play_offset)\n",
    "    return playlist_info"
   ]
  },
  {
   "cell_type": "code",
   "execution_count": null,
   "id": "96835ae5",
   "metadata": {
    "ExecuteTime": {
     "end_time": "2022-12-22T08:27:21.418361Z",
     "start_time": "2022-12-22T08:27:21.415279Z"
    }
   },
   "outputs": [],
   "source": [
    "def add_to_playlist(playlist_ids, thee_pl_id):\n",
    "    #print(playlist_ids)\n",
    "    for track in playlist_ids:\n",
    "        client.playlist_add(thee_pl_id, track, position=0)\n",
    "        #if track != playlist_ids:\n",
    "            #client.playlist_add(thee_pl_id, track, position=0)\n",
    "            #print(track)"
   ]
  },
  {
   "cell_type": "code",
   "execution_count": 7,
   "id": "6e40ded7",
   "metadata": {
    "ExecuteTime": {
     "end_time": "2022-12-23T07:17:01.728121Z",
     "start_time": "2022-12-23T07:17:01.296523Z"
    },
    "code_folding": []
   },
   "outputs": [
    {
     "data": {
      "text/plain": [
       "{'snapshot_id': 'MzUzLDE0ZDQ5YzJjZjYzZWFmY2E1MWE4MzNhY2U0YWYyZGExZjhhYWMzZTM='}"
      ]
     },
     "execution_count": 7,
     "metadata": {},
     "output_type": "execute_result"
    }
   ],
   "source": [
    "# delete the songs on thee playlist\n",
    "client.playlist_clear(theee_playlist)\n"
   ]
  },
  {
   "cell_type": "code",
   "execution_count": null,
   "id": "076ec036",
   "metadata": {
    "ExecuteTime": {
     "end_time": "2022-12-23T01:40:11.408061Z",
     "start_time": "2022-12-23T01:40:11.403115Z"
    },
    "scrolled": true
   },
   "outputs": [],
   "source": [
    "random_numbers = random.sample(range(1000), 501)\n",
    "\n",
    "print(random_numbers)\n",
    "print(len(random_numbers))\n",
    "for i in range(0, len(random_numbers), 100):\n",
    "    start = i\n",
    "    fin = 100 + i\n",
    "    print(random_numbers[start:fin])\n"
   ]
  },
  {
   "cell_type": "code",
   "execution_count": null,
   "id": "48437f32",
   "metadata": {
    "ExecuteTime": {
     "end_time": "2022-12-23T02:00:52.009397Z",
     "start_time": "2022-12-23T02:00:52.004019Z"
    }
   },
   "outputs": [],
   "source": [
    "# Initialize a list with some duplicates\n",
    "my_list = [1, 2, 3, 4, 5, 5, 6, 7, 8, 8, 9, 9]\n",
    "\n",
    "# Convert the list to a set and back to a list\n",
    "no_duplicates = list(set(my_list))\n",
    "\n",
    "print(no_duplicates)  # Output: [1, 2, 3, 4, 5, 6, 7, 8, 9]\n",
    "\n",
    "# this is how you get rid of duplicates in a list"
   ]
  },
  {
   "cell_type": "code",
   "execution_count": null,
   "id": "c6750729",
   "metadata": {},
   "outputs": [],
   "source": []
  },
  {
   "cell_type": "code",
   "execution_count": null,
   "id": "85c15dd7",
   "metadata": {},
   "outputs": [],
   "source": []
  }
 ],
 "metadata": {
  "kernelspec": {
   "display_name": "Python 3 (ipykernel)",
   "language": "python",
   "name": "python3"
  },
  "language_info": {
   "codemirror_mode": {
    "name": "ipython",
    "version": 3
   },
   "file_extension": ".py",
   "mimetype": "text/x-python",
   "name": "python",
   "nbconvert_exporter": "python",
   "pygments_lexer": "ipython3",
   "version": "3.10.8"
  }
 },
 "nbformat": 4,
 "nbformat_minor": 5
}
