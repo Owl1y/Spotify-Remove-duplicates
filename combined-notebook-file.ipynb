{
 "cells": [
  {
   "cell_type": "code",
   "execution_count": null,
   "id": "2c2f6af2",
   "metadata": {
    "ExecuteTime": {
     "end_time": "2022-12-24T23:18:03.713995Z",
     "start_time": "2022-12-24T23:18:03.481439Z"
    }
   },
   "outputs": [],
   "source": [
    "import tekore as tk\n",
    "import json\n",
    "import random"
   ]
  },
  {
   "cell_type": "code",
   "execution_count": null,
   "id": "3f8f4e82",
   "metadata": {
    "ExecuteTime": {
     "end_time": "2022-12-24T23:18:12.478068Z",
     "start_time": "2022-12-24T23:18:04.576969Z"
    },
    "code_folding": []
   },
   "outputs": [],
   "source": [
    "with open(\"client_nums.txt\", \"r\") as client_nums:\n",
    "    lines = client_nums.readlines()\n",
    "    lines = [line.rstrip() for line in lines]\n",
    "\n",
    "user_id = \"https://open.spotify.com/user/2153lsupa5hschcs774poensq?si=765b0985ebdc45c1\"\n",
    "user_id_cut = user_id[30:55]\n",
    "\n",
    "client_id = lines[0]\n",
    "client_secret = lines[1]\n",
    "redirect_uri = \"https://github.com/Owl1y/Spotify-Plalylist-Search\"\n",
    "conf = (client_id, client_secret, redirect_uri)\n",
    "\n",
    "scoped = tk.scope.playlist_read_collaborative + tk.scope.playlist_read_private + tk.scope.playlist_modify_public\n",
    "token = tk.prompt_for_user_token(*conf, scope=scoped)\n",
    "\n",
    "spotify = tk.Spotify(token)\n",
    "playlist = spotify.playlists(user_id_cut)\n",
    "client = tk.Spotify(token)\n"
   ]
  },
  {
   "cell_type": "code",
   "execution_count": null,
   "id": "2282c360",
   "metadata": {
    "ExecuteTime": {
     "end_time": "2022-12-24T23:31:42.859174Z",
     "start_time": "2022-12-24T23:31:42.851826Z"
    },
    "code_folding": [
     1,
     20
    ]
   },
   "outputs": [],
   "source": [
    "# function cells\n",
    "def get_playlist_info(the_playlist):\n",
    "    song_ids = []\n",
    "    play_offset =0\n",
    "    playlist_info = {}   \n",
    "    \n",
    "    playlist_songs = client.playlist_items(the_playlist, as_tracks=False, offset=play_offset)\n",
    "    full_list = playlist_songs.total\n",
    "\n",
    "    while full_list != len(playlist_info):\n",
    "        for songs in playlist_songs.items:\n",
    "            song_name = songs.track.name\n",
    "            song_artist = songs.track.artists[0].name\n",
    "            song_id = songs.track.uri\n",
    "            song_ids.append(song_id)\n",
    "            playlist_info.update({song_name: song_artist})\n",
    "        play_offset+=100\n",
    "        playlist_songs = client.playlist_items(the_playlist, as_tracks=False, offset=play_offset)\n",
    "    return playlist_info, song_ids\n",
    "\n",
    "def get_song_ids(the_playlist):\n",
    "    song_ids = []\n",
    "    play_offset =0 \n",
    "    \n",
    "    playlist_songs = client.playlist_items(the_playlist, as_tracks=False, offset=play_offset)\n",
    "    full_list = playlist_songs.total\n",
    "\n",
    "    while full_list != len(song_ids):\n",
    "        for songs in playlist_songs.items:\n",
    "            song_id = songs.track.uri\n",
    "            song_ids.append(song_id)\n",
    "            #print(song_id)\n",
    "        play_offset+=100\n",
    "        playlist_songs = client.playlist_items(the_playlist, as_tracks=False, offset=play_offset)\n",
    "    return song_ids\n"
   ]
  },
  {
   "cell_type": "code",
   "execution_count": null,
   "id": "6cb8487a",
   "metadata": {
    "ExecuteTime": {
     "end_time": "2022-12-25T00:09:54.486617Z",
     "start_time": "2022-12-25T00:09:52.802849Z"
    }
   },
   "outputs": [],
   "source": [
    "theee_playlist = \"https://open.spotify.com/playlist/78KodfOBZ4qd8qLLiuFjcD?si=8113f0bb8c67496e\"[34:56]\n",
    "initial = 0\n",
    "end = 100\n",
    "the_pl_array = [theee_playlist]\n",
    "swag2 = []\n",
    "\n",
    "for index in the_pl_array:\n",
    "    swag4 = get_song_ids(index)\n",
    "    swag2.extend(swag4)\n",
    "\n",
    "#print(swag2)\n",
    "#print(len(swag2))"
   ]
  },
  {
   "cell_type": "code",
   "execution_count": null,
   "id": "2f4fa7d1",
   "metadata": {
    "ExecuteTime": {
     "end_time": "2022-12-25T00:15:33.497753Z",
     "start_time": "2022-12-25T00:15:29.763854Z"
    },
    "code_folding": []
   },
   "outputs": [],
   "source": [
    "users_playlist = {}\n",
    "for collections in playlist.items:\n",
    "    users_playlist[collections.name] = collections.id\n",
    "\n",
    "list_of_keys = list(users_playlist.keys())\n",
    "\n",
    "for stuff in enumerate(list_of_keys):\n",
    "    print(stuff)\n",
    "    \n",
    "x = [int(x) for x in input(\"Enter the associated number to the playlist you want analyzed(seperated by spaces): \").split()]\n",
    "print(\"Number of list is: \", x) \n",
    "\n",
    "wanted_playlist = []\n",
    "for playlist_titles in x:\n",
    "    wanted_scan_playlist = users_playlist[list_of_keys[playlist_titles]]\n",
    "    #print(wanted_scan_playlist)\n",
    "    wanted_playlist.append(wanted_scan_playlist) \n",
    "    \n",
    "\n",
    "final_ids = []\n",
    "final_play_dict = {}\n",
    "for i in wanted_playlist:\n",
    "    partial_play_dict, partial_song_id = get_playlist_info(i)\n",
    "    final_ids.extend(partial_song_id)\n",
    "    final_play_dict |= partial_play_dict\n",
    "\n",
    "list_to_cut = final_ids + swag2\n",
    "#print(list_to_cut)\n",
    "\n",
    "no_dups = set(list_to_cut)\n",
    "no_id_dup = list(no_dups)\n",
    "\n",
    "#print(len(list_to_cut))\n",
    "#print(len(no_id_dup))\n",
    "\n",
    "\n",
    "#print(json.dumps(final_play_dict, indent=2))\n",
    "#print(final_ids)\n",
    "#print(json.dumps(playlist_info, indent=2))\n",
    "\n",
    "#add_to_playlist(final_ids, theee_playlist)\n",
    "#add_to_playlist(final_ids, theee_playlist)\n",
    "\n",
    "#client.playlist_add(theee_playlist, final_ids[initial:end], position=0)\n",
    "\n",
    "    \n",
    "    "
   ]
  },
  {
   "cell_type": "code",
   "execution_count": null,
   "id": "1cf84359",
   "metadata": {
    "ExecuteTime": {
     "end_time": "2022-12-25T00:10:08.182330Z",
     "start_time": "2022-12-25T00:10:07.215186Z"
    }
   },
   "outputs": [],
   "source": [
    "# add songs to the playlist\n",
    "\n",
    "for i in range(0, len(no_id_dup), 100):\n",
    "    start = i\n",
    "    fin = 100 + i\n",
    "    client.playlist_add(theee_playlist, final_ids[start:fin], position=0)\n",
    "    #print(final_ids[start:fin])"
   ]
  },
  {
   "cell_type": "code",
   "execution_count": null,
   "id": "76564f39",
   "metadata": {
    "ExecuteTime": {
     "end_time": "2022-12-24T23:23:43.004405Z",
     "start_time": "2022-12-24T23:23:42.995462Z"
    },
    "code_folding": [
     0,
     21,
     37
    ]
   },
   "outputs": [],
   "source": [
    "def get_the_playlists_info_with_song_id(the_playlist):\n",
    "    song_ids = []\n",
    "    play_offset =0\n",
    "    playlist_info = {}   \n",
    "    \n",
    "    playlist_songs = client.playlist_items(the_playlist, as_tracks=False, offset=play_offset)\n",
    "    full_list = playlist_songs.total\n",
    "\n",
    "    while full_list != len(playlist_info):\n",
    "        for songs in playlist_songs.items:\n",
    "            song_name = songs.track.name\n",
    "            song_artist = songs.track.artists[0].name\n",
    "            song_id = songs.track.uri\n",
    "            song_ids.append(song_id)\n",
    "            playlist_info.update({song_name: song_artist})\n",
    "        play_offset+=100\n",
    "        playlist_songs = client.playlist_items(the_playlist, as_tracks=False, offset=play_offset)\n",
    "    return playlist_info, song_ids\n",
    "\n",
    "#gtpiwsi \n",
    "\n",
    "def get_song_ids(the_playlist):\n",
    "    song_ids = []\n",
    "    play_offset =0 \n",
    "    \n",
    "    playlist_songs = client.playlist_items(the_playlist, as_tracks=False, offset=play_offset)\n",
    "    full_list = playlist_songs.total\n",
    "\n",
    "    while full_list != len(song_ids):\n",
    "        for songs in playlist_songs.items:\n",
    "            song_id = songs.track.uri\n",
    "            song_ids.append(song_id)\n",
    "            #print(song_id)\n",
    "        play_offset+=100\n",
    "        playlist_songs = client.playlist_items(the_playlist, as_tracks=False, offset=play_offset)\n",
    "    return song_ids\n",
    "\n",
    "def get_the_playlists_info(the_playlist):\n",
    "    play_offset =0\n",
    "    playlist_info = {}   \n",
    "    \n",
    "    playlist_songs = client.playlist_items(the_playlist, as_tracks=False, offset=play_offset)\n",
    "    full_list = playlist_songs.total\n",
    "\n",
    "    while full_list != len(playlist_info):\n",
    "        for songs in playlist_songs.items:\n",
    "            song_name = songs.track.name\n",
    "            song_artist = songs.track.artists[0].name\n",
    "            playlist_info.update({song_name: song_artist})\n",
    "        play_offset+=100\n",
    "        playlist_songs = client.playlist_items(the_playlist, as_tracks=False, offset=play_offset)\n",
    "    return playlist_info"
   ]
  },
  {
   "cell_type": "code",
   "execution_count": null,
   "id": "7f4c3237",
   "metadata": {
    "ExecuteTime": {
     "end_time": "2022-12-24T23:24:10.103477Z",
     "start_time": "2022-12-24T23:24:06.516289Z"
    }
   },
   "outputs": [],
   "source": [
    "theee_playlist = \"https://open.spotify.com/playlist/78KodfOBZ4qd8qLLiuFjcD?si=8113f0bb8c67496e\"[34:56]\n",
    "initial = 0\n",
    "end = 100\n",
    "the_pl_array = [theee_playlist]\n",
    "swag2 = []\n",
    "\n",
    "for index in the_pl_array:\n",
    "    swag4 = get_song_ids(index)\n",
    "    swag2.extend(swag4)\n",
    "\n",
    "#print(swag2)\n",
    "#print(len(swag2))"
   ]
  },
  {
   "cell_type": "code",
   "execution_count": null,
   "id": "96835ae5",
   "metadata": {
    "ExecuteTime": {
     "end_time": "2022-12-22T08:27:21.418361Z",
     "start_time": "2022-12-22T08:27:21.415279Z"
    }
   },
   "outputs": [],
   "source": [
    "def add_to_playlist(playlist_ids, thee_pl_id):\n",
    "    #print(playlist_ids)\n",
    "    for track in playlist_ids:\n",
    "        client.playlist_add(thee_pl_id, track, position=0)\n",
    "        #if track != playlist_ids:\n",
    "            #client.playlist_add(thee_pl_id, track, position=0)\n",
    "            #print(track)"
   ]
  },
  {
   "cell_type": "code",
   "execution_count": null,
   "id": "6e40ded7",
   "metadata": {
    "ExecuteTime": {
     "end_time": "2022-12-25T00:09:17.387841Z",
     "start_time": "2022-12-25T00:09:17.130557Z"
    },
    "code_folding": []
   },
   "outputs": [],
   "source": [
    "# delete the songs on thee playlist\n",
    "client.playlist_clear(theee_playlist)\n"
   ]
  },
  {
   "cell_type": "code",
   "execution_count": null,
   "id": "076ec036",
   "metadata": {
    "ExecuteTime": {
     "end_time": "2022-12-23T01:40:11.408061Z",
     "start_time": "2022-12-23T01:40:11.403115Z"
    }
   },
   "outputs": [],
   "source": [
    "random_numbers = random.sample(range(1000), 501)\n",
    "\n",
    "print(random_numbers)\n",
    "print(len(random_numbers))\n",
    "for i in range(0, len(random_numbers), 100):\n",
    "    start = i\n",
    "    fin = 100 + i\n",
    "    print(random_numbers[start:fin])\n"
   ]
  },
  {
   "cell_type": "code",
   "execution_count": null,
   "id": "48437f32",
   "metadata": {
    "ExecuteTime": {
     "end_time": "2022-12-23T02:00:52.009397Z",
     "start_time": "2022-12-23T02:00:52.004019Z"
    }
   },
   "outputs": [],
   "source": [
    "# Initialize a list with some duplicates\n",
    "my_list = [1, 2, 3, 4, 5, 5, 6, 7, 8, 8, 9, 9]\n",
    "\n",
    "# Convert the list to a set and back to a list\n",
    "no_duplicates = list(set(my_list))\n",
    "\n",
    "print(no_duplicates)  # Output: [1, 2, 3, 4, 5, 6, 7, 8, 9]\n",
    "\n",
    "# this is how you get rid of duplicates in a list"
   ]
  },
  {
   "cell_type": "code",
   "execution_count": null,
   "id": "c6750729",
   "metadata": {},
   "outputs": [],
   "source": []
  },
  {
   "cell_type": "code",
   "execution_count": null,
   "id": "85c15dd7",
   "metadata": {},
   "outputs": [],
   "source": []
  }
 ],
 "metadata": {
  "kernelspec": {
   "display_name": "Python 3 (ipykernel)",
   "language": "python",
   "name": "python3"
  },
  "language_info": {
   "codemirror_mode": {
    "name": "ipython",
    "version": 3
   },
   "file_extension": ".py",
   "mimetype": "text/x-python",
   "name": "python",
   "nbconvert_exporter": "python",
   "pygments_lexer": "ipython3",
   "version": "3.10.9"
  },
  "varInspector": {
   "cols": {
    "lenName": 16,
    "lenType": 16,
    "lenVar": 40
   },
   "kernels_config": {
    "python": {
     "delete_cmd_postfix": "",
     "delete_cmd_prefix": "del ",
     "library": "var_list.py",
     "varRefreshCmd": "print(var_dic_list())"
    },
    "r": {
     "delete_cmd_postfix": ") ",
     "delete_cmd_prefix": "rm(",
     "library": "var_list.r",
     "varRefreshCmd": "cat(var_dic_list()) "
    }
   },
   "types_to_exclude": [
    "module",
    "function",
    "builtin_function_or_method",
    "instance",
    "_Feature"
   ],
   "window_display": false
  }
 },
 "nbformat": 4,
 "nbformat_minor": 5
}
