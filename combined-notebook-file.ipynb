{
 "cells": [
  {
   "cell_type": "code",
   "execution_count": 1,
   "id": "2c2f6af2",
   "metadata": {
    "ExecuteTime": {
     "end_time": "2022-12-22T01:52:33.612426Z",
     "start_time": "2022-12-22T01:52:33.376917Z"
    },
    "scrolled": true
   },
   "outputs": [],
   "source": [
    "import tekore as tk\n",
    "import json\n",
    "import toolz"
   ]
  },
  {
   "cell_type": "code",
   "execution_count": 2,
   "id": "3f8f4e82",
   "metadata": {
    "ExecuteTime": {
     "end_time": "2022-12-22T01:52:44.143203Z",
     "start_time": "2022-12-22T01:52:34.486665Z"
    }
   },
   "outputs": [
    {
     "name": "stdout",
     "output_type": "stream",
     "text": [
      "Opening browser for Spotify login...\n",
      "Please paste redirect URL: https://github.com/Owl1y/Spotify-Plalylist-Search?code=AQBpb2-Vk5uzmN9MU_e4Czt0kj0OhAh15MR995pTrf2YNArnmRMPcFSe3A1ZZPJb99Mg7-zi_oj4Hu_-P0rUjLrbV3bRt-upifl48wCOmZf2gmo66Ke6aYDyTu7oHqCHeXAGZ2Q02rnSS4GJ31WSovbTFLP-L_dGgfX_ErSHIMlXZVda9JP9hOubaIInm1QzA9KhLevBMpr-RVZG4ytA7439OMWxohpY3tC4cNPDFrjLkk5vgzMN9RwanH2d2mF-bqcp1kKEfzzF&state=m22XHUuADW8Qe1PW6R1sV1AxBBQFhqyzFJpU2zfTeqc\n"
     ]
    }
   ],
   "source": [
    "with open(\"../client_nums.txt\", \"r\") as client_nums:\n",
    "    lines = client_nums.readlines()\n",
    "    lines = [line.rstrip() for line in lines]\n",
    "\n",
    "user_id = \"https://open.spotify.com/user/2153lsupa5hschcs774poensq?si=765b0985ebdc45c1\"\n",
    "user_id_cut = user_id[30:55]\n",
    "\n",
    "client_id = lines[0]\n",
    "client_secret = lines[1]\n",
    "redirect_uri = \"https://github.com/Owl1y/Spotify-Plalylist-Search\"\n",
    "conf = (client_id, client_secret, redirect_uri)\n",
    "\n",
    "scoped = tk.scope.playlist_read_collaborative + tk.scope.playlist_read_private\n",
    "token = tk.prompt_for_user_token(*conf, scope=scoped)\n",
    "\n",
    "spotify = tk.Spotify(token)\n",
    "playlist = spotify.playlists(user_id_cut)\n",
    "client = tk.Spotify(token)\n"
   ]
  },
  {
   "cell_type": "code",
   "execution_count": 32,
   "id": "2f4fa7d1",
   "metadata": {
    "ExecuteTime": {
     "end_time": "2022-12-22T03:23:24.925275Z",
     "start_time": "2022-12-22T03:23:21.546279Z"
    },
    "code_folding": [],
    "scrolled": true
   },
   "outputs": [
    {
     "name": "stdout",
     "output_type": "stream",
     "text": [
      "(0, 'Gooder den uh mug')\n",
      "(1, 'your life bro')\n",
      "(2, 'Graduation')\n",
      "(3, 'E.A.V')\n",
      "(4, 'Best of Kone')\n",
      "(5, '😏')\n",
      "(6, 'chill bro chill ')\n",
      "(7, 'My ass ')\n",
      "(8, 'Ωur')\n",
      "(9, 'Theee Playlist')\n",
      "(10, 'Oldies')\n",
      "(11, 'zoom')\n",
      "(12, 'Memes ')\n",
      "(13, 'μμ')\n",
      "(14, '/mu/core')\n",
      "(15, 'Your Top Songs 2022')\n",
      "(16, 'Your Top Songs 2021')\n",
      "(17, 'Your Top Songs 2020')\n",
      "(18, 'Your Top Songs 2019')\n",
      "(19, 'Your Top Songs 2018')\n",
      "Enter the associated number to the playlist you want analyzed(seperated by spaces): 1\n",
      "Number of list is:  [1]\n",
      "{\n",
      "  \"The Return of Chip Douglas - Demo\": \"Kid Cudi\",\n",
      "  \"Momsong\": \"Old Spice\",\n",
      "  \"Call It Fate, Call It Karma\": \"The Strokes\",\n",
      "  \"D\\u00edmelo\": \"Enrique Iglesias\",\n",
      "  \"Daddy Wasn't There (feat. Austin Powers) - From The Motion Picture: Austin Powers In Goldmember\": \"Ming Tea\",\n",
      "  \"Just A Stranger (feat. Steve Lacy)\": \"Kali Uchis\",\n",
      "  \"Raydar\": \"JID\",\n",
      "  \"American Psycho II\": \"D12\",\n",
      "  \"Silver Soul\": \"Beach House\",\n",
      "  \"Headlines\": \"Drake\",\n",
      "  \"Dead To Me\": \"Kali Uchis\",\n",
      "  \"Man It Feels Like Space Again\": \"Pond\",\n",
      "  \"Esta luz nunca se apagar\\u00e1 - There Is a Light That Never Goes Out\": \"Mikel Erentxun\",\n",
      "  \"23\": \"Mike WiLL Made-It\",\n",
      "  \"A Gangster's Wife\": \"Ms Krazie\",\n",
      "  \"Pretty Girl\": \"Clairo\",\n",
      "  \"Dogs\": \"Pink Floyd\",\n",
      "  \"In the Aeroplane Over the Sea\": \"Neutral Milk Hotel\",\n",
      "  \"Creep\": \"Stone Temple Pilots\",\n",
      "  \"Be Quiet and Drive (Far Away)\": \"Deftones\",\n",
      "  \"Sir Duke\": \"Stevie Wonder\",\n",
      "  \"Billy y las Botas\": \"Se\\u00f1or Wooly\",\n",
      "  \"Girl Next Door\": \"Copperpot\",\n",
      "  \"Bendita Tu Luz\": \"Man\\u00e1\",\n",
      "  \"Solitude\": \"Billie Holiday\",\n",
      "  \"OKRA\": \"Tyler, The Creator\",\n",
      "  \"My Cloud\": \"Joe Bataan\",\n",
      "  \"Someone To Spend Time With\": \"Los Retros\",\n",
      "  \"Dreamin' of Your Love 2012\": \"The WRLDFMS Tony Williams\",\n",
      "  \"Everybody (Backstreet's Back) - Extended Version\": \"Backstreet Boys\",\n",
      "  \"My Girl\": \"The Temptations\",\n",
      "  \"1Train (feat. Kendrick Lamar, Joey Bada$$, Yelawolf, Danny Brown, Action Bronson & Big K.R.I.T.)\": \"A$AP Rocky\",\n",
      "  \"Telescope\": \"Cage The Elephant\",\n",
      "  \"Matador\": \"The Buttertones\",\n",
      "  \"Poncho & Lefty\": \"Townes Van Zandt\",\n",
      "  \"Hope\": \"Jack Johnson\",\n",
      "  \"Milli\": \"DaBaby\",\n",
      "  \"Que Sea Mi Condena\": \"Juan Gabriel\",\n",
      "  \"Money\": \"JID\",\n",
      "  \"ALieNNatioN\": \"The Voidz\",\n",
      "  \"IDC\": \"Jordan Ward\",\n",
      "  \"Dream\": \"Al Green\",\n",
      "  \"My Song\": \"Labi Siffre\",\n",
      "  \"Girls, Girls, Girls\": \"JAY-Z\",\n",
      "  \"Monster Mash\": \"Bobby \\\"Boris\\\" Pickett\",\n",
      "  \"Birds Dont Sing\": \"TV Girl\",\n",
      "  \"THE SUN (Prod. Gesaffelstein)\": \"KayCyy\",\n",
      "  \"Clay Pigeons\": \"Michael Cera\",\n",
      "  \"Slump\": \"Outkast\",\n",
      "  \"Starman - 2012 Remaster\": \"David Bowie\",\n",
      "  \"Because Of You - Remix\": \"Ne-Yo\",\n",
      "  \"Scott Mescudi Vs. The World\": \"Kid Cudi\",\n",
      "  \"Hey Julie! (feat. Lil Yachty)\": \"KYLE\",\n",
      "  \"Puffer\": \"Cautious Clay\",\n",
      "  \"The Way I Are\": \"Timbaland\",\n",
      "  \"through the late night\": \"Travis Scott\",\n",
      "  \"Land of Tha Heartless\": \"Bone Thugs-N-Harmony\",\n",
      "  \"Te Para 3 - MTV Unplugged\": \"Soda Stereo\",\n",
      "  \"Donchano\": \"Steve Lacy\",\n",
      "  \"Kill Yourself (Part III)\": \"$uicideboy$\",\n",
      "  \"STATS\": \"Baby Keem\",\n",
      "  \"Slob On My Nob (feat. Project Pat)\": \"Tear Da Club Up Thugs\",\n",
      "  \"Star Catcher\": \"Vansire\",\n",
      "  \"Love On The Brain\": \"Rihanna\",\n",
      "  \"Drowning (feat. Kodak Black)\": \"A Boogie Wit da Hoodie\",\n",
      "  \"\\u61a7\\u308c\\u306e\\u30bb\\u30fc\\u30b7\\u30a7\\u30eb\\u8af8\\u5cf6\": \"Masayoshi Takanaka\",\n",
      "  \"rises the moon\": \"Liana Flores\",\n",
      "  \"naked freestyle\": \"Baby Keem\",\n",
      "  \"More Today Than Yesterday\": \"The Spiral Starecase\",\n",
      "  \"Epitaph - Including \\\"March for No Reason\\\" and \\\"Tomorrow and Tomorrow\\\"\": \"King Crimson\",\n",
      "  \"Birds & The Beez\": \"ScHoolboy Q\",\n",
      "  \"Lamento Boliviano\": \"Los Enanitos Verdes\",\n",
      "  \"Nothing Between Us - Live\": \"Sweet Cambodia\",\n",
      "  \"Consequential Apathy\": \"Rx Bandits\",\n",
      "  \"Louphoria (with Cruza)\": \"Smino\",\n",
      "  \"Rosas\": \"La Oreja de Van Gogh\",\n",
      "  \"girlfriend\": \"hemlocke springs\",\n",
      "  \"Revenge\": \"XXXTENTACION\",\n",
      "  \"Yo Soy Cubano\": \"The Chakachas\",\n",
      "  \"Meet the Frownies\": \"Mr Twin Sister\",\n",
      "  \"False Alarm\": \"The Weeknd\",\n",
      "  \"By Design\": \"Kid Cudi\",\n",
      "  \"I'm On A Boat\": \"The Lonely Island\",\n",
      "  \"Lucifer\": \"JAY-Z\",\n",
      "  \"Who's Theme\": \"MINMI\",\n",
      "  \"Paranoid\": \"Black Sabbath\",\n",
      "  \"Rude\": \"MAGIC!\",\n",
      "  \"Dumb\": \"Nirvana\",\n",
      "  \"Emergency Contact\": \"Pierce The Veil\",\n",
      "  \"Sweet Yamz\": \"Fetty Wap\",\n",
      "  \"Much Better Off - Album Version / Stereo\": \"Smokey Robinson & The Miracles\",\n",
      "  \"Wish You Were Here\": \"Pink Floyd\",\n",
      "  \"X-Wing\": \"Denzel Curry\",\n",
      "  \"Can\\u2019t Punk Me (feat. EARTHGANG)\": \"JID\",\n",
      "  \"Red Red Wine\": \"UB40\",\n",
      "  \"Frat Rules (feat. A$AP Rocky, Playboi Carti & Big Sean)\": \"A$AP Mob\",\n",
      "  \"Feel The Fiyaaaah (with A$AP Rocky & feat. Takeoff)\": \"Metro Boomin\",\n",
      "  \"Team\": \"Lorde\",\n",
      "  \"Kill Bill\": \"SZA\",\n",
      "  \"King For A Day\": \"Pierce The Veil\"\n",
      "}\n",
      "['5qYGNYP5N1KjRBbcKTIgvk', '2NkcDXp7gXjCCCjG6P1i48', '3Y4rUyw7XBCK6hGHCOt6rp', '2z0z5ddJS3K7qvhp4PH0Aa', '7bW8p9CUiHRn6x8OQorazE', '1HA2V2EfAgJUBVOju4YfiB', '3Fi4yOHkFTfVzOE7Ac3AgN', '0Qr9Dl5b43RAZuXTSqzBzu', '2LZ2CNbcbJrwh53pitRgom', '6LxSe8YmdPxy095Ux6znaQ', '6LOZws7T3jqZz78unPgFF9', '4LqQinWUzMl3QmRlO3Wgbh', '5kDvGOJLmYttWjHMcwxlT5', '20FZrLl9zSbO9b3DhaqO6M', '6QNphn62YKaHG1hrnPSoHi', '0KyAGiNGUytG5JLxJu4F6l', '2jvuMDqBK04WvCYYz5qjvG', '5rfT032kGmLvbxZzfHlu5D', '16x4zrgor3ewwEbPgSrTAB', '4Uiw0Sl9yskBaC6P4DcdVD', '4pNiE4LCVV74vfIBaUHm1b', '4HvjO2BAEeh3hqF6PWcJ4q', '2LKPTpU8SK8zatMtk3ldXo', '4V1KCIpU9VUzf9YsVY7G7o', '30QD4VRP9yEneOh0eGTrtJ', '74ZovzRxHBvCq5yIwe8boh', '6H5cDHFGHHo1QBC078OzOH', '6SE4JAo7T8C7XkFka5bbga', '5132XbKDftv1P2aPFtYofX', '5WTxbyWTpoqhdxEN2szOnl', '745H5CctFr12Mo7cqa1BMH', '1eLU27PPFxBhbp1CBjPh9J', '0tkBOcK7oRVXQJY97zzSvr', '5Jux7nevG4VaJNfI6jKoka', '6QXtKi4TVe1458QNodE3cs', '6PLQKVQv6BvZGtHtyJ8CaH', '5QNeckfTYKateLNPThnx0Z', '58CgiBSQqcJTkMkd3cbhAu', '2RXn2FXwRVlHDrs0CZnWEi', '7zpHInsypgrnY9zTeCXtI4', '7dXLivL0wsQhxq9D9eIfDr', '6ey8HhYmR57lhESTf15RcF', '2EQWbkcNoKPOXQtJM7nqRV', '0hbSQvosqCvCFaiSRPEUYP', '0xxZY5C9xxij3D1HkzbnfC', '21LkHnuxPxVrOZ5gCaG7aM', '2OEKjBfuCdVPLLUgUf90ZM', '0XgRWgcs0Pcr9PSIdFWD4N', '4ufZSKCI84Pd2ZlWTJcu4i', '0pQskrTITgmCMyr85tb9qq', '0mYYDj882nEd5qzldZJ39o', '5QemHQxj7PRkrw8lJl2W7C', '1jkEorRvoRQNo1WZfD1X5q', '2NC0JdCc2XgrNa0ipNOfML', '2bLqfJjuC5syrsgDsZfGmn', '1Ci4wASMY4xtKVMeHA6Sd5', '3b3ccJf0VXOR0kCZaLte7g', '2kMVxFh1y5gow2hBtqGO4m', '2mqXKSieDASoq4N5739wCz', '0kEZlJh4mK1QRfb3CT5LPk', '0w6webWdhjRKdqJ3DeGgM1', '0mXMr1OVZZKYmOinBaofOp', '3iDi7HofO9AVKO9lnaPA9q', '5oO3drDxtziYU2H1X23ZIp', '1f5cbQtDrykjarZVrShaDI', '7e3BbVSFHrB6aa96DI51B3', '51Grh1RyUDcMBbpuyUIUHI', '7wyz8PA0B7oBWvR2P5qTWt', '4UOWkmOtb3DgMaSmI8rTaC', '247cPctDZ6s7hoNT8iKUtN', '6TLSA1Tmw8RQxvAioq6je6', '6Pur3hWy6Nzc27ilmsp5HA', '5IzIgMLJooVrbWpMYZLwbq', '54ztapVQO9MauwSOWGEvGR', '0E1GJFHAHBQLNyh7VZqDoZ', '06p2Ij0lXD45LODQDCov0u', '0Dl965SLJGi9bB0SrvtPRx', '5TXDeTFVRVY7Cvt0Dw4vWW', '6KmeJB34wVVqar5b2uxWrE', '5kxinzQqkSJhL7QDdvkDFM', '4oeaIftdpT3JuZLcCkKmVE', '5FxVTEpoBress37MmlMhbZ', '3IQSYqnKsCTMLWn2xE3HFT', '05VHidqx1tV6V7MsCdAIby', '58yuFWA2sd63pW9i4Jy7fC', '1jzDzZWeSDBg5fhNc3tczV', '6RtPijgfPKROxEzTHNRiDp', '2JLMHADAyossZlBcpc8TDs', '5xJlzQiPLYkvlqkRPKzBwD', '62oqxoJQYPCyjZ2ChH7foI', '42V7F468ieBbxKwaxBlpls', '6mFkJmJqdDVQ1REhVfGgd1', '41X9qar6SruZOPLIV7sgUw', '6b1uvC2GnPm4wNsHaOlZM7', '4uOKFydzAejjSFqYbv1XPt', '0RyA3o15NOLJYtm9NlDu5c', '27RDADqLHPALTugdGEyGtG', '3G6hD9B2ZHOsgf4WfNu7X1', '1Qrg8KqiBpW07V7PNxwwwL', '1IT0WQk5J8NsaeII8ktdlZ']\n"
     ]
    }
   ],
   "source": [
    "users_playlist = {}\n",
    "for collections in playlist.items:\n",
    "    users_playlist[collections.name] = collections.id\n",
    "\n",
    "list_of_keys = list(users_playlist.keys())\n",
    "\n",
    "for stuff in enumerate(list_of_keys):\n",
    "    print(stuff)\n",
    "    \n",
    "x = [int(x) for x in input(\"Enter the associated number to the playlist you want analyzed(seperated by spaces): \").split()]\n",
    "print(\"Number of list is: \", x) \n",
    "\n",
    "wanted_playlist = []\n",
    "for playlist_titles in x:\n",
    "    wanted_scan_playlist = users_playlist[list_of_keys[playlist_titles]]\n",
    "    #print(users_playlist[list_of_keys[playlist_titles]])\n",
    "    wanted_playlist.append(wanted_scan_playlist)\n",
    "    \n",
    "def get_the_playlists_info(the_playlist):\n",
    "    play_offset =0\n",
    "    playlist_info = {}   \n",
    "    \n",
    "    playlist_songs = client.playlist_items(the_playlist, as_tracks=False, offset=play_offset)\n",
    "    full_list = playlist_songs.total\n",
    "\n",
    "    while full_list != len(playlist_info):\n",
    "        for songs in playlist_songs.items:\n",
    "            song_name = songs.track.name\n",
    "            song_artist = songs.track.artists[0].name\n",
    "            playlist_info.update({song_name: song_artist})\n",
    "        play_offset+=100\n",
    "        playlist_songs = client.playlist_items(the_playlist, as_tracks=False, offset=play_offset)\n",
    "    return playlist_info\n",
    "\n",
    "final_ids = []\n",
    "final_play_dict = {}\n",
    "for i in wanted_playlist:\n",
    "    partial_play_dict, partial_song_id = get_the_playlists_info_with_song_id(i)\n",
    "    final_ids.extend(partial_song_id)\n",
    "    final_play_dict |= partial_play_dict\n",
    "\n",
    "print(json.dumps(final_play_dict, indent=2))\n",
    "print(final_ids)\n",
    "#print(json.dumps(playlist_info, indent=2))\n",
    "\n",
    "\n",
    "\n"
   ]
  },
  {
   "cell_type": "code",
   "execution_count": 12,
   "id": "e3d4d54e",
   "metadata": {
    "ExecuteTime": {
     "end_time": "2022-12-22T03:03:10.806046Z",
     "start_time": "2022-12-22T03:03:10.802088Z"
    }
   },
   "outputs": [
    {
     "name": "stdout",
     "output_type": "stream",
     "text": [
      "['1X2V76tfpwpu9IccDFE3um']\n"
     ]
    }
   ],
   "source": [
    "# this is the playlist to add all of the songs to \n",
    "# https://open.spotify.com/playlist/1X2V76tfpwpu9IccDFE3um?si=12e4c0972bb24741\n",
    "\n",
    "id_of_playlists = [\"https://open.spotify.com/playlist/1X2V76tfpwpu9IccDFE3um?si=12e4c0972bb24741\"]\n",
    "\n",
    "playlist_cut = [cuts[34:56] for cuts in id_of_playlists]\n",
    "print(playlist_cut)"
   ]
  },
  {
   "cell_type": "code",
   "execution_count": 26,
   "id": "76564f39",
   "metadata": {
    "ExecuteTime": {
     "end_time": "2022-12-22T03:16:04.152644Z",
     "start_time": "2022-12-22T03:16:04.143264Z"
    },
    "code_folding": []
   },
   "outputs": [],
   "source": [
    "def get_the_playlists_info_with_song_id(the_playlist):\n",
    "    song_ids = []\n",
    "    play_offset =0\n",
    "    playlist_info = {}   \n",
    "    \n",
    "    playlist_songs = client.playlist_items(the_playlist, as_tracks=False, offset=play_offset)\n",
    "    full_list = playlist_songs.total\n",
    "\n",
    "    while full_list != len(playlist_info):\n",
    "        for songs in playlist_songs.items:\n",
    "            song_name = songs.track.name\n",
    "            song_artist = songs.track.artists[0].name\n",
    "            song_id = songs.track.id\n",
    "            song_ids.append(song_id)\n",
    "            playlist_info.update({song_name: song_artist})\n",
    "        play_offset+=100\n",
    "        playlist_songs = client.playlist_items(the_playlist, as_tracks=False, offset=play_offset)\n",
    "    return playlist_info, song_ids\n",
    "\n",
    "#gtpiwsi \n",
    "\n",
    "def get_song_id(the_playlist):\n",
    "    song_ids = []\n",
    "    play_offset =0 \n",
    "    \n",
    "    playlist_songs = client.playlist_items(the_playlist, as_tracks=False, offset=play_offset)\n",
    "    full_list = playlist_songs.total\n",
    "\n",
    "    while full_list != len(playlist_info):\n",
    "        for songs in playlist_songs.items:\n",
    "            song_id = songs.track.id\n",
    "            song_ids.append(song_id)\n",
    "            #print(song_id)\n",
    "        play_offset+=100\n",
    "        playlist_songs = client.playlist_items(the_playlist, as_tracks=False, offset=play_offset)\n",
    "    return song_ids"
   ]
  },
  {
   "cell_type": "code",
   "execution_count": null,
   "id": "96835ae5",
   "metadata": {
    "ExecuteTime": {
     "end_time": "2022-12-22T02:27:30.788559Z",
     "start_time": "2022-12-22T02:27:30.785100Z"
    }
   },
   "outputs": [],
   "source": []
  },
  {
   "cell_type": "code",
   "execution_count": null,
   "id": "6e40ded7",
   "metadata": {},
   "outputs": [],
   "source": [
    "\n",
    "\n",
    "\n",
    "# The song you want to check for\n",
    "song_id = \"song-id\"\n",
    "\n",
    "# Iterate through the playlists and check if the song is present in each one\n",
    "for playlist in playlists.items:\n",
    "    # Get the full playlist object\n",
    "    full_playlist = spotify.playlist(playlist.id)\n",
    "\n",
    "    # Iterate through the tracks in the playlist\n",
    "    for track in full_playlist.tracks.items:\n",
    "        # Check if the song is present in the playlist\n",
    "        if track.track.id == song_id:\n",
    "            print(f\"The song with ID {song_id} is present in the playlist {playlist.name}\")\n",
    "            break\n",
    "    else:\n",
    "        print(f\"The song with ID {song_id} is not present in the playlist {playlist.name}\")\n"
   ]
  }
 ],
 "metadata": {
  "kernelspec": {
   "display_name": "Python 3 (ipykernel)",
   "language": "python",
   "name": "python3"
  },
  "language_info": {
   "codemirror_mode": {
    "name": "ipython",
    "version": 3
   },
   "file_extension": ".py",
   "mimetype": "text/x-python",
   "name": "python",
   "nbconvert_exporter": "python",
   "pygments_lexer": "ipython3",
   "version": "3.10.8"
  }
 },
 "nbformat": 4,
 "nbformat_minor": 5
}
